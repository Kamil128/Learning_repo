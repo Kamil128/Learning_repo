{
 "cells": [
  {
   "cell_type": "code",
   "execution_count": null,
   "metadata": {},
   "outputs": [],
   "source": [
    "%matplotlib inline\n",
    "import matplotlib.pyplot as plt\n",
    "import ipywidgets as widgets\n",
    "import pandas as pd\n",
    "import numpy as np\n",
    "\n",
    "from IPython.display import Math, clear_output"
   ]
  },
  {
   "cell_type": "code",
   "execution_count": null,
   "metadata": {},
   "outputs": [],
   "source": [
    "def linear_function(theta, x):\n",
    "    return theta[0] + theta[1] * x\n",
    "\n",
    "def plot_function(theta, X, color):\n",
    "    X_new = [min(X) - 1, max(X) + 1]\n",
    "    y_new = [linear_function(theta, x) for x in X_new]\n",
    "    plt.plot(X_new, y_new, linewidth=2, color=color)\n",
    "\n",
    "def plot_points(X, y):\n",
    "    plt.figure(figsize=(20, 10))\n",
    "    plt.scatter(X, y, s=200)\n",
    "    plt.xlabel(\"Liczba pożarów\")\n",
    "    plt.ylabel(\"Liczba włamań\")"
   ]
  },
  {
   "cell_type": "code",
   "execution_count": null,
   "metadata": {},
   "outputs": [],
   "source": [
    "# w powyższych komórkach nic nie zmieniamy"
   ]
  },
  {
   "cell_type": "markdown",
   "metadata": {},
   "source": [
    "## Regresja liniowa\n",
    "\n",
    "Plik `fires_thefts.csv` zawiera rzeczywiste dane zebrane przez _U.S. Commission on Civil Rights_, przedstawiające liczbę pożarów w danej dzielnicy na tysiąc gospodarstw domowych (pierwsza kolumna) oraz liczbę włamań w tej samej dzielnicy na tysiąc mieszkańców (druga kolumna). Celem jest stworzenie modelu przewidującego liczbę włamań na podstawie liczby pożarów."
   ]
  },
  {
   "cell_type": "markdown",
   "metadata": {},
   "source": [
    "### Zadanie 1\n",
    "\n",
    "Odpowiedz na pytanie: jak będą wyglądały kolejne kroki metody gradientu prostego, gdy okaże się, że w pierwszym kroku współczynniki theta zostały zainicjalizowane wartościami wskazującymi na minimum lokalne?"
   ]
  },
  {
   "cell_type": "markdown",
   "metadata": {},
   "source": [
    "#### Odp."
   ]
  },
  {
   "cell_type": "markdown",
   "metadata": {},
   "source": [
    "### Zadanie 2\n",
    "\n",
    "Wczytaj dane z pliku, a następnie stwórz zmienne X i y oraz przypisz im odpowiednie wartości."
   ]
  },
  {
   "cell_type": "code",
   "execution_count": null,
   "metadata": {},
   "outputs": [],
   "source": []
  },
  {
   "cell_type": "markdown",
   "metadata": {},
   "source": [
    "### Zadanie 3\n",
    "\n",
    "Dokończ implementację funkcji J, która jest funkcją kosztu i realizuję metodę najmniejszych kwadratów. dla przypomnienia, jej wzór wygląda następująco:\n",
    "\n",
    "$$\\begin{array}{rll} J(\\theta) &=& \\dfrac{1}{2m} \\displaystyle\\sum_{i=1}^{m} \\left(h_{\\theta}(x^{(i)})  - y^{(i)}\\right)^2\n",
    "\\end{array} $$\n",
    "\n",
    "gdzie $m$ - liczba przykładów w zestawie danych"
   ]
  },
  {
   "cell_type": "code",
   "execution_count": null,
   "metadata": {},
   "outputs": [],
   "source": [
    "def J(h, theta, X, y):\n",
    "    # h to funkcja\n",
    "    # theta to lista współczynników: [theta_0, theta_1]\n",
    "    # X i y to zmienne przechowujące dane\n",
    "    # wywołanie tej funkcji w sposób J(linear_function, [1, 2], X, y) powinno zwrócić wartość 228.41857142857137\n",
    "    pass"
   ]
  },
  {
   "cell_type": "markdown",
   "metadata": {},
   "source": [
    "### Zadanie 4\n",
    "\n",
    "Dobierz ręcznie, przy pomocy poniższych widgetów (nie zmieniając kodu) parametry theta w taki sposób, by wartość funkcji kosztu była możliwie jak najmniejsza"
   ]
  },
  {
   "cell_type": "code",
   "execution_count": null,
   "metadata": {},
   "outputs": [],
   "source": [
    "slider_theta_0 = widgets.FloatSlider(min=-20, max=20, step=0.1, value=0, description=r'theta0', layout={'width': \"auto\"})\n",
    "slider_theta_1 = widgets.FloatSlider(min=-20, max=20, step=0.1, value=0, description=r'theta1', layout={'width': \"auto\"})\n",
    "out = widgets.Output()\n",
    "button = widgets.Button(width=100, description=\"Show\")\n",
    "\n",
    "def btn_event_handler(event):\n",
    "    with out:\n",
    "        clear_output(wait=True)\n",
    "        plot_points(X, y)\n",
    "        plot_function([slider_theta_0.value, slider_theta_1.value], X, 'r')\n",
    "        plt.show()\n",
    "        display(Math(rf\"\\Large J(\\theta) = {J(linear_function, [slider_theta_0.value, slider_theta_1.value], X, y):.4f}\"))\n",
    "        \n",
    "        \n",
    "with out:\n",
    "    plot_points(X, y)\n",
    "    plt.show()\n",
    "\n",
    "button.on_click(btn_event_handler)\n",
    "display(widgets.VBox([slider_theta_0, slider_theta_1, button]))\n",
    "display(out)"
   ]
  },
  {
   "cell_type": "markdown",
   "metadata": {},
   "source": [
    "### Zadanie 5\n",
    "\n",
    "Wytrenuj na tych danych model regresji liniowej"
   ]
  },
  {
   "cell_type": "code",
   "execution_count": null,
   "metadata": {},
   "outputs": [],
   "source": []
  },
  {
   "cell_type": "markdown",
   "metadata": {},
   "source": [
    "### Zadanie 6\n",
    "\n",
    "Korzystając z zaimplementowanych wyżej funkcji oraz współczynników wytrenowanego modelu nanieś na wykres prostę regresyjną i oblicz wartość funkcji kosztu dla tych współczynników. Spójrz, jak daleko byłeś od idealnego rozwiązania dobierając parametry ręcznie."
   ]
  },
  {
   "cell_type": "code",
   "execution_count": null,
   "metadata": {},
   "outputs": [],
   "source": []
  },
  {
   "cell_type": "markdown",
   "metadata": {},
   "source": [
    "### Zadanie 7\n",
    "\n",
    "Wykorzystując uzyskany model regresyjny przepowiedz liczbę włamań na tysiąc mieszkańców dla dzielnic, w których występują średnio kolejno: 10, 20 i 50 pożarów na tysiąc gospodarstw domowych."
   ]
  },
  {
   "cell_type": "code",
   "execution_count": null,
   "metadata": {},
   "outputs": [],
   "source": []
  },
  {
   "cell_type": "markdown",
   "metadata": {},
   "source": [
    "### Zadanie 8\n",
    "\n",
    "Wytrenuj model regresyjny drzewa decyzyjnego i dokonaj predykcji dla tych samych wartości pożarów na tysiąc gospodarstw domowych co wyżej. Porównaj otrzymane wyniki."
   ]
  },
  {
   "cell_type": "code",
   "execution_count": null,
   "metadata": {},
   "outputs": [],
   "source": []
  },
  {
   "cell_type": "markdown",
   "metadata": {},
   "source": [
    "### Zadanie 9\n",
    "\n",
    "Potrafimy wytrenować model i dokonać predykcji dla przykładowych danych. Ale skąd mamy wiedzieć, na ile jest on dobry? Zastanów się, w jaki sposób moglibyśmy zbadać skuteczność takiego modelu - jak sprawdzić, czy i jak często ma rację, albo się myli?"
   ]
  }
 ],
 "metadata": {
  "kernelspec": {
   "display_name": "Python 3 (ipykernel)",
   "language": "python",
   "name": "python3"
  },
  "language_info": {
   "codemirror_mode": {
    "name": "ipython",
    "version": 3
   },
   "file_extension": ".py",
   "mimetype": "text/x-python",
   "name": "python",
   "nbconvert_exporter": "python",
   "pygments_lexer": "ipython3",
   "version": "3.9.4"
  }
 },
 "nbformat": 4,
 "nbformat_minor": 4
}
