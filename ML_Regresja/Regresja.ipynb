{
 "cells": [
  {
   "cell_type": "markdown",
   "id": "6afe273f-afd7-48c9-8d66-abafadc11e18",
   "metadata": {
    "tags": []
   },
   "source": [
    "# Regresja Liniowa"
   ]
  },
  {
   "cell_type": "markdown",
   "id": "cba426e8-eeaa-4473-b28a-ffa878893466",
   "metadata": {
    "jp-MarkdownHeadingCollapsed": true,
    "tags": []
   },
   "source": [
    "### Generowanie danych"
   ]
  },
  {
   "cell_type": "code",
   "execution_count": null,
   "id": "5d946b0d-2e57-4ddb-a8f5-795e77bb2806",
   "metadata": {},
   "outputs": [],
   "source": [
    "import numpy as np\n",
    "import pandas as pd\n",
    "# 1d\n",
    "n = 100\n",
    "X = np.random.rand(n)\n",
    "y = 4 + 3*X + np.random.randn(n)\n",
    "pd.DataFrame({\"zmienna_1\": X, \"target\": y}).to_csv(\"dane_1.csv\", index=False)\n",
    "\n",
    "# 2d\n",
    "n = 100\n",
    "X1 = np.random.rand(n)\n",
    "X2 = np.random.rand(n)\n",
    "y = 4 -3*X1 + 5*X2 + np.random.randn(n) / 100\n",
    "pd.DataFrame({\"zmienna_1\": X1, \n",
    "              \"zmienna_2\": X2, \n",
    "              \"target\": y}).to_csv(\"dane_2.csv\", index=False)\n",
    "\n",
    "# non linear\n",
    "n = 1_000\n",
    "X = np.random.uniform(-10, 10, n)\n",
    "y =  X*X + 2*X -3 + 5 * np.random.randn(n)\n",
    "pd.DataFrame({\"zmienna_1\": X, \"target\": y}).to_csv(\"dane_sq.csv\", index=False)\n",
    "\n",
    "n = 100\n",
    "X = np.random.uniform(-10, 10, n)\n",
    "y =  X**3 + 3*X*X + 2*X -3 + 50 * np.random.randn(n)\n",
    "pd.DataFrame({\"zmienna_1\": X, \"target\": y}).to_csv(\"dane_cb.csv\", index=False)\n",
    "\n",
    "n = 10\n",
    "X = np.random.uniform(-10, 10, n)\n",
    "y =  0.2*X -3 + 10* np.random.randn(n)\n",
    "pd.DataFrame({\"zmienna_1\": X, \"target\": y}).to_csv(\"dane_pl.csv\", index=False)"
   ]
  },
  {
   "cell_type": "code",
   "execution_count": null,
   "id": "bb7fc1eb-6d27-43b7-ae06-afd94bcb2983",
   "metadata": {},
   "outputs": [],
   "source": []
  },
  {
   "cell_type": "markdown",
   "id": "1cd34857-f503-46f7-a2da-f727b82949dd",
   "metadata": {
    "jp-MarkdownHeadingCollapsed": true,
    "tags": []
   },
   "source": [
    "### Regresja jednowymiarowa"
   ]
  },
  {
   "cell_type": "code",
   "execution_count": null,
   "id": "6cce148b-bb0e-4140-b5d9-2c5493fbb7c5",
   "metadata": {
    "tags": []
   },
   "outputs": [],
   "source": [
    "import pandas as pd\n",
    "\n",
    "df = pd.read_csv(\"dane_1.csv\")\n",
    "df['intercept'] = 1\n",
    "df"
   ]
  },
  {
   "cell_type": "code",
   "execution_count": null,
   "id": "caef220c-cebb-43e1-a200-60df34783902",
   "metadata": {},
   "outputs": [],
   "source": [
    "X = df[['zmienna_1', 'intercept']].values\n",
    "y = df[['target']].values"
   ]
  },
  {
   "cell_type": "markdown",
   "id": "236c5fb5-ca8b-40f7-b77a-b879bd96ac22",
   "metadata": {},
   "source": [
    "$\\hat{\\theta} = (X^T \\cdot X) ^ {-1} \\cdot X^T \\cdot y$"
   ]
  },
  {
   "cell_type": "code",
   "execution_count": null,
   "id": "62909193-341f-48d0-820c-832c692e3e38",
   "metadata": {},
   "outputs": [],
   "source": [
    "theta = np.linalg.inv(X.T.dot(X)).dot(X.T).dot(y)\n",
    "theta"
   ]
  },
  {
   "cell_type": "code",
   "execution_count": null,
   "id": "367beed6-a534-4943-8201-357aa7085f29",
   "metadata": {},
   "outputs": [],
   "source": [
    "y_pred = theta[1] + theta[0] * df['zmienna_1']"
   ]
  },
  {
   "cell_type": "code",
   "execution_count": null,
   "id": "b02d7a08-0caf-4b0a-9f17-36e3ddd5199c",
   "metadata": {},
   "outputs": [],
   "source": [
    "y_pred = theta[1] + theta[0] * df['zmienna_1']\n",
    "plt.scatter(df['zmienna_1'], df['target'], alpha=0.3)\n",
    "plt.plot(df['zmienna_1'], y_pred, c='red')\n",
    "plt.show()"
   ]
  },
  {
   "cell_type": "markdown",
   "id": "984724ef-3dd9-4a98-bb89-0f83879d9ea0",
   "metadata": {
    "jp-MarkdownHeadingCollapsed": true,
    "tags": []
   },
   "source": [
    "### Metoda najmniejszych kwadratów `statsmodel`"
   ]
  },
  {
   "cell_type": "markdown",
   "id": "95a87f6d-83f5-4553-b97a-de20087d815b",
   "metadata": {},
   "source": [
    "http://net-informations.com/ds/mla/ols.htm"
   ]
  },
  {
   "cell_type": "code",
   "execution_count": 4,
   "id": "08d4193a-8356-4449-8f77-151f860c94b9",
   "metadata": {
    "collapsed": true,
    "jupyter": {
     "outputs_hidden": true
    },
    "tags": []
   },
   "outputs": [
    {
     "name": "stdout",
     "output_type": "stream",
     "text": [
      "Collecting statsmodels\n",
      "  Downloading statsmodels-0.13.2-cp39-cp39-macosx_10_9_x86_64.whl (9.6 MB)\n",
      "\u001b[2K     \u001b[90m━━━━━━━━━━━━━━━━━━━━━━━━━━━━━━━━━━━━━━━━\u001b[0m \u001b[32m9.6/9.6 MB\u001b[0m \u001b[31m23.3 MB/s\u001b[0m eta \u001b[36m0:00:00\u001b[0m00:01\u001b[0m00:01\u001b[0m\n",
      "\u001b[?25hRequirement already satisfied: packaging>=21.3 in /Users/kamilpabijan/Documents/SDA/Learning_repo/venv_app/lib/python3.9/site-packages (from statsmodels) (21.3)\n",
      "Requirement already satisfied: scipy>=1.3 in /Users/kamilpabijan/Documents/SDA/Learning_repo/venv_app/lib/python3.9/site-packages (from statsmodels) (1.8.0)\n",
      "Requirement already satisfied: numpy>=1.17 in /Users/kamilpabijan/Documents/SDA/Learning_repo/venv_app/lib/python3.9/site-packages (from statsmodels) (1.22.3)\n",
      "Collecting patsy>=0.5.2\n",
      "  Downloading patsy-0.5.2-py2.py3-none-any.whl (233 kB)\n",
      "\u001b[2K     \u001b[90m━━━━━━━━━━━━━━━━━━━━━━━━━━━━━━━━━━━━━━━\u001b[0m \u001b[32m233.7/233.7 KB\u001b[0m \u001b[31m8.4 MB/s\u001b[0m eta \u001b[36m0:00:00\u001b[0m\n",
      "\u001b[?25hRequirement already satisfied: pandas>=0.25 in /Users/kamilpabijan/Documents/SDA/Learning_repo/venv_app/lib/python3.9/site-packages (from statsmodels) (1.4.2)\n",
      "Requirement already satisfied: pyparsing!=3.0.5,>=2.0.2 in /Users/kamilpabijan/Documents/SDA/Learning_repo/venv_app/lib/python3.9/site-packages (from packaging>=21.3->statsmodels) (3.0.7)\n",
      "Requirement already satisfied: pytz>=2020.1 in /Users/kamilpabijan/Documents/SDA/Learning_repo/venv_app/lib/python3.9/site-packages (from pandas>=0.25->statsmodels) (2022.1)\n",
      "Requirement already satisfied: python-dateutil>=2.8.1 in /Users/kamilpabijan/Documents/SDA/Learning_repo/venv_app/lib/python3.9/site-packages (from pandas>=0.25->statsmodels) (2.8.2)\n",
      "Requirement already satisfied: six in /Users/kamilpabijan/Documents/SDA/Learning_repo/venv_app/lib/python3.9/site-packages (from patsy>=0.5.2->statsmodels) (1.16.0)\n",
      "Installing collected packages: patsy, statsmodels\n",
      "Successfully installed patsy-0.5.2 statsmodels-0.13.2\n"
     ]
    }
   ],
   "source": [
    "!pip install statsmodels"
   ]
  },
  {
   "cell_type": "code",
   "execution_count": 5,
   "id": "87f57b7b-0ac5-403e-a87f-65cf27fa1d85",
   "metadata": {
    "collapsed": true,
    "jupyter": {
     "outputs_hidden": true
    },
    "tags": []
   },
   "outputs": [
    {
     "name": "stdout",
     "output_type": "stream",
     "text": [
      "                            OLS Regression Results                            \n",
      "==============================================================================\n",
      "Dep. Variable:                  Price   R-squared:                       0.321\n",
      "Model:                            OLS   Adj. R-squared:                  0.300\n",
      "Method:                 Least Squares   F-statistic:                     15.15\n",
      "Date:                Sun, 10 Apr 2022   Prob (F-statistic):           0.000474\n",
      "Time:                        22:48:41   Log-Likelihood:                -111.50\n",
      "No. Observations:                  34   AIC:                             227.0\n",
      "Df Residuals:                      32   BIC:                             230.0\n",
      "Df Model:                           1                                         \n",
      "Covariance Type:            nonrobust                                         \n",
      "================================================================================\n",
      "                   coef    std err          t      P>|t|      [0.025      0.975]\n",
      "--------------------------------------------------------------------------------\n",
      "const          -23.9019     17.718     -1.349      0.187     -59.992      12.188\n",
      "Food_Quality     3.2495      0.835      3.892      0.000       1.549       4.950\n",
      "==============================================================================\n",
      "Omnibus:                        5.680   Durbin-Watson:                   1.837\n",
      "Prob(Omnibus):                  0.058   Jarque-Bera (JB):                4.769\n",
      "Skew:                           0.507   Prob(JB):                       0.0922\n",
      "Kurtosis:                       4.529   Cond. No.                         332.\n",
      "==============================================================================\n",
      "\n",
      "Notes:\n",
      "[1] Standard Errors assume that the covariance matrix of the errors is correctly specified.\n"
     ]
    }
   ],
   "source": [
    "import pandas\n",
    "import statsmodels.api as sm\n",
    "df = pandas.read_csv(\"restaurants.csv\")\n",
    "X = df['Food_Quality']\n",
    "Y = df['Price']\n",
    "X = sm.add_constant(X)\n",
    "model = sm.OLS(Y, X).fit()\n",
    "summary = model.summary()\n",
    "print(summary)"
   ]
  },
  {
   "cell_type": "markdown",
   "id": "69716f84-eb4e-4935-bde1-9f1f8a92e403",
   "metadata": {
    "jp-MarkdownHeadingCollapsed": true,
    "tags": []
   },
   "source": [
    "### Regresja wielowymiarowa"
   ]
  },
  {
   "cell_type": "code",
   "execution_count": null,
   "id": "b5147bf9-d97d-4d3d-960b-df68de23a87b",
   "metadata": {},
   "outputs": [],
   "source": [
    "import pandas as pd\n",
    "\n",
    "df = pd.read_csv(\"dane_2.csv\")\n",
    "df['intercept'] = 1\n",
    "df"
   ]
  },
  {
   "cell_type": "code",
   "execution_count": null,
   "id": "e47e604e-7e99-4d8e-b9bb-750d18a57bd7",
   "metadata": {},
   "outputs": [],
   "source": [
    "X = df[['zmienna_1', 'zmienna_2', 'intercept']].values\n",
    "y = df[['target']].values"
   ]
  },
  {
   "cell_type": "code",
   "execution_count": null,
   "id": "5358df2d-47c8-4452-ac3d-ada8bfbedc71",
   "metadata": {},
   "outputs": [],
   "source": [
    "theta = np.linalg.inv(X.T.dot(X)).dot(X.T).dot(y)\n",
    "theta"
   ]
  },
  {
   "cell_type": "code",
   "execution_count": null,
   "id": "373d1683-ddf5-4706-a58b-b134b6e18bde",
   "metadata": {
    "tags": []
   },
   "outputs": [],
   "source": [
    "fig = plt.figure(figsize=(10, 10))\n",
    "ax = fig.add_subplot(111, projection='3d')\n",
    "ax.scatter(df['zmienna_1'], df['target'], df['zmienna_2'])\n",
    "\n",
    "x = df['zmienna_1'].values\n",
    "z = df['zmienna_2'].values\n",
    "\n",
    "(xx, zz) = np.meshgrid(np.arange(x.min(), x.max(), 0.01), np.arange(z.min(), z.max(), 0.01))\n",
    "y = xx + zz\n",
    "\n",
    "# x = np.array([[1, 3], [2, 4]])\n",
    "# y = np.array([[5, 6], [7, 8]])\n",
    "# z = np.array([[9, 12], [10, 11]])\n",
    "\n",
    "ax.plot_surface(xx, zz, y, alpha=0.3)\n"
   ]
  },
  {
   "cell_type": "markdown",
   "id": "360b89d6-e49a-4e3b-8a7e-0d410c249d3a",
   "metadata": {
    "jp-MarkdownHeadingCollapsed": true,
    "tags": []
   },
   "source": [
    "### Feature selection - backward elimination"
   ]
  },
  {
   "cell_type": "markdown",
   "id": "e86ab8a0-7047-47c2-9b53-7e017ea05683",
   "metadata": {
    "jp-MarkdownHeadingCollapsed": true,
    "tags": []
   },
   "source": [
    "### Regresja wielomianowa"
   ]
  },
  {
   "cell_type": "code",
   "execution_count": null,
   "id": "bca426dc-f06e-4fc2-8601-9673348ef3d9",
   "metadata": {},
   "outputs": [],
   "source": [
    "import pandas as pd\n",
    "\n",
    "df = pd.read_csv(\"dane_sq.csv\")\n",
    "df['intercept'] = 1"
   ]
  },
  {
   "cell_type": "code",
   "execution_count": null,
   "id": "7c900075-9297-4d5b-9c7a-ea812f28f9da",
   "metadata": {},
   "outputs": [],
   "source": [
    "X = df[['zmienna_1', 'intercept']].values\n",
    "y = df[['target']].values"
   ]
  },
  {
   "cell_type": "code",
   "execution_count": null,
   "id": "30a56a00-5518-4f2e-b27c-985c4d5d7b32",
   "metadata": {},
   "outputs": [],
   "source": [
    "theta = np.linalg.inv(X.T.dot(X)).dot(X.T).dot(y)\n",
    "theta"
   ]
  },
  {
   "cell_type": "code",
   "execution_count": null,
   "id": "964d6477-70da-457d-a3d6-89e736cc5527",
   "metadata": {},
   "outputs": [],
   "source": [
    "y_pred = theta[1] + theta[0] * df['zmienna_1']\n",
    "plt.scatter(df['zmienna_1'], df['target'], alpha=0.3)\n",
    "plt.plot(df['zmienna_1'], y_pred, c='red')\n",
    "plt.show()"
   ]
  },
  {
   "cell_type": "code",
   "execution_count": null,
   "id": "a3c3796c-f2e8-45c6-9796-7369a2436a33",
   "metadata": {},
   "outputs": [],
   "source": [
    "from sklearn.linear_model import LinearRegression\n",
    "import pandas as pd\n",
    "\n",
    "df = pd.read_csv(\"dane_sq.csv\")\n",
    "\n",
    "X = df[['zmienna_1']].values\n",
    "y = df[['target']].values\n",
    "\n",
    "model = LinearRegression()\n",
    "model.fit(X, y)"
   ]
  },
  {
   "cell_type": "code",
   "execution_count": null,
   "id": "62c6414a-64aa-42e5-8e99-df255e148019",
   "metadata": {},
   "outputs": [],
   "source": [
    "print(f\"Coeficients: {model.coef_}\")\n",
    "print(f\"Intercept:   {model.intercept_}\")"
   ]
  },
  {
   "cell_type": "code",
   "execution_count": null,
   "id": "268a780a-f980-4d02-9429-2e72cd89d623",
   "metadata": {},
   "outputs": [],
   "source": [
    "y_pred = model.predict(X)\n",
    "plt.scatter(df['zmienna_1'], df['target'], alpha=0.3)\n",
    "plt.plot(df['zmienna_1'], y_pred, c='red')\n",
    "plt.show()"
   ]
  },
  {
   "cell_type": "code",
   "execution_count": null,
   "id": "6068707f-2ad5-4f17-aeec-a89a40651446",
   "metadata": {},
   "outputs": [],
   "source": [
    "from sklearn.preprocessing import PolynomialFeatures\n",
    "from sklearn.linear_model import LinearRegression\n",
    "import pandas as pd\n",
    "\n",
    "df = pd.read_csv(\"dane_sq.csv\")\n",
    "X = df[['zmienna_1']].values\n",
    "y = df[['target']].values"
   ]
  },
  {
   "cell_type": "code",
   "execution_count": null,
   "id": "ac2aec4d-2e7c-4093-b7e1-5652f3981aa7",
   "metadata": {},
   "outputs": [],
   "source": [
    "X_poly = PolynomialFeatures(degree=2, include_bias=False).fit_transform(X)"
   ]
  },
  {
   "cell_type": "code",
   "execution_count": null,
   "id": "c52e1a33-11a0-4a12-988b-3728368e0cf3",
   "metadata": {},
   "outputs": [],
   "source": [
    "model = LinearRegression()\n",
    "model.fit(X_poly, y)\n",
    "\n",
    "print(f\"Coeficients: {model.coef_}\")\n",
    "print(f\"Intercept:   {model.intercept_}\")"
   ]
  },
  {
   "cell_type": "code",
   "execution_count": null,
   "id": "e6edc1b6-b674-4eb6-ab4c-28720577eb84",
   "metadata": {},
   "outputs": [],
   "source": [
    "y_pred = model.predict(X_poly)\n",
    "plt.scatter(df['zmienna_1'], df['target'], alpha=0.3)\n",
    "plt.scatter(df['zmienna_1'], y_pred, c='red', s=0.5)\n",
    "plt.show()"
   ]
  },
  {
   "cell_type": "code",
   "execution_count": null,
   "id": "6bb67dcc-0128-462f-988e-654beaf7cf23",
   "metadata": {},
   "outputs": [],
   "source": [
    "df = pd.read_csv(\"dane_pl.csv\").sort_values('zmienna_1')\n",
    "X = df[['zmienna_1']].values\n",
    "y = df[['target']].values\n",
    "\n",
    "poly = PolynomialFeatures(degree=10, include_bias=False)\n",
    "X_poly = poly.fit_transform(X)\n",
    "\n",
    "model = LinearRegression()\n",
    "model.fit(X_poly, y)\n",
    "\n",
    "print(f\"Coeficients: {model.coef_}\")\n",
    "print(f\"Intercept:   {model.intercept_}\")\n",
    "\n",
    "y_pred = model.predict(X_poly)\n",
    "\n",
    "plt.scatter(df['zmienna_1'], y_pred, c='red', alpha=0.3, marker='s', s=100)\n",
    "\n",
    "xt = np.linspace(X.min(), X.max(), 100).reshape(-1, 1)\n",
    "yt = model.predict(poly.transform(xt))\n",
    "plt.plot(xt, yt, c='red')\n",
    "\n",
    "plt.scatter(df['zmienna_1'], df['target'], color='black')\n",
    "\n",
    "plt.show()"
   ]
  },
  {
   "cell_type": "code",
   "execution_count": null,
   "id": "232f3e68-7828-4c3e-aea5-2c5d6f14ea1b",
   "metadata": {},
   "outputs": [],
   "source": []
  },
  {
   "cell_type": "markdown",
   "id": "cb63eeb3-d5a0-4e51-bc6a-fe291555633c",
   "metadata": {
    "jp-MarkdownHeadingCollapsed": true,
    "tags": []
   },
   "source": [
    "### Gradient prosty"
   ]
  },
  {
   "cell_type": "code",
   "execution_count": null,
   "id": "2c177ff6-9a71-45ea-be37-3a70e4db252a",
   "metadata": {},
   "outputs": [],
   "source": [
    "import pandas as pd\n",
    "\n",
    "df = pd.read_csv(\"dane_1.csv\")\n",
    "df['intercept'] = 1\n",
    "X = df[['zmienna_1', 'intercept']].values\n",
    "y = df[['target']].values"
   ]
  },
  {
   "cell_type": "code",
   "execution_count": null,
   "id": "dc442709-8789-4fa4-94c9-35ab84a8c6e9",
   "metadata": {
    "tags": []
   },
   "outputs": [],
   "source": [
    "eta = 0.1  # learning rate\n",
    "n_iterations = 20\n",
    "m = df.shape[0]\n",
    "\n",
    "theta = np.random.randn(2,1)  # random initialization\n",
    "\n",
    "plt.figure(figsize=(10, 7))\n",
    "plt.scatter(df['zmienna_1'], df['target'], alpha=0.3)\n",
    "\n",
    "for iteration in range(n_iterations):\n",
    "    gradients = 2/m * X.T.dot(X.dot(theta) - y)\n",
    "    theta = theta - eta * gradients\n",
    "    \n",
    "    y_pred = theta[1] + theta[0] * df['zmienna_1']\n",
    "    plt.plot(df['zmienna_1'], y_pred, c='red', linewidth=0.5,\n",
    "             linestyle='--', alpha=0.5)\n",
    "\n",
    "plt.show()\n",
    "print(theta)"
   ]
  },
  {
   "cell_type": "code",
   "execution_count": null,
   "id": "5abc75ac-bc29-47f0-813e-0311b9a09777",
   "metadata": {},
   "outputs": [],
   "source": []
  }
 ],
 "metadata": {
  "kernelspec": {
   "display_name": "venv_app",
   "language": "python",
   "name": "venv_app"
  },
  "language_info": {
   "codemirror_mode": {
    "name": "ipython",
    "version": 3
   },
   "file_extension": ".py",
   "mimetype": "text/x-python",
   "name": "python",
   "nbconvert_exporter": "python",
   "pygments_lexer": "ipython3",
   "version": "3.9.4"
  }
 },
 "nbformat": 4,
 "nbformat_minor": 5
}
