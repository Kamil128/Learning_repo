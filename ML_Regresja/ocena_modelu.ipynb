{
 "cells": [
  {
   "cell_type": "markdown",
   "metadata": {},
   "source": [
    "## Regresja wielu zmiennych\n",
    "\n",
    "Będziemy tworzyli model regresji liniowej dla cen mieszkań w Poznaniu. Zestaw danych to 5000 aktualnych opisów z serwisu _gratka.pl_.\n",
    "\n",
    "\n",
    "### Dane\n",
    "\n",
    "Plik `gratkapl.csv` zawiera dane, na których należy zbudować model regresyjny.\n",
    "Pierwszy wiersz w pliku to nagłówek zawierający opisy kolumn.\n",
    "\n",
    "* Id - numer porządkowy oferty\n",
    "* Expected - cena mieszkania\n",
    "* Rooms - liczba pokoi\n",
    "* SqrMeters - metraż mieszkania w $m^2$\n",
    "* Floor - piętro\n",
    "* Location - dzielnica lub adres w Poznaniu\n",
    "* Description - fragment opisu mieszkania"
   ]
  },
  {
   "cell_type": "markdown",
   "metadata": {},
   "source": [
    "#### Zadanie 1\n",
    "\n",
    "Zaimplementuj poznane metryki: MAE, MSE oraz RMSE, a następnie porównaj poprawność swoich funkcji z tymi dostępnymi w bibliotece scikit-learn.\n",
    "Dla przypomnienia:\n",
    "\n",
    "$$\\begin{array}{rll} MAE &=& \\dfrac{1}{n} \\displaystyle\\sum_{i=1}^{n} \\left|y_i  - \\hat{y_i}\\right|\n",
    "\\end{array} $$\n",
    "\n",
    "$$\\begin{array}{rll} MSE &=& \\dfrac{1}{n} \\displaystyle\\sum_{i=1}^{n} {\\left(y_i  - \\hat{y_i}\\right)}^2\n",
    "\\end{array} $$\n",
    "\n",
    "$$\\begin{array}{rll} RMSE &=& \\sqrt{\\dfrac{1}{n} \\displaystyle\\sum_{i=1}^{n} {\\left(y_i  - \\hat{y_i}\\right)}^2}\n",
    "\\end{array} $$"
   ]
  },
  {
   "cell_type": "code",
   "execution_count": null,
   "metadata": {
    "collapsed": true
   },
   "outputs": [],
   "source": [
    "def mae(y_true, y_pred):\n",
    "    pass"
   ]
  },
  {
   "cell_type": "code",
   "execution_count": null,
   "metadata": {
    "collapsed": true
   },
   "outputs": [],
   "source": [
    "def mse(y_true, y_pred):\n",
    "    pass"
   ]
  },
  {
   "cell_type": "code",
   "execution_count": null,
   "metadata": {
    "collapsed": true
   },
   "outputs": [],
   "source": [
    "def rmse(y_true, y_pred):\n",
    "    pass"
   ]
  },
  {
   "cell_type": "code",
   "execution_count": null,
   "metadata": {
    "collapsed": true
   },
   "outputs": [],
   "source": [
    "from sklearn.metrics import mean_absolute_error, mean_squared_error\n",
    "\n",
    "y = [100, 103, 30, 28]\n",
    "pred_y = [92, 112, 19, 42]\n",
    "\n",
    "assert mae(y, pred_y) == mean_absolute_error(y, pred_y)\n",
    "assert mse(y, pred_y) == mean_squared_error(y, pred_y)\n"
   ]
  },
  {
   "cell_type": "markdown",
   "metadata": {},
   "source": [
    "#### Zadanie 2\n",
    "\n",
    "Dla pierwszych 500 mieszkań stwórz wykres złożony z trzech umieszczonych obok siebie wykresów punktowych ilustrujących po kolei korelację cech liczby pokoi, metrażu i piętra mieszkania z ceną mieszkań. Zadbaj o poprawne tytuły na osiach. Opisz wnioski."
   ]
  },
  {
   "cell_type": "code",
   "execution_count": null,
   "metadata": {},
   "outputs": [],
   "source": []
  },
  {
   "cell_type": "markdown",
   "metadata": {},
   "source": [
    "#### Zadanie 3\n",
    "\n",
    "W dalszej części będziemy wykorzystywać jedynie zmienne numeryczne, tj. powierzchnię, numer piętra i liczbę pokoi. \n",
    "Podziel dane na zbiór uczący i testowy, zbuduj dwa modele regresyjne: linowy i drzewo decyzyjne, a następnie porównaj ich skuteczność korzystając z wybranej metryki."
   ]
  },
  {
   "cell_type": "code",
   "execution_count": null,
   "metadata": {},
   "outputs": [],
   "source": []
  },
  {
   "cell_type": "markdown",
   "metadata": {},
   "source": [
    "#### Zadanie 4\n",
    "\n",
    "Podziel dane na 3 zbiory: uczący, walidacyjny i testowy. Dla modelu drzewa decyzyjnego przetestuj różne wartości parametru `min_samples_split` ewaluując model na zbiorze walidacyjnym. Narysuj wykres jak wartość tego parametru wpływa na wartość wybranej metryki na zbiorze treningowym i walidacyjnym, a następnie wybierz optymalną wartość, policz wybraną metrykę dla zbioru testowego i porównaj z wynikiem otrzymanym w *Zadaniu 3*."
   ]
  },
  {
   "cell_type": "code",
   "execution_count": null,
   "metadata": {},
   "outputs": [],
   "source": []
  },
  {
   "cell_type": "markdown",
   "metadata": {},
   "source": [
    "#### Zadanie 5\n",
    "\n",
    "Przetestuj różne wartosci parametru `min_samples_split` raz jeszcze, tym razem przy użyciu walidacji krzyżowej. Po dobraniu odpowiedniej wartości przetrenuj jeszcze raz model na całym zbiorze treninggowym, a następnie porównaj wartość metrykki na zbiorze testowym z poprzednimi rezultatami. Czy wynik jest podobny, czy w obu przypadkach optymalna okazała się ta sama wartość parametru?"
   ]
  },
  {
   "cell_type": "code",
   "execution_count": null,
   "metadata": {},
   "outputs": [],
   "source": []
  }
 ],
 "metadata": {
  "kernelspec": {
   "display_name": "lin_reg_venv",
   "language": "python",
   "name": "lin_reg_venv"
  },
  "language_info": {
   "codemirror_mode": {
    "name": "ipython",
    "version": 3
   },
   "file_extension": ".py",
   "mimetype": "text/x-python",
   "name": "python",
   "nbconvert_exporter": "python",
   "pygments_lexer": "ipython3",
   "version": "3.7.9"
  }
 },
 "nbformat": 4,
 "nbformat_minor": 2
}
