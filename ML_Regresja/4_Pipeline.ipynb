{
 "cells": [
  {
   "cell_type": "code",
   "execution_count": 1,
   "metadata": {
    "id": "mu4lhGEiIhWF"
   },
   "outputs": [],
   "source": [
    "import pandas as pd\n",
    "import numpy as np\n",
    "import matplotlib.pyplot as plt\n",
    "import matplotlib as mlp"
   ]
  },
  {
   "cell_type": "code",
   "execution_count": 2,
   "metadata": {
    "id": "xX5a2BguJRxG"
   },
   "outputs": [],
   "source": [
    "DATA_PATH = \"https://raw.githubusercontent.com/ageron/handson-ml2/master/datasets/housing/housing.csv\"\n",
    "\n",
    "df = pd.read_csv(DATA_PATH)"
   ]
  },
  {
   "cell_type": "code",
   "execution_count": 3,
   "metadata": {
    "colab": {
     "base_uri": "https://localhost:8080/",
     "height": 204
    },
    "id": "NHzOMUSGJaWE",
    "outputId": "78f8ccf9-0c89-4feb-856c-6270c46929f6"
   },
   "outputs": [
    {
     "data": {
      "text/html": [
       "<div>\n",
       "<style scoped>\n",
       "    .dataframe tbody tr th:only-of-type {\n",
       "        vertical-align: middle;\n",
       "    }\n",
       "\n",
       "    .dataframe tbody tr th {\n",
       "        vertical-align: top;\n",
       "    }\n",
       "\n",
       "    .dataframe thead th {\n",
       "        text-align: right;\n",
       "    }\n",
       "</style>\n",
       "<table border=\"1\" class=\"dataframe\">\n",
       "  <thead>\n",
       "    <tr style=\"text-align: right;\">\n",
       "      <th></th>\n",
       "      <th>longitude</th>\n",
       "      <th>latitude</th>\n",
       "      <th>housing_median_age</th>\n",
       "      <th>total_rooms</th>\n",
       "      <th>total_bedrooms</th>\n",
       "      <th>population</th>\n",
       "      <th>households</th>\n",
       "      <th>median_income</th>\n",
       "      <th>median_house_value</th>\n",
       "      <th>ocean_proximity</th>\n",
       "    </tr>\n",
       "  </thead>\n",
       "  <tbody>\n",
       "    <tr>\n",
       "      <th>0</th>\n",
       "      <td>-122.23</td>\n",
       "      <td>37.88</td>\n",
       "      <td>41.0</td>\n",
       "      <td>880.0</td>\n",
       "      <td>129.0</td>\n",
       "      <td>322.0</td>\n",
       "      <td>126.0</td>\n",
       "      <td>8.3252</td>\n",
       "      <td>452600.0</td>\n",
       "      <td>NEAR BAY</td>\n",
       "    </tr>\n",
       "    <tr>\n",
       "      <th>1</th>\n",
       "      <td>-122.22</td>\n",
       "      <td>37.86</td>\n",
       "      <td>21.0</td>\n",
       "      <td>7099.0</td>\n",
       "      <td>1106.0</td>\n",
       "      <td>2401.0</td>\n",
       "      <td>1138.0</td>\n",
       "      <td>8.3014</td>\n",
       "      <td>358500.0</td>\n",
       "      <td>NEAR BAY</td>\n",
       "    </tr>\n",
       "    <tr>\n",
       "      <th>2</th>\n",
       "      <td>-122.24</td>\n",
       "      <td>37.85</td>\n",
       "      <td>52.0</td>\n",
       "      <td>1467.0</td>\n",
       "      <td>190.0</td>\n",
       "      <td>496.0</td>\n",
       "      <td>177.0</td>\n",
       "      <td>7.2574</td>\n",
       "      <td>352100.0</td>\n",
       "      <td>NEAR BAY</td>\n",
       "    </tr>\n",
       "    <tr>\n",
       "      <th>3</th>\n",
       "      <td>-122.25</td>\n",
       "      <td>37.85</td>\n",
       "      <td>52.0</td>\n",
       "      <td>1274.0</td>\n",
       "      <td>235.0</td>\n",
       "      <td>558.0</td>\n",
       "      <td>219.0</td>\n",
       "      <td>5.6431</td>\n",
       "      <td>341300.0</td>\n",
       "      <td>NEAR BAY</td>\n",
       "    </tr>\n",
       "    <tr>\n",
       "      <th>4</th>\n",
       "      <td>-122.25</td>\n",
       "      <td>37.85</td>\n",
       "      <td>52.0</td>\n",
       "      <td>1627.0</td>\n",
       "      <td>280.0</td>\n",
       "      <td>565.0</td>\n",
       "      <td>259.0</td>\n",
       "      <td>3.8462</td>\n",
       "      <td>342200.0</td>\n",
       "      <td>NEAR BAY</td>\n",
       "    </tr>\n",
       "  </tbody>\n",
       "</table>\n",
       "</div>"
      ],
      "text/plain": [
       "   longitude  latitude  housing_median_age  total_rooms  total_bedrooms  \\\n",
       "0    -122.23     37.88                41.0        880.0           129.0   \n",
       "1    -122.22     37.86                21.0       7099.0          1106.0   \n",
       "2    -122.24     37.85                52.0       1467.0           190.0   \n",
       "3    -122.25     37.85                52.0       1274.0           235.0   \n",
       "4    -122.25     37.85                52.0       1627.0           280.0   \n",
       "\n",
       "   population  households  median_income  median_house_value ocean_proximity  \n",
       "0       322.0       126.0         8.3252            452600.0        NEAR BAY  \n",
       "1      2401.0      1138.0         8.3014            358500.0        NEAR BAY  \n",
       "2       496.0       177.0         7.2574            352100.0        NEAR BAY  \n",
       "3       558.0       219.0         5.6431            341300.0        NEAR BAY  \n",
       "4       565.0       259.0         3.8462            342200.0        NEAR BAY  "
      ]
     },
     "execution_count": 3,
     "metadata": {},
     "output_type": "execute_result"
    }
   ],
   "source": [
    "df.head()"
   ]
  },
  {
   "cell_type": "code",
   "execution_count": 4,
   "metadata": {},
   "outputs": [
    {
     "data": {
      "text/html": [
       "<div>\n",
       "<style scoped>\n",
       "    .dataframe tbody tr th:only-of-type {\n",
       "        vertical-align: middle;\n",
       "    }\n",
       "\n",
       "    .dataframe tbody tr th {\n",
       "        vertical-align: top;\n",
       "    }\n",
       "\n",
       "    .dataframe thead th {\n",
       "        text-align: right;\n",
       "    }\n",
       "</style>\n",
       "<table border=\"1\" class=\"dataframe\">\n",
       "  <thead>\n",
       "    <tr style=\"text-align: right;\">\n",
       "      <th></th>\n",
       "      <th>longitude</th>\n",
       "      <th>latitude</th>\n",
       "      <th>housing_median_age</th>\n",
       "      <th>total_rooms</th>\n",
       "      <th>total_bedrooms</th>\n",
       "      <th>population</th>\n",
       "      <th>households</th>\n",
       "      <th>median_income</th>\n",
       "      <th>median_house_value</th>\n",
       "    </tr>\n",
       "  </thead>\n",
       "  <tbody>\n",
       "    <tr>\n",
       "      <th>count</th>\n",
       "      <td>20640.000000</td>\n",
       "      <td>20640.000000</td>\n",
       "      <td>20640.000000</td>\n",
       "      <td>20640.000000</td>\n",
       "      <td>20433.000000</td>\n",
       "      <td>20640.000000</td>\n",
       "      <td>20640.000000</td>\n",
       "      <td>20640.000000</td>\n",
       "      <td>20640.000000</td>\n",
       "    </tr>\n",
       "    <tr>\n",
       "      <th>mean</th>\n",
       "      <td>-119.569704</td>\n",
       "      <td>35.631861</td>\n",
       "      <td>28.639486</td>\n",
       "      <td>2635.763081</td>\n",
       "      <td>537.870553</td>\n",
       "      <td>1425.476744</td>\n",
       "      <td>499.539680</td>\n",
       "      <td>3.870671</td>\n",
       "      <td>206855.816909</td>\n",
       "    </tr>\n",
       "    <tr>\n",
       "      <th>std</th>\n",
       "      <td>2.003532</td>\n",
       "      <td>2.135952</td>\n",
       "      <td>12.585558</td>\n",
       "      <td>2181.615252</td>\n",
       "      <td>421.385070</td>\n",
       "      <td>1132.462122</td>\n",
       "      <td>382.329753</td>\n",
       "      <td>1.899822</td>\n",
       "      <td>115395.615874</td>\n",
       "    </tr>\n",
       "    <tr>\n",
       "      <th>min</th>\n",
       "      <td>-124.350000</td>\n",
       "      <td>32.540000</td>\n",
       "      <td>1.000000</td>\n",
       "      <td>2.000000</td>\n",
       "      <td>1.000000</td>\n",
       "      <td>3.000000</td>\n",
       "      <td>1.000000</td>\n",
       "      <td>0.499900</td>\n",
       "      <td>14999.000000</td>\n",
       "    </tr>\n",
       "    <tr>\n",
       "      <th>25%</th>\n",
       "      <td>-121.800000</td>\n",
       "      <td>33.930000</td>\n",
       "      <td>18.000000</td>\n",
       "      <td>1447.750000</td>\n",
       "      <td>296.000000</td>\n",
       "      <td>787.000000</td>\n",
       "      <td>280.000000</td>\n",
       "      <td>2.563400</td>\n",
       "      <td>119600.000000</td>\n",
       "    </tr>\n",
       "    <tr>\n",
       "      <th>50%</th>\n",
       "      <td>-118.490000</td>\n",
       "      <td>34.260000</td>\n",
       "      <td>29.000000</td>\n",
       "      <td>2127.000000</td>\n",
       "      <td>435.000000</td>\n",
       "      <td>1166.000000</td>\n",
       "      <td>409.000000</td>\n",
       "      <td>3.534800</td>\n",
       "      <td>179700.000000</td>\n",
       "    </tr>\n",
       "    <tr>\n",
       "      <th>75%</th>\n",
       "      <td>-118.010000</td>\n",
       "      <td>37.710000</td>\n",
       "      <td>37.000000</td>\n",
       "      <td>3148.000000</td>\n",
       "      <td>647.000000</td>\n",
       "      <td>1725.000000</td>\n",
       "      <td>605.000000</td>\n",
       "      <td>4.743250</td>\n",
       "      <td>264725.000000</td>\n",
       "    </tr>\n",
       "    <tr>\n",
       "      <th>max</th>\n",
       "      <td>-114.310000</td>\n",
       "      <td>41.950000</td>\n",
       "      <td>52.000000</td>\n",
       "      <td>39320.000000</td>\n",
       "      <td>6445.000000</td>\n",
       "      <td>35682.000000</td>\n",
       "      <td>6082.000000</td>\n",
       "      <td>15.000100</td>\n",
       "      <td>500001.000000</td>\n",
       "    </tr>\n",
       "  </tbody>\n",
       "</table>\n",
       "</div>"
      ],
      "text/plain": [
       "          longitude      latitude  housing_median_age   total_rooms  \\\n",
       "count  20640.000000  20640.000000        20640.000000  20640.000000   \n",
       "mean    -119.569704     35.631861           28.639486   2635.763081   \n",
       "std        2.003532      2.135952           12.585558   2181.615252   \n",
       "min     -124.350000     32.540000            1.000000      2.000000   \n",
       "25%     -121.800000     33.930000           18.000000   1447.750000   \n",
       "50%     -118.490000     34.260000           29.000000   2127.000000   \n",
       "75%     -118.010000     37.710000           37.000000   3148.000000   \n",
       "max     -114.310000     41.950000           52.000000  39320.000000   \n",
       "\n",
       "       total_bedrooms    population    households  median_income  \\\n",
       "count    20433.000000  20640.000000  20640.000000   20640.000000   \n",
       "mean       537.870553   1425.476744    499.539680       3.870671   \n",
       "std        421.385070   1132.462122    382.329753       1.899822   \n",
       "min          1.000000      3.000000      1.000000       0.499900   \n",
       "25%        296.000000    787.000000    280.000000       2.563400   \n",
       "50%        435.000000   1166.000000    409.000000       3.534800   \n",
       "75%        647.000000   1725.000000    605.000000       4.743250   \n",
       "max       6445.000000  35682.000000   6082.000000      15.000100   \n",
       "\n",
       "       median_house_value  \n",
       "count        20640.000000  \n",
       "mean        206855.816909  \n",
       "std         115395.615874  \n",
       "min          14999.000000  \n",
       "25%         119600.000000  \n",
       "50%         179700.000000  \n",
       "75%         264725.000000  \n",
       "max         500001.000000  "
      ]
     },
     "execution_count": 4,
     "metadata": {},
     "output_type": "execute_result"
    }
   ],
   "source": [
    "df.describe()"
   ]
  },
  {
   "cell_type": "markdown",
   "metadata": {},
   "source": [
    "# Data Structure"
   ]
  },
  {
   "cell_type": "code",
   "execution_count": 5,
   "metadata": {},
   "outputs": [
    {
     "name": "stdout",
     "output_type": "stream",
     "text": [
      "<class 'pandas.core.frame.DataFrame'>\n",
      "RangeIndex: 20640 entries, 0 to 20639\n",
      "Data columns (total 10 columns):\n",
      " #   Column              Non-Null Count  Dtype  \n",
      "---  ------              --------------  -----  \n",
      " 0   longitude           20640 non-null  float64\n",
      " 1   latitude            20640 non-null  float64\n",
      " 2   housing_median_age  20640 non-null  float64\n",
      " 3   total_rooms         20640 non-null  float64\n",
      " 4   total_bedrooms      20433 non-null  float64\n",
      " 5   population          20640 non-null  float64\n",
      " 6   households          20640 non-null  float64\n",
      " 7   median_income       20640 non-null  float64\n",
      " 8   median_house_value  20640 non-null  float64\n",
      " 9   ocean_proximity     20640 non-null  object \n",
      "dtypes: float64(9), object(1)\n",
      "memory usage: 1.6+ MB\n"
     ]
    }
   ],
   "source": [
    "df.info()"
   ]
  },
  {
   "cell_type": "code",
   "execution_count": 6,
   "metadata": {},
   "outputs": [],
   "source": [
    "df['ocean_proximity'] = df['ocean_proximity'].astype('category')"
   ]
  },
  {
   "cell_type": "code",
   "execution_count": 7,
   "metadata": {},
   "outputs": [
    {
     "name": "stdout",
     "output_type": "stream",
     "text": [
      "<class 'pandas.core.frame.DataFrame'>\n",
      "RangeIndex: 20640 entries, 0 to 20639\n",
      "Data columns (total 10 columns):\n",
      " #   Column              Non-Null Count  Dtype   \n",
      "---  ------              --------------  -----   \n",
      " 0   longitude           20640 non-null  float64 \n",
      " 1   latitude            20640 non-null  float64 \n",
      " 2   housing_median_age  20640 non-null  float64 \n",
      " 3   total_rooms         20640 non-null  float64 \n",
      " 4   total_bedrooms      20433 non-null  float64 \n",
      " 5   population          20640 non-null  float64 \n",
      " 6   households          20640 non-null  float64 \n",
      " 7   median_income       20640 non-null  float64 \n",
      " 8   median_house_value  20640 non-null  float64 \n",
      " 9   ocean_proximity     20640 non-null  category\n",
      "dtypes: category(1), float64(9)\n",
      "memory usage: 1.4 MB\n"
     ]
    }
   ],
   "source": [
    "df.info()"
   ]
  },
  {
   "cell_type": "markdown",
   "metadata": {
    "id": "h5JldI1KKq6j"
   },
   "source": [
    "# Train/Test Split"
   ]
  },
  {
   "cell_type": "code",
   "execution_count": 8,
   "metadata": {
    "id": "39MEu9PzKjzs"
   },
   "outputs": [],
   "source": [
    "from sklearn.model_selection import train_test_split"
   ]
  },
  {
   "cell_type": "code",
   "execution_count": 9,
   "metadata": {
    "id": "n5JmVVuGL28C"
   },
   "outputs": [],
   "source": [
    "income_category = pd.cut(df['median_income'],\n",
    "                         bins=[0, 1.5, 3, 4.5, 6, np.inf],\n",
    "                         labels=[1, 2, 3, 4, 5])"
   ]
  },
  {
   "cell_type": "code",
   "execution_count": 10,
   "metadata": {
    "id": "b4sJ30V0Md0A"
   },
   "outputs": [],
   "source": [
    "df_train, df_test = train_test_split(df, test_size=0.2, random_state=42,\n",
    "                                     shuffle=True,\n",
    "                                     stratify=income_category\n",
    "                                     )"
   ]
  },
  {
   "cell_type": "code",
   "execution_count": 11,
   "metadata": {
    "colab": {
     "base_uri": "https://localhost:8080/",
     "height": 513
    },
    "id": "PqL7ZUDrMjxf",
    "outputId": "1cbac487-c0c0-4e41-cd20-3d64f23758ad"
   },
   "outputs": [
    {
     "data": {
      "image/png": "[encoded data removed]",
      "text/plain": [
       "<Figure size 432x288 with 1 Axes>"
      ]
     },
     "metadata": {
      "needs_background": "light"
     },
     "output_type": "display_data"
    },
    {
     "data": {
      "image/png": "[encoded data removed]",
      "text/plain": [
       "<Figure size 432x288 with 1 Axes>"
      ]
     },
     "metadata": {
      "needs_background": "light"
     },
     "output_type": "display_data"
    }
   ],
   "source": [
    "df_train['median_income'].hist(bins=50)\n",
    "plt.show()\n",
    "df_test['median_income'].hist(bins=50)\n",
    "plt.show()"
   ]
  },
  {
   "cell_type": "markdown",
   "metadata": {
    "id": "IOHcZ1zbNLxG"
   },
   "source": [
    "# Save Datasets"
   ]
  },
  {
   "cell_type": "code",
   "execution_count": 12,
   "metadata": {
    "id": "IIoytFdwNQjI"
   },
   "outputs": [],
   "source": [
    "import os\n",
    "\n",
    "BASE_DIR = os.getcwd()\n",
    "TEST_DIR = \"test_folder\"\n",
    "TRAIN_DIR = \"train_folder\"\n",
    "\n",
    "SAVE_TEST_DIR = os.path.join(BASE_DIR, TEST_DIR)\n",
    "SAVE_TRAIN_DIR = os.path.join(BASE_DIR, TRAIN_DIR)\n",
    "\n",
    "os.mkdir(SAVE_TEST_DIR)\n",
    "os.mkdir(SAVE_TRAIN_DIR)\n",
    "\n",
    "TEST_FILE = os.path.join(SAVE_TEST_DIR, \"test.pkl\")\n",
    "TRAIN_FILE = os.path.join(SAVE_TRAIN_DIR, \"train.pkl\")\n",
    "\n",
    "df_test.to_pickle(TEST_FILE)\n",
    "df_train.to_pickle(TRAIN_FILE)"
   ]
  },
  {
   "cell_type": "markdown",
   "metadata": {},
   "source": [
    "<hr>"
   ]
  },
  {
   "cell_type": "code",
   "execution_count": 13,
   "metadata": {
    "id": "RdwAmyphPlcE"
   },
   "outputs": [],
   "source": [
    "import os\n",
    "\n",
    "BASE_DIR = os.getcwd()\n",
    "TEST_DIR = \"test_folder\"\n",
    "TRAIN_DIR = \"train_folder\"\n",
    "\n",
    "SAVE_TEST_DIR = os.path.join(BASE_DIR, TEST_DIR)\n",
    "SAVE_TRAIN_DIR = os.path.join(BASE_DIR, TRAIN_DIR)\n",
    "\n",
    "TEST_FILE = os.path.join(SAVE_TEST_DIR, \"test.pkl\")\n",
    "TRAIN_FILE = os.path.join(SAVE_TRAIN_DIR, \"train.pkl\")"
   ]
  },
  {
   "cell_type": "code",
   "execution_count": 14,
   "metadata": {
    "colab": {
     "base_uri": "https://localhost:8080/"
    },
    "id": "zJG1j06IPg_v",
    "outputId": "dcb76793-e949-4bc3-c7fb-9f8b63f58f21"
   },
   "outputs": [
    {
     "data": {
      "text/plain": [
       "(16512, 10)"
      ]
     },
     "execution_count": 14,
     "metadata": {},
     "output_type": "execute_result"
    }
   ],
   "source": [
    "df_train = pd.read_pickle(TRAIN_FILE)\n",
    "df_train.shape"
   ]
  },
  {
   "cell_type": "markdown",
   "metadata": {
    "id": "QJ8lPcjaSlem"
   },
   "source": [
    "# Feature Engineering"
   ]
  },
  {
   "cell_type": "code",
   "execution_count": 15,
   "metadata": {
    "id": "G9JQD6WISkx1"
   },
   "outputs": [],
   "source": [
    "X_train = df_train.drop(['median_house_value'], axis=1)\n",
    "y_train = df_train['median_house_value']"
   ]
  },
  {
   "cell_type": "code",
   "execution_count": 16,
   "metadata": {
    "colab": {
     "base_uri": "https://localhost:8080/"
    },
    "id": "1PewLOLEUMv1",
    "outputId": "0b758edc-7987-4bf7-bbbc-36e9faf052fa"
   },
   "outputs": [
    {
     "data": {
      "text/plain": [
       "12655     72100.0\n",
       "15502    279600.0\n",
       "2908      82700.0\n",
       "14053    112500.0\n",
       "20496    238300.0\n",
       "           ...   \n",
       "15174    268500.0\n",
       "12661     90400.0\n",
       "19263    140400.0\n",
       "19140    258100.0\n",
       "19773     62700.0\n",
       "Name: median_house_value, Length: 16512, dtype: float64"
      ]
     },
     "execution_count": 16,
     "metadata": {},
     "output_type": "execute_result"
    }
   ],
   "source": [
    "y_train"
   ]
  },
  {
   "cell_type": "markdown",
   "metadata": {
    "id": "Yp47kpAEUcvZ"
   },
   "source": [
    "# Data Cleaning"
   ]
  },
  {
   "cell_type": "code",
   "execution_count": 17,
   "metadata": {
    "id": "7aYEUDaKUccd"
   },
   "outputs": [],
   "source": [
    "H = X_train.copy()"
   ]
  },
  {
   "cell_type": "code",
   "execution_count": 18,
   "metadata": {
    "colab": {
     "base_uri": "https://localhost:8080/",
     "height": 419
    },
    "id": "a31N1LtUUM_n",
    "outputId": "557b1157-4657-4ec7-f553-a42f43cc2419"
   },
   "outputs": [
    {
     "data": {
      "text/html": [
       "<div>\n",
       "<style scoped>\n",
       "    .dataframe tbody tr th:only-of-type {\n",
       "        vertical-align: middle;\n",
       "    }\n",
       "\n",
       "    .dataframe tbody tr th {\n",
       "        vertical-align: top;\n",
       "    }\n",
       "\n",
       "    .dataframe thead th {\n",
       "        text-align: right;\n",
       "    }\n",
       "</style>\n",
       "<table border=\"1\" class=\"dataframe\">\n",
       "  <thead>\n",
       "    <tr style=\"text-align: right;\">\n",
       "      <th></th>\n",
       "      <th>longitude</th>\n",
       "      <th>latitude</th>\n",
       "      <th>housing_median_age</th>\n",
       "      <th>total_rooms</th>\n",
       "      <th>total_bedrooms</th>\n",
       "      <th>population</th>\n",
       "      <th>households</th>\n",
       "      <th>median_income</th>\n",
       "      <th>ocean_proximity</th>\n",
       "    </tr>\n",
       "  </thead>\n",
       "  <tbody>\n",
       "    <tr>\n",
       "      <th>1606</th>\n",
       "      <td>-122.08</td>\n",
       "      <td>37.88</td>\n",
       "      <td>26.0</td>\n",
       "      <td>2947.0</td>\n",
       "      <td>NaN</td>\n",
       "      <td>825.0</td>\n",
       "      <td>626.0</td>\n",
       "      <td>2.9330</td>\n",
       "      <td>NEAR BAY</td>\n",
       "    </tr>\n",
       "    <tr>\n",
       "      <th>10915</th>\n",
       "      <td>-117.87</td>\n",
       "      <td>33.73</td>\n",
       "      <td>45.0</td>\n",
       "      <td>2264.0</td>\n",
       "      <td>NaN</td>\n",
       "      <td>1970.0</td>\n",
       "      <td>499.0</td>\n",
       "      <td>3.4193</td>\n",
       "      <td>&lt;1H OCEAN</td>\n",
       "    </tr>\n",
       "    <tr>\n",
       "      <th>19150</th>\n",
       "      <td>-122.70</td>\n",
       "      <td>38.35</td>\n",
       "      <td>14.0</td>\n",
       "      <td>2313.0</td>\n",
       "      <td>NaN</td>\n",
       "      <td>954.0</td>\n",
       "      <td>397.0</td>\n",
       "      <td>3.7813</td>\n",
       "      <td>&lt;1H OCEAN</td>\n",
       "    </tr>\n",
       "    <tr>\n",
       "      <th>4186</th>\n",
       "      <td>-118.23</td>\n",
       "      <td>34.13</td>\n",
       "      <td>48.0</td>\n",
       "      <td>1308.0</td>\n",
       "      <td>NaN</td>\n",
       "      <td>835.0</td>\n",
       "      <td>294.0</td>\n",
       "      <td>4.2891</td>\n",
       "      <td>&lt;1H OCEAN</td>\n",
       "    </tr>\n",
       "    <tr>\n",
       "      <th>16885</th>\n",
       "      <td>-122.40</td>\n",
       "      <td>37.58</td>\n",
       "      <td>26.0</td>\n",
       "      <td>3281.0</td>\n",
       "      <td>NaN</td>\n",
       "      <td>1145.0</td>\n",
       "      <td>480.0</td>\n",
       "      <td>6.3580</td>\n",
       "      <td>NEAR OCEAN</td>\n",
       "    </tr>\n",
       "    <tr>\n",
       "      <th>...</th>\n",
       "      <td>...</td>\n",
       "      <td>...</td>\n",
       "      <td>...</td>\n",
       "      <td>...</td>\n",
       "      <td>...</td>\n",
       "      <td>...</td>\n",
       "      <td>...</td>\n",
       "      <td>...</td>\n",
       "      <td>...</td>\n",
       "    </tr>\n",
       "    <tr>\n",
       "      <th>1350</th>\n",
       "      <td>-121.95</td>\n",
       "      <td>38.03</td>\n",
       "      <td>5.0</td>\n",
       "      <td>5526.0</td>\n",
       "      <td>NaN</td>\n",
       "      <td>3207.0</td>\n",
       "      <td>1012.0</td>\n",
       "      <td>4.0767</td>\n",
       "      <td>INLAND</td>\n",
       "    </tr>\n",
       "    <tr>\n",
       "      <th>4691</th>\n",
       "      <td>-118.37</td>\n",
       "      <td>34.07</td>\n",
       "      <td>50.0</td>\n",
       "      <td>2519.0</td>\n",
       "      <td>NaN</td>\n",
       "      <td>1117.0</td>\n",
       "      <td>516.0</td>\n",
       "      <td>4.3667</td>\n",
       "      <td>&lt;1H OCEAN</td>\n",
       "    </tr>\n",
       "    <tr>\n",
       "      <th>9149</th>\n",
       "      <td>-118.50</td>\n",
       "      <td>34.46</td>\n",
       "      <td>17.0</td>\n",
       "      <td>10267.0</td>\n",
       "      <td>NaN</td>\n",
       "      <td>4956.0</td>\n",
       "      <td>1483.0</td>\n",
       "      <td>5.5061</td>\n",
       "      <td>&lt;1H OCEAN</td>\n",
       "    </tr>\n",
       "    <tr>\n",
       "      <th>16757</th>\n",
       "      <td>-122.48</td>\n",
       "      <td>37.70</td>\n",
       "      <td>33.0</td>\n",
       "      <td>4492.0</td>\n",
       "      <td>NaN</td>\n",
       "      <td>3477.0</td>\n",
       "      <td>1537.0</td>\n",
       "      <td>3.0546</td>\n",
       "      <td>NEAR OCEAN</td>\n",
       "    </tr>\n",
       "    <tr>\n",
       "      <th>13336</th>\n",
       "      <td>-117.67</td>\n",
       "      <td>34.04</td>\n",
       "      <td>13.0</td>\n",
       "      <td>1543.0</td>\n",
       "      <td>NaN</td>\n",
       "      <td>776.0</td>\n",
       "      <td>358.0</td>\n",
       "      <td>3.0598</td>\n",
       "      <td>INLAND</td>\n",
       "    </tr>\n",
       "  </tbody>\n",
       "</table>\n",
       "<p>158 rows × 9 columns</p>\n",
       "</div>"
      ],
      "text/plain": [
       "       longitude  latitude  housing_median_age  total_rooms  total_bedrooms  \\\n",
       "1606     -122.08     37.88                26.0       2947.0             NaN   \n",
       "10915    -117.87     33.73                45.0       2264.0             NaN   \n",
       "19150    -122.70     38.35                14.0       2313.0             NaN   \n",
       "4186     -118.23     34.13                48.0       1308.0             NaN   \n",
       "16885    -122.40     37.58                26.0       3281.0             NaN   \n",
       "...          ...       ...                 ...          ...             ...   \n",
       "1350     -121.95     38.03                 5.0       5526.0             NaN   \n",
       "4691     -118.37     34.07                50.0       2519.0             NaN   \n",
       "9149     -118.50     34.46                17.0      10267.0             NaN   \n",
       "16757    -122.48     37.70                33.0       4492.0             NaN   \n",
       "13336    -117.67     34.04                13.0       1543.0             NaN   \n",
       "\n",
       "       population  households  median_income ocean_proximity  \n",
       "1606        825.0       626.0         2.9330        NEAR BAY  \n",
       "10915      1970.0       499.0         3.4193       <1H OCEAN  \n",
       "19150       954.0       397.0         3.7813       <1H OCEAN  \n",
       "4186        835.0       294.0         4.2891       <1H OCEAN  \n",
       "16885      1145.0       480.0         6.3580      NEAR OCEAN  \n",
       "...           ...         ...            ...             ...  \n",
       "1350       3207.0      1012.0         4.0767          INLAND  \n",
       "4691       1117.0       516.0         4.3667       <1H OCEAN  \n",
       "9149       4956.0      1483.0         5.5061       <1H OCEAN  \n",
       "16757      3477.0      1537.0         3.0546      NEAR OCEAN  \n",
       "13336       776.0       358.0         3.0598          INLAND  \n",
       "\n",
       "[158 rows x 9 columns]"
      ]
     },
     "execution_count": 18,
     "metadata": {},
     "output_type": "execute_result"
    }
   ],
   "source": [
    "H[H.isnull().any(axis=1)]"
   ]
  },
  {
   "cell_type": "code",
   "execution_count": 19,
   "metadata": {
    "colab": {
     "base_uri": "https://localhost:8080/",
     "height": 419
    },
    "id": "cB6dME2KUpc3",
    "outputId": "350b7572-6837-4612-8a7a-07412fb0ae4a"
   },
   "outputs": [
    {
     "data": {
      "text/html": [
       "<div>\n",
       "<style scoped>\n",
       "    .dataframe tbody tr th:only-of-type {\n",
       "        vertical-align: middle;\n",
       "    }\n",
       "\n",
       "    .dataframe tbody tr th {\n",
       "        vertical-align: top;\n",
       "    }\n",
       "\n",
       "    .dataframe thead th {\n",
       "        text-align: right;\n",
       "    }\n",
       "</style>\n",
       "<table border=\"1\" class=\"dataframe\">\n",
       "  <thead>\n",
       "    <tr style=\"text-align: right;\">\n",
       "      <th></th>\n",
       "      <th>longitude</th>\n",
       "      <th>latitude</th>\n",
       "      <th>housing_median_age</th>\n",
       "      <th>total_rooms</th>\n",
       "      <th>total_bedrooms</th>\n",
       "      <th>population</th>\n",
       "      <th>households</th>\n",
       "      <th>median_income</th>\n",
       "      <th>ocean_proximity</th>\n",
       "    </tr>\n",
       "  </thead>\n",
       "  <tbody>\n",
       "    <tr>\n",
       "      <th>12655</th>\n",
       "      <td>-121.46</td>\n",
       "      <td>38.52</td>\n",
       "      <td>29.0</td>\n",
       "      <td>3873.0</td>\n",
       "      <td>797.0</td>\n",
       "      <td>2237.0</td>\n",
       "      <td>706.0</td>\n",
       "      <td>2.1736</td>\n",
       "      <td>INLAND</td>\n",
       "    </tr>\n",
       "    <tr>\n",
       "      <th>15502</th>\n",
       "      <td>-117.23</td>\n",
       "      <td>33.09</td>\n",
       "      <td>7.0</td>\n",
       "      <td>5320.0</td>\n",
       "      <td>855.0</td>\n",
       "      <td>2015.0</td>\n",
       "      <td>768.0</td>\n",
       "      <td>6.3373</td>\n",
       "      <td>NEAR OCEAN</td>\n",
       "    </tr>\n",
       "    <tr>\n",
       "      <th>2908</th>\n",
       "      <td>-119.04</td>\n",
       "      <td>35.37</td>\n",
       "      <td>44.0</td>\n",
       "      <td>1618.0</td>\n",
       "      <td>310.0</td>\n",
       "      <td>667.0</td>\n",
       "      <td>300.0</td>\n",
       "      <td>2.8750</td>\n",
       "      <td>INLAND</td>\n",
       "    </tr>\n",
       "    <tr>\n",
       "      <th>14053</th>\n",
       "      <td>-117.13</td>\n",
       "      <td>32.75</td>\n",
       "      <td>24.0</td>\n",
       "      <td>1877.0</td>\n",
       "      <td>519.0</td>\n",
       "      <td>898.0</td>\n",
       "      <td>483.0</td>\n",
       "      <td>2.2264</td>\n",
       "      <td>NEAR OCEAN</td>\n",
       "    </tr>\n",
       "    <tr>\n",
       "      <th>20496</th>\n",
       "      <td>-118.70</td>\n",
       "      <td>34.28</td>\n",
       "      <td>27.0</td>\n",
       "      <td>3536.0</td>\n",
       "      <td>646.0</td>\n",
       "      <td>1837.0</td>\n",
       "      <td>580.0</td>\n",
       "      <td>4.4964</td>\n",
       "      <td>&lt;1H OCEAN</td>\n",
       "    </tr>\n",
       "    <tr>\n",
       "      <th>...</th>\n",
       "      <td>...</td>\n",
       "      <td>...</td>\n",
       "      <td>...</td>\n",
       "      <td>...</td>\n",
       "      <td>...</td>\n",
       "      <td>...</td>\n",
       "      <td>...</td>\n",
       "      <td>...</td>\n",
       "      <td>...</td>\n",
       "    </tr>\n",
       "    <tr>\n",
       "      <th>15174</th>\n",
       "      <td>-117.07</td>\n",
       "      <td>33.03</td>\n",
       "      <td>14.0</td>\n",
       "      <td>6665.0</td>\n",
       "      <td>1231.0</td>\n",
       "      <td>2026.0</td>\n",
       "      <td>1001.0</td>\n",
       "      <td>5.0900</td>\n",
       "      <td>&lt;1H OCEAN</td>\n",
       "    </tr>\n",
       "    <tr>\n",
       "      <th>12661</th>\n",
       "      <td>-121.42</td>\n",
       "      <td>38.51</td>\n",
       "      <td>15.0</td>\n",
       "      <td>7901.0</td>\n",
       "      <td>1422.0</td>\n",
       "      <td>4769.0</td>\n",
       "      <td>1418.0</td>\n",
       "      <td>2.8139</td>\n",
       "      <td>INLAND</td>\n",
       "    </tr>\n",
       "    <tr>\n",
       "      <th>19263</th>\n",
       "      <td>-122.72</td>\n",
       "      <td>38.44</td>\n",
       "      <td>48.0</td>\n",
       "      <td>707.0</td>\n",
       "      <td>166.0</td>\n",
       "      <td>458.0</td>\n",
       "      <td>172.0</td>\n",
       "      <td>3.1797</td>\n",
       "      <td>&lt;1H OCEAN</td>\n",
       "    </tr>\n",
       "    <tr>\n",
       "      <th>19140</th>\n",
       "      <td>-122.70</td>\n",
       "      <td>38.31</td>\n",
       "      <td>14.0</td>\n",
       "      <td>3155.0</td>\n",
       "      <td>580.0</td>\n",
       "      <td>1208.0</td>\n",
       "      <td>501.0</td>\n",
       "      <td>4.1964</td>\n",
       "      <td>&lt;1H OCEAN</td>\n",
       "    </tr>\n",
       "    <tr>\n",
       "      <th>19773</th>\n",
       "      <td>-122.14</td>\n",
       "      <td>39.97</td>\n",
       "      <td>27.0</td>\n",
       "      <td>1079.0</td>\n",
       "      <td>222.0</td>\n",
       "      <td>625.0</td>\n",
       "      <td>197.0</td>\n",
       "      <td>3.1319</td>\n",
       "      <td>INLAND</td>\n",
       "    </tr>\n",
       "  </tbody>\n",
       "</table>\n",
       "<p>16354 rows × 9 columns</p>\n",
       "</div>"
      ],
      "text/plain": [
       "       longitude  latitude  housing_median_age  total_rooms  total_bedrooms  \\\n",
       "12655    -121.46     38.52                29.0       3873.0           797.0   \n",
       "15502    -117.23     33.09                 7.0       5320.0           855.0   \n",
       "2908     -119.04     35.37                44.0       1618.0           310.0   \n",
       "14053    -117.13     32.75                24.0       1877.0           519.0   \n",
       "20496    -118.70     34.28                27.0       3536.0           646.0   \n",
       "...          ...       ...                 ...          ...             ...   \n",
       "15174    -117.07     33.03                14.0       6665.0          1231.0   \n",
       "12661    -121.42     38.51                15.0       7901.0          1422.0   \n",
       "19263    -122.72     38.44                48.0        707.0           166.0   \n",
       "19140    -122.70     38.31                14.0       3155.0           580.0   \n",
       "19773    -122.14     39.97                27.0       1079.0           222.0   \n",
       "\n",
       "       population  households  median_income ocean_proximity  \n",
       "12655      2237.0       706.0         2.1736          INLAND  \n",
       "15502      2015.0       768.0         6.3373      NEAR OCEAN  \n",
       "2908        667.0       300.0         2.8750          INLAND  \n",
       "14053       898.0       483.0         2.2264      NEAR OCEAN  \n",
       "20496      1837.0       580.0         4.4964       <1H OCEAN  \n",
       "...           ...         ...            ...             ...  \n",
       "15174      2026.0      1001.0         5.0900       <1H OCEAN  \n",
       "12661      4769.0      1418.0         2.8139          INLAND  \n",
       "19263       458.0       172.0         3.1797       <1H OCEAN  \n",
       "19140      1208.0       501.0         4.1964       <1H OCEAN  \n",
       "19773       625.0       197.0         3.1319          INLAND  \n",
       "\n",
       "[16354 rows x 9 columns]"
      ]
     },
     "execution_count": 19,
     "metadata": {},
     "output_type": "execute_result"
    }
   ],
   "source": [
    "# Drop NaN by rows\n",
    "H.dropna(subset=['total_bedrooms'])\n",
    "# H = H.dropna(subset=['total_bedrooms'])\n",
    "# H.dropna(subset=['total_bedrooms'], inplace=True)"
   ]
  },
  {
   "cell_type": "code",
   "execution_count": 20,
   "metadata": {
    "colab": {
     "base_uri": "https://localhost:8080/",
     "height": 419
    },
    "id": "xlSuzTDmVLSC",
    "outputId": "cbf2b4b7-943d-452f-b2f6-609ee3f63919"
   },
   "outputs": [
    {
     "data": {
      "text/html": [
       "<div>\n",
       "<style scoped>\n",
       "    .dataframe tbody tr th:only-of-type {\n",
       "        vertical-align: middle;\n",
       "    }\n",
       "\n",
       "    .dataframe tbody tr th {\n",
       "        vertical-align: top;\n",
       "    }\n",
       "\n",
       "    .dataframe thead th {\n",
       "        text-align: right;\n",
       "    }\n",
       "</style>\n",
       "<table border=\"1\" class=\"dataframe\">\n",
       "  <thead>\n",
       "    <tr style=\"text-align: right;\">\n",
       "      <th></th>\n",
       "      <th>longitude</th>\n",
       "      <th>latitude</th>\n",
       "      <th>housing_median_age</th>\n",
       "      <th>total_rooms</th>\n",
       "      <th>population</th>\n",
       "      <th>households</th>\n",
       "      <th>median_income</th>\n",
       "      <th>ocean_proximity</th>\n",
       "    </tr>\n",
       "  </thead>\n",
       "  <tbody>\n",
       "    <tr>\n",
       "      <th>12655</th>\n",
       "      <td>-121.46</td>\n",
       "      <td>38.52</td>\n",
       "      <td>29.0</td>\n",
       "      <td>3873.0</td>\n",
       "      <td>2237.0</td>\n",
       "      <td>706.0</td>\n",
       "      <td>2.1736</td>\n",
       "      <td>INLAND</td>\n",
       "    </tr>\n",
       "    <tr>\n",
       "      <th>15502</th>\n",
       "      <td>-117.23</td>\n",
       "      <td>33.09</td>\n",
       "      <td>7.0</td>\n",
       "      <td>5320.0</td>\n",
       "      <td>2015.0</td>\n",
       "      <td>768.0</td>\n",
       "      <td>6.3373</td>\n",
       "      <td>NEAR OCEAN</td>\n",
       "    </tr>\n",
       "    <tr>\n",
       "      <th>2908</th>\n",
       "      <td>-119.04</td>\n",
       "      <td>35.37</td>\n",
       "      <td>44.0</td>\n",
       "      <td>1618.0</td>\n",
       "      <td>667.0</td>\n",
       "      <td>300.0</td>\n",
       "      <td>2.8750</td>\n",
       "      <td>INLAND</td>\n",
       "    </tr>\n",
       "    <tr>\n",
       "      <th>14053</th>\n",
       "      <td>-117.13</td>\n",
       "      <td>32.75</td>\n",
       "      <td>24.0</td>\n",
       "      <td>1877.0</td>\n",
       "      <td>898.0</td>\n",
       "      <td>483.0</td>\n",
       "      <td>2.2264</td>\n",
       "      <td>NEAR OCEAN</td>\n",
       "    </tr>\n",
       "    <tr>\n",
       "      <th>20496</th>\n",
       "      <td>-118.70</td>\n",
       "      <td>34.28</td>\n",
       "      <td>27.0</td>\n",
       "      <td>3536.0</td>\n",
       "      <td>1837.0</td>\n",
       "      <td>580.0</td>\n",
       "      <td>4.4964</td>\n",
       "      <td>&lt;1H OCEAN</td>\n",
       "    </tr>\n",
       "    <tr>\n",
       "      <th>...</th>\n",
       "      <td>...</td>\n",
       "      <td>...</td>\n",
       "      <td>...</td>\n",
       "      <td>...</td>\n",
       "      <td>...</td>\n",
       "      <td>...</td>\n",
       "      <td>...</td>\n",
       "      <td>...</td>\n",
       "    </tr>\n",
       "    <tr>\n",
       "      <th>15174</th>\n",
       "      <td>-117.07</td>\n",
       "      <td>33.03</td>\n",
       "      <td>14.0</td>\n",
       "      <td>6665.0</td>\n",
       "      <td>2026.0</td>\n",
       "      <td>1001.0</td>\n",
       "      <td>5.0900</td>\n",
       "      <td>&lt;1H OCEAN</td>\n",
       "    </tr>\n",
       "    <tr>\n",
       "      <th>12661</th>\n",
       "      <td>-121.42</td>\n",
       "      <td>38.51</td>\n",
       "      <td>15.0</td>\n",
       "      <td>7901.0</td>\n",
       "      <td>4769.0</td>\n",
       "      <td>1418.0</td>\n",
       "      <td>2.8139</td>\n",
       "      <td>INLAND</td>\n",
       "    </tr>\n",
       "    <tr>\n",
       "      <th>19263</th>\n",
       "      <td>-122.72</td>\n",
       "      <td>38.44</td>\n",
       "      <td>48.0</td>\n",
       "      <td>707.0</td>\n",
       "      <td>458.0</td>\n",
       "      <td>172.0</td>\n",
       "      <td>3.1797</td>\n",
       "      <td>&lt;1H OCEAN</td>\n",
       "    </tr>\n",
       "    <tr>\n",
       "      <th>19140</th>\n",
       "      <td>-122.70</td>\n",
       "      <td>38.31</td>\n",
       "      <td>14.0</td>\n",
       "      <td>3155.0</td>\n",
       "      <td>1208.0</td>\n",
       "      <td>501.0</td>\n",
       "      <td>4.1964</td>\n",
       "      <td>&lt;1H OCEAN</td>\n",
       "    </tr>\n",
       "    <tr>\n",
       "      <th>19773</th>\n",
       "      <td>-122.14</td>\n",
       "      <td>39.97</td>\n",
       "      <td>27.0</td>\n",
       "      <td>1079.0</td>\n",
       "      <td>625.0</td>\n",
       "      <td>197.0</td>\n",
       "      <td>3.1319</td>\n",
       "      <td>INLAND</td>\n",
       "    </tr>\n",
       "  </tbody>\n",
       "</table>\n",
       "<p>16512 rows × 8 columns</p>\n",
       "</div>"
      ],
      "text/plain": [
       "       longitude  latitude  housing_median_age  total_rooms  population  \\\n",
       "12655    -121.46     38.52                29.0       3873.0      2237.0   \n",
       "15502    -117.23     33.09                 7.0       5320.0      2015.0   \n",
       "2908     -119.04     35.37                44.0       1618.0       667.0   \n",
       "14053    -117.13     32.75                24.0       1877.0       898.0   \n",
       "20496    -118.70     34.28                27.0       3536.0      1837.0   \n",
       "...          ...       ...                 ...          ...         ...   \n",
       "15174    -117.07     33.03                14.0       6665.0      2026.0   \n",
       "12661    -121.42     38.51                15.0       7901.0      4769.0   \n",
       "19263    -122.72     38.44                48.0        707.0       458.0   \n",
       "19140    -122.70     38.31                14.0       3155.0      1208.0   \n",
       "19773    -122.14     39.97                27.0       1079.0       625.0   \n",
       "\n",
       "       households  median_income ocean_proximity  \n",
       "12655       706.0         2.1736          INLAND  \n",
       "15502       768.0         6.3373      NEAR OCEAN  \n",
       "2908        300.0         2.8750          INLAND  \n",
       "14053       483.0         2.2264      NEAR OCEAN  \n",
       "20496       580.0         4.4964       <1H OCEAN  \n",
       "...           ...            ...             ...  \n",
       "15174      1001.0         5.0900       <1H OCEAN  \n",
       "12661      1418.0         2.8139          INLAND  \n",
       "19263       172.0         3.1797       <1H OCEAN  \n",
       "19140       501.0         4.1964       <1H OCEAN  \n",
       "19773       197.0         3.1319          INLAND  \n",
       "\n",
       "[16512 rows x 8 columns]"
      ]
     },
     "execution_count": 20,
     "metadata": {},
     "output_type": "execute_result"
    }
   ],
   "source": [
    "# Drop NaN by columns\n",
    "H.drop(['total_bedrooms'], axis=1)\n",
    "# H = H.drop(['total_bedrooms'], axis=1)\n",
    "# H.drop(['total_bedrooms'], axis=1, inplace=True)"
   ]
  },
  {
   "cell_type": "code",
   "execution_count": 21,
   "metadata": {
    "colab": {
     "base_uri": "https://localhost:8080/"
    },
    "id": "z2-pTUI0VoW8",
    "outputId": "e8c3794a-cd96-4606-a615-43788c14e519"
   },
   "outputs": [
    {
     "data": {
      "text/plain": [
       "Index(['total_bedrooms'], dtype='object')"
      ]
     },
     "execution_count": 21,
     "metadata": {},
     "output_type": "execute_result"
    }
   ],
   "source": [
    "idx = H.isnull().any().index\n",
    "idx[H.isnull().any()]"
   ]
  },
  {
   "cell_type": "code",
   "execution_count": 22,
   "metadata": {
    "id": "kv_uwQ3SV5Zw"
   },
   "outputs": [],
   "source": [
    "# Fill NaN by median, mean, max, min itd."
   ]
  },
  {
   "cell_type": "code",
   "execution_count": 23,
   "metadata": {
    "colab": {
     "base_uri": "https://localhost:8080/"
    },
    "id": "QVucTezXWGes",
    "outputId": "72405fe2-d6f2-4975-d607-3190c8065961"
   },
   "outputs": [
    {
     "data": {
      "text/plain": [
       "433.0"
      ]
     },
     "execution_count": 23,
     "metadata": {},
     "output_type": "execute_result"
    }
   ],
   "source": [
    "m = H['total_bedrooms'].median()\n",
    "m"
   ]
  },
  {
   "cell_type": "code",
   "execution_count": 24,
   "metadata": {
    "id": "yHiQ-r3QWLbl"
   },
   "outputs": [],
   "source": [
    "H['total_bedrooms'].fillna(m, inplace=True)\n",
    "# H['total_bedrooms'] = H['total_bedrooms'].fillna(m)"
   ]
  },
  {
   "cell_type": "code",
   "execution_count": 25,
   "metadata": {
    "colab": {
     "base_uri": "https://localhost:8080/"
    },
    "id": "JatXnhprWTsF",
    "outputId": "169a123a-e6f7-4a71-c4f7-566929cc5dff"
   },
   "outputs": [
    {
     "name": "stdout",
     "output_type": "stream",
     "text": [
      "<class 'pandas.core.frame.DataFrame'>\n",
      "Int64Index: 16512 entries, 12655 to 19773\n",
      "Data columns (total 9 columns):\n",
      " #   Column              Non-Null Count  Dtype   \n",
      "---  ------              --------------  -----   \n",
      " 0   longitude           16512 non-null  float64 \n",
      " 1   latitude            16512 non-null  float64 \n",
      " 2   housing_median_age  16512 non-null  float64 \n",
      " 3   total_rooms         16512 non-null  float64 \n",
      " 4   total_bedrooms      16512 non-null  float64 \n",
      " 5   population          16512 non-null  float64 \n",
      " 6   households          16512 non-null  float64 \n",
      " 7   median_income       16512 non-null  float64 \n",
      " 8   ocean_proximity     16512 non-null  category\n",
      "dtypes: category(1), float64(8)\n",
      "memory usage: 1.1 MB\n"
     ]
    }
   ],
   "source": [
    "H.info()"
   ]
  },
  {
   "cell_type": "code",
   "execution_count": 26,
   "metadata": {
    "id": "P1_M-NSnWU2R"
   },
   "outputs": [],
   "source": [
    "H_clean = pd.get_dummies(H)"
   ]
  },
  {
   "cell_type": "markdown",
   "metadata": {
    "id": "vbKCSoCBW7_9"
   },
   "source": [
    "## scikit-learn"
   ]
  },
  {
   "cell_type": "code",
   "execution_count": 27,
   "metadata": {
    "id": "j51o6Ij8Wp0o"
   },
   "outputs": [],
   "source": [
    "Q = X_train.copy()"
   ]
  },
  {
   "cell_type": "code",
   "execution_count": 28,
   "metadata": {
    "id": "elSCFa53XXr5"
   },
   "outputs": [],
   "source": [
    "Q_num = Q.select_dtypes(include='number')\n",
    "Q_cat = Q.select_dtypes(exclude='number')"
   ]
  },
  {
   "cell_type": "markdown",
   "metadata": {
    "id": "eV5IuWrgYi7H"
   },
   "source": [
    "### Missing Values"
   ]
  },
  {
   "cell_type": "code",
   "execution_count": 29,
   "metadata": {
    "id": "Kl4uvDnqXIRH"
   },
   "outputs": [],
   "source": [
    "from sklearn.impute import SimpleImputer"
   ]
  },
  {
   "cell_type": "code",
   "execution_count": 30,
   "metadata": {
    "id": "zYtLmPFhXRY6"
   },
   "outputs": [],
   "source": [
    "imputer = SimpleImputer(strategy=\"median\")\n",
    "imputer.fit(Q_num)\n",
    "Q_num_tr = imputer.transform(Q_num)  # Q_num_tr = impouter.fit_transform(Q_num)"
   ]
  },
  {
   "cell_type": "code",
   "execution_count": 31,
   "metadata": {
    "colab": {
     "base_uri": "https://localhost:8080/"
    },
    "id": "UJYZY6l_X0Gt",
    "outputId": "6d008b8c-19e2-4822-9d4d-bc9c2f2bef8c"
   },
   "outputs": [
    {
     "data": {
      "text/html": [
       "<div>\n",
       "<style scoped>\n",
       "    .dataframe tbody tr th:only-of-type {\n",
       "        vertical-align: middle;\n",
       "    }\n",
       "\n",
       "    .dataframe tbody tr th {\n",
       "        vertical-align: top;\n",
       "    }\n",
       "\n",
       "    .dataframe thead th {\n",
       "        text-align: right;\n",
       "    }\n",
       "</style>\n",
       "<table border=\"1\" class=\"dataframe\">\n",
       "  <thead>\n",
       "    <tr style=\"text-align: right;\">\n",
       "      <th></th>\n",
       "      <th>longitude</th>\n",
       "      <th>latitude</th>\n",
       "      <th>housing_median_age</th>\n",
       "      <th>total_rooms</th>\n",
       "      <th>total_bedrooms</th>\n",
       "      <th>population</th>\n",
       "      <th>households</th>\n",
       "      <th>median_income</th>\n",
       "    </tr>\n",
       "  </thead>\n",
       "  <tbody>\n",
       "    <tr>\n",
       "      <th>12655</th>\n",
       "      <td>-121.46</td>\n",
       "      <td>38.52</td>\n",
       "      <td>29.0</td>\n",
       "      <td>3873.0</td>\n",
       "      <td>797.0</td>\n",
       "      <td>2237.0</td>\n",
       "      <td>706.0</td>\n",
       "      <td>2.1736</td>\n",
       "    </tr>\n",
       "    <tr>\n",
       "      <th>15502</th>\n",
       "      <td>-117.23</td>\n",
       "      <td>33.09</td>\n",
       "      <td>7.0</td>\n",
       "      <td>5320.0</td>\n",
       "      <td>855.0</td>\n",
       "      <td>2015.0</td>\n",
       "      <td>768.0</td>\n",
       "      <td>6.3373</td>\n",
       "    </tr>\n",
       "    <tr>\n",
       "      <th>2908</th>\n",
       "      <td>-119.04</td>\n",
       "      <td>35.37</td>\n",
       "      <td>44.0</td>\n",
       "      <td>1618.0</td>\n",
       "      <td>310.0</td>\n",
       "      <td>667.0</td>\n",
       "      <td>300.0</td>\n",
       "      <td>2.8750</td>\n",
       "    </tr>\n",
       "    <tr>\n",
       "      <th>14053</th>\n",
       "      <td>-117.13</td>\n",
       "      <td>32.75</td>\n",
       "      <td>24.0</td>\n",
       "      <td>1877.0</td>\n",
       "      <td>519.0</td>\n",
       "      <td>898.0</td>\n",
       "      <td>483.0</td>\n",
       "      <td>2.2264</td>\n",
       "    </tr>\n",
       "    <tr>\n",
       "      <th>20496</th>\n",
       "      <td>-118.70</td>\n",
       "      <td>34.28</td>\n",
       "      <td>27.0</td>\n",
       "      <td>3536.0</td>\n",
       "      <td>646.0</td>\n",
       "      <td>1837.0</td>\n",
       "      <td>580.0</td>\n",
       "      <td>4.4964</td>\n",
       "    </tr>\n",
       "    <tr>\n",
       "      <th>...</th>\n",
       "      <td>...</td>\n",
       "      <td>...</td>\n",
       "      <td>...</td>\n",
       "      <td>...</td>\n",
       "      <td>...</td>\n",
       "      <td>...</td>\n",
       "      <td>...</td>\n",
       "      <td>...</td>\n",
       "    </tr>\n",
       "    <tr>\n",
       "      <th>15174</th>\n",
       "      <td>-117.07</td>\n",
       "      <td>33.03</td>\n",
       "      <td>14.0</td>\n",
       "      <td>6665.0</td>\n",
       "      <td>1231.0</td>\n",
       "      <td>2026.0</td>\n",
       "      <td>1001.0</td>\n",
       "      <td>5.0900</td>\n",
       "    </tr>\n",
       "    <tr>\n",
       "      <th>12661</th>\n",
       "      <td>-121.42</td>\n",
       "      <td>38.51</td>\n",
       "      <td>15.0</td>\n",
       "      <td>7901.0</td>\n",
       "      <td>1422.0</td>\n",
       "      <td>4769.0</td>\n",
       "      <td>1418.0</td>\n",
       "      <td>2.8139</td>\n",
       "    </tr>\n",
       "    <tr>\n",
       "      <th>19263</th>\n",
       "      <td>-122.72</td>\n",
       "      <td>38.44</td>\n",
       "      <td>48.0</td>\n",
       "      <td>707.0</td>\n",
       "      <td>166.0</td>\n",
       "      <td>458.0</td>\n",
       "      <td>172.0</td>\n",
       "      <td>3.1797</td>\n",
       "    </tr>\n",
       "    <tr>\n",
       "      <th>19140</th>\n",
       "      <td>-122.70</td>\n",
       "      <td>38.31</td>\n",
       "      <td>14.0</td>\n",
       "      <td>3155.0</td>\n",
       "      <td>580.0</td>\n",
       "      <td>1208.0</td>\n",
       "      <td>501.0</td>\n",
       "      <td>4.1964</td>\n",
       "    </tr>\n",
       "    <tr>\n",
       "      <th>19773</th>\n",
       "      <td>-122.14</td>\n",
       "      <td>39.97</td>\n",
       "      <td>27.0</td>\n",
       "      <td>1079.0</td>\n",
       "      <td>222.0</td>\n",
       "      <td>625.0</td>\n",
       "      <td>197.0</td>\n",
       "      <td>3.1319</td>\n",
       "    </tr>\n",
       "  </tbody>\n",
       "</table>\n",
       "<p>16512 rows × 8 columns</p>\n",
       "</div>"
      ],
      "text/plain": [
       "       longitude  latitude  housing_median_age  total_rooms  total_bedrooms  \\\n",
       "12655    -121.46     38.52                29.0       3873.0           797.0   \n",
       "15502    -117.23     33.09                 7.0       5320.0           855.0   \n",
       "2908     -119.04     35.37                44.0       1618.0           310.0   \n",
       "14053    -117.13     32.75                24.0       1877.0           519.0   \n",
       "20496    -118.70     34.28                27.0       3536.0           646.0   \n",
       "...          ...       ...                 ...          ...             ...   \n",
       "15174    -117.07     33.03                14.0       6665.0          1231.0   \n",
       "12661    -121.42     38.51                15.0       7901.0          1422.0   \n",
       "19263    -122.72     38.44                48.0        707.0           166.0   \n",
       "19140    -122.70     38.31                14.0       3155.0           580.0   \n",
       "19773    -122.14     39.97                27.0       1079.0           222.0   \n",
       "\n",
       "       population  households  median_income  \n",
       "12655      2237.0       706.0         2.1736  \n",
       "15502      2015.0       768.0         6.3373  \n",
       "2908        667.0       300.0         2.8750  \n",
       "14053       898.0       483.0         2.2264  \n",
       "20496      1837.0       580.0         4.4964  \n",
       "...           ...         ...            ...  \n",
       "15174      2026.0      1001.0         5.0900  \n",
       "12661      4769.0      1418.0         2.8139  \n",
       "19263       458.0       172.0         3.1797  \n",
       "19140      1208.0       501.0         4.1964  \n",
       "19773       625.0       197.0         3.1319  \n",
       "\n",
       "[16512 rows x 8 columns]"
      ]
     },
     "execution_count": 31,
     "metadata": {},
     "output_type": "execute_result"
    }
   ],
   "source": [
    "Q_num_tr_df = pd.DataFrame(data=Q_num_tr,\n",
    "                           columns=Q_num.columns,\n",
    "                           index=Q_num.index)\n",
    "\n",
    "Q_num_tr_df"
   ]
  },
  {
   "cell_type": "markdown",
   "metadata": {},
   "source": [
    "### StandardScaler"
   ]
  },
  {
   "cell_type": "code",
   "execution_count": 32,
   "metadata": {},
   "outputs": [
    {
     "data": {
      "text/html": [
       "<div>\n",
       "<style scoped>\n",
       "    .dataframe tbody tr th:only-of-type {\n",
       "        vertical-align: middle;\n",
       "    }\n",
       "\n",
       "    .dataframe tbody tr th {\n",
       "        vertical-align: top;\n",
       "    }\n",
       "\n",
       "    .dataframe thead th {\n",
       "        text-align: right;\n",
       "    }\n",
       "</style>\n",
       "<table border=\"1\" class=\"dataframe\">\n",
       "  <thead>\n",
       "    <tr style=\"text-align: right;\">\n",
       "      <th></th>\n",
       "      <th>longitude</th>\n",
       "      <th>latitude</th>\n",
       "      <th>housing_median_age</th>\n",
       "      <th>total_rooms</th>\n",
       "      <th>total_bedrooms</th>\n",
       "      <th>population</th>\n",
       "      <th>households</th>\n",
       "      <th>median_income</th>\n",
       "    </tr>\n",
       "  </thead>\n",
       "  <tbody>\n",
       "    <tr>\n",
       "      <th>12655</th>\n",
       "      <td>-0.941350</td>\n",
       "      <td>1.347438</td>\n",
       "      <td>0.027564</td>\n",
       "      <td>0.584777</td>\n",
       "      <td>0.640371</td>\n",
       "      <td>0.732602</td>\n",
       "      <td>0.556286</td>\n",
       "      <td>-0.893647</td>\n",
       "    </tr>\n",
       "    <tr>\n",
       "      <th>15502</th>\n",
       "      <td>1.171782</td>\n",
       "      <td>-1.192440</td>\n",
       "      <td>-1.722018</td>\n",
       "      <td>1.261467</td>\n",
       "      <td>0.781561</td>\n",
       "      <td>0.533612</td>\n",
       "      <td>0.721318</td>\n",
       "      <td>1.292168</td>\n",
       "    </tr>\n",
       "    <tr>\n",
       "      <th>2908</th>\n",
       "      <td>0.267581</td>\n",
       "      <td>-0.125972</td>\n",
       "      <td>1.220460</td>\n",
       "      <td>-0.469773</td>\n",
       "      <td>-0.545138</td>\n",
       "      <td>-0.674675</td>\n",
       "      <td>-0.524407</td>\n",
       "      <td>-0.525434</td>\n",
       "    </tr>\n",
       "    <tr>\n",
       "      <th>14053</th>\n",
       "      <td>1.221738</td>\n",
       "      <td>-1.351474</td>\n",
       "      <td>-0.370069</td>\n",
       "      <td>-0.348652</td>\n",
       "      <td>-0.036367</td>\n",
       "      <td>-0.467617</td>\n",
       "      <td>-0.037297</td>\n",
       "      <td>-0.865929</td>\n",
       "    </tr>\n",
       "    <tr>\n",
       "      <th>20496</th>\n",
       "      <td>0.437431</td>\n",
       "      <td>-0.635818</td>\n",
       "      <td>-0.131489</td>\n",
       "      <td>0.427179</td>\n",
       "      <td>0.272790</td>\n",
       "      <td>0.374060</td>\n",
       "      <td>0.220898</td>\n",
       "      <td>0.325752</td>\n",
       "    </tr>\n",
       "    <tr>\n",
       "      <th>...</th>\n",
       "      <td>...</td>\n",
       "      <td>...</td>\n",
       "      <td>...</td>\n",
       "      <td>...</td>\n",
       "      <td>...</td>\n",
       "      <td>...</td>\n",
       "      <td>...</td>\n",
       "      <td>...</td>\n",
       "    </tr>\n",
       "    <tr>\n",
       "      <th>15174</th>\n",
       "      <td>1.251711</td>\n",
       "      <td>-1.220505</td>\n",
       "      <td>-1.165333</td>\n",
       "      <td>1.890456</td>\n",
       "      <td>1.696862</td>\n",
       "      <td>0.543471</td>\n",
       "      <td>1.341519</td>\n",
       "      <td>0.637374</td>\n",
       "    </tr>\n",
       "    <tr>\n",
       "      <th>12661</th>\n",
       "      <td>-0.921368</td>\n",
       "      <td>1.342761</td>\n",
       "      <td>-1.085806</td>\n",
       "      <td>2.468471</td>\n",
       "      <td>2.161816</td>\n",
       "      <td>3.002174</td>\n",
       "      <td>2.451492</td>\n",
       "      <td>-0.557509</td>\n",
       "    </tr>\n",
       "    <tr>\n",
       "      <th>19263</th>\n",
       "      <td>-1.570794</td>\n",
       "      <td>1.310018</td>\n",
       "      <td>1.538566</td>\n",
       "      <td>-0.895802</td>\n",
       "      <td>-0.895679</td>\n",
       "      <td>-0.862013</td>\n",
       "      <td>-0.865118</td>\n",
       "      <td>-0.365475</td>\n",
       "    </tr>\n",
       "    <tr>\n",
       "      <th>19140</th>\n",
       "      <td>-1.560803</td>\n",
       "      <td>1.249211</td>\n",
       "      <td>-1.165333</td>\n",
       "      <td>0.249005</td>\n",
       "      <td>0.112126</td>\n",
       "      <td>-0.189747</td>\n",
       "      <td>0.010616</td>\n",
       "      <td>0.168261</td>\n",
       "    </tr>\n",
       "    <tr>\n",
       "      <th>19773</th>\n",
       "      <td>-1.281050</td>\n",
       "      <td>2.025674</td>\n",
       "      <td>-0.131489</td>\n",
       "      <td>-0.721836</td>\n",
       "      <td>-0.759358</td>\n",
       "      <td>-0.712322</td>\n",
       "      <td>-0.798573</td>\n",
       "      <td>-0.390569</td>\n",
       "    </tr>\n",
       "  </tbody>\n",
       "</table>\n",
       "<p>16512 rows × 8 columns</p>\n",
       "</div>"
      ],
      "text/plain": [
       "       longitude  latitude  housing_median_age  total_rooms  total_bedrooms  \\\n",
       "12655  -0.941350  1.347438            0.027564     0.584777        0.640371   \n",
       "15502   1.171782 -1.192440           -1.722018     1.261467        0.781561   \n",
       "2908    0.267581 -0.125972            1.220460    -0.469773       -0.545138   \n",
       "14053   1.221738 -1.351474           -0.370069    -0.348652       -0.036367   \n",
       "20496   0.437431 -0.635818           -0.131489     0.427179        0.272790   \n",
       "...          ...       ...                 ...          ...             ...   \n",
       "15174   1.251711 -1.220505           -1.165333     1.890456        1.696862   \n",
       "12661  -0.921368  1.342761           -1.085806     2.468471        2.161816   \n",
       "19263  -1.570794  1.310018            1.538566    -0.895802       -0.895679   \n",
       "19140  -1.560803  1.249211           -1.165333     0.249005        0.112126   \n",
       "19773  -1.281050  2.025674           -0.131489    -0.721836       -0.759358   \n",
       "\n",
       "       population  households  median_income  \n",
       "12655    0.732602    0.556286      -0.893647  \n",
       "15502    0.533612    0.721318       1.292168  \n",
       "2908    -0.674675   -0.524407      -0.525434  \n",
       "14053   -0.467617   -0.037297      -0.865929  \n",
       "20496    0.374060    0.220898       0.325752  \n",
       "...           ...         ...            ...  \n",
       "15174    0.543471    1.341519       0.637374  \n",
       "12661    3.002174    2.451492      -0.557509  \n",
       "19263   -0.862013   -0.865118      -0.365475  \n",
       "19140   -0.189747    0.010616       0.168261  \n",
       "19773   -0.712322   -0.798573      -0.390569  \n",
       "\n",
       "[16512 rows x 8 columns]"
      ]
     },
     "execution_count": 32,
     "metadata": {},
     "output_type": "execute_result"
    }
   ],
   "source": [
    "from sklearn.preprocessing import StandardScaler\n",
    "\n",
    "scaler = StandardScaler()\n",
    "scaler.fit(Q_num_tr_df)\n",
    "Q_num_tr_sc = scaler.transform(Q_num_tr_df)\n",
    "Q_num_tr_sc\n",
    "\n",
    "Q_num_tr_sc_df = pd.DataFrame(data=Q_num_tr_sc,\n",
    "                           columns=Q_num_tr_df.columns,\n",
    "                           index=Q_num_tr_df.index)\n",
    "Q_num_tr_sc_df"
   ]
  },
  {
   "cell_type": "markdown",
   "metadata": {
    "id": "FTzBt3m2Ylqw"
   },
   "source": [
    "### Categorical Variables"
   ]
  },
  {
   "cell_type": "code",
   "execution_count": 33,
   "metadata": {
    "id": "g6YaJzdkYfSd"
   },
   "outputs": [],
   "source": [
    "from sklearn.preprocessing import OneHotEncoder"
   ]
  },
  {
   "cell_type": "code",
   "execution_count": 34,
   "metadata": {
    "id": "BZ2dbLhYYtlS"
   },
   "outputs": [],
   "source": [
    "cat_encoder = OneHotEncoder(sparse=False)\n",
    "cat_encoder.fit(Q_cat)\n",
    "Q_cat_tr = cat_encoder.transform(Q_cat)"
   ]
  },
  {
   "cell_type": "code",
   "execution_count": 35,
   "metadata": {
    "colab": {
     "base_uri": "https://localhost:8080/"
    },
    "id": "4x-ZkRrjZAzd",
    "outputId": "233985b5-be8a-488a-f197-a9da95bdea42"
   },
   "outputs": [
    {
     "data": {
      "text/plain": [
       "['ocean_proximity_<1H OCEAN',\n",
       " 'ocean_proximity_INLAND',\n",
       " 'ocean_proximity_ISLAND',\n",
       " 'ocean_proximity_NEAR BAY',\n",
       " 'ocean_proximity_NEAR OCEAN']"
      ]
     },
     "execution_count": 35,
     "metadata": {},
     "output_type": "execute_result"
    }
   ],
   "source": [
    "cat_col = [f\"ocean_proximity_{x}\" for x in cat_encoder.categories_[0]]\n",
    "cat_col"
   ]
  },
  {
   "cell_type": "code",
   "execution_count": 36,
   "metadata": {
    "colab": {
     "base_uri": "https://localhost:8080/"
    },
    "id": "P8BDSl0-ZBp-",
    "outputId": "b6a4c1ba-ec3d-45b6-df15-2111e298f266"
   },
   "outputs": [
    {
     "data": {
      "text/html": [
       "<div>\n",
       "<style scoped>\n",
       "    .dataframe tbody tr th:only-of-type {\n",
       "        vertical-align: middle;\n",
       "    }\n",
       "\n",
       "    .dataframe tbody tr th {\n",
       "        vertical-align: top;\n",
       "    }\n",
       "\n",
       "    .dataframe thead th {\n",
       "        text-align: right;\n",
       "    }\n",
       "</style>\n",
       "<table border=\"1\" class=\"dataframe\">\n",
       "  <thead>\n",
       "    <tr style=\"text-align: right;\">\n",
       "      <th></th>\n",
       "      <th>ocean_proximity_&lt;1H OCEAN</th>\n",
       "      <th>ocean_proximity_INLAND</th>\n",
       "      <th>ocean_proximity_ISLAND</th>\n",
       "      <th>ocean_proximity_NEAR BAY</th>\n",
       "      <th>ocean_proximity_NEAR OCEAN</th>\n",
       "    </tr>\n",
       "  </thead>\n",
       "  <tbody>\n",
       "    <tr>\n",
       "      <th>12655</th>\n",
       "      <td>0.0</td>\n",
       "      <td>1.0</td>\n",
       "      <td>0.0</td>\n",
       "      <td>0.0</td>\n",
       "      <td>0.0</td>\n",
       "    </tr>\n",
       "    <tr>\n",
       "      <th>15502</th>\n",
       "      <td>0.0</td>\n",
       "      <td>0.0</td>\n",
       "      <td>0.0</td>\n",
       "      <td>0.0</td>\n",
       "      <td>1.0</td>\n",
       "    </tr>\n",
       "    <tr>\n",
       "      <th>2908</th>\n",
       "      <td>0.0</td>\n",
       "      <td>1.0</td>\n",
       "      <td>0.0</td>\n",
       "      <td>0.0</td>\n",
       "      <td>0.0</td>\n",
       "    </tr>\n",
       "    <tr>\n",
       "      <th>14053</th>\n",
       "      <td>0.0</td>\n",
       "      <td>0.0</td>\n",
       "      <td>0.0</td>\n",
       "      <td>0.0</td>\n",
       "      <td>1.0</td>\n",
       "    </tr>\n",
       "    <tr>\n",
       "      <th>20496</th>\n",
       "      <td>1.0</td>\n",
       "      <td>0.0</td>\n",
       "      <td>0.0</td>\n",
       "      <td>0.0</td>\n",
       "      <td>0.0</td>\n",
       "    </tr>\n",
       "    <tr>\n",
       "      <th>...</th>\n",
       "      <td>...</td>\n",
       "      <td>...</td>\n",
       "      <td>...</td>\n",
       "      <td>...</td>\n",
       "      <td>...</td>\n",
       "    </tr>\n",
       "    <tr>\n",
       "      <th>15174</th>\n",
       "      <td>1.0</td>\n",
       "      <td>0.0</td>\n",
       "      <td>0.0</td>\n",
       "      <td>0.0</td>\n",
       "      <td>0.0</td>\n",
       "    </tr>\n",
       "    <tr>\n",
       "      <th>12661</th>\n",
       "      <td>0.0</td>\n",
       "      <td>1.0</td>\n",
       "      <td>0.0</td>\n",
       "      <td>0.0</td>\n",
       "      <td>0.0</td>\n",
       "    </tr>\n",
       "    <tr>\n",
       "      <th>19263</th>\n",
       "      <td>1.0</td>\n",
       "      <td>0.0</td>\n",
       "      <td>0.0</td>\n",
       "      <td>0.0</td>\n",
       "      <td>0.0</td>\n",
       "    </tr>\n",
       "    <tr>\n",
       "      <th>19140</th>\n",
       "      <td>1.0</td>\n",
       "      <td>0.0</td>\n",
       "      <td>0.0</td>\n",
       "      <td>0.0</td>\n",
       "      <td>0.0</td>\n",
       "    </tr>\n",
       "    <tr>\n",
       "      <th>19773</th>\n",
       "      <td>0.0</td>\n",
       "      <td>1.0</td>\n",
       "      <td>0.0</td>\n",
       "      <td>0.0</td>\n",
       "      <td>0.0</td>\n",
       "    </tr>\n",
       "  </tbody>\n",
       "</table>\n",
       "<p>16512 rows × 5 columns</p>\n",
       "</div>"
      ],
      "text/plain": [
       "       ocean_proximity_<1H OCEAN  ocean_proximity_INLAND  \\\n",
       "12655                        0.0                     1.0   \n",
       "15502                        0.0                     0.0   \n",
       "2908                         0.0                     1.0   \n",
       "14053                        0.0                     0.0   \n",
       "20496                        1.0                     0.0   \n",
       "...                          ...                     ...   \n",
       "15174                        1.0                     0.0   \n",
       "12661                        0.0                     1.0   \n",
       "19263                        1.0                     0.0   \n",
       "19140                        1.0                     0.0   \n",
       "19773                        0.0                     1.0   \n",
       "\n",
       "       ocean_proximity_ISLAND  ocean_proximity_NEAR BAY  \\\n",
       "12655                     0.0                       0.0   \n",
       "15502                     0.0                       0.0   \n",
       "2908                      0.0                       0.0   \n",
       "14053                     0.0                       0.0   \n",
       "20496                     0.0                       0.0   \n",
       "...                       ...                       ...   \n",
       "15174                     0.0                       0.0   \n",
       "12661                     0.0                       0.0   \n",
       "19263                     0.0                       0.0   \n",
       "19140                     0.0                       0.0   \n",
       "19773                     0.0                       0.0   \n",
       "\n",
       "       ocean_proximity_NEAR OCEAN  \n",
       "12655                         0.0  \n",
       "15502                         1.0  \n",
       "2908                          0.0  \n",
       "14053                         1.0  \n",
       "20496                         0.0  \n",
       "...                           ...  \n",
       "15174                         0.0  \n",
       "12661                         0.0  \n",
       "19263                         0.0  \n",
       "19140                         0.0  \n",
       "19773                         0.0  \n",
       "\n",
       "[16512 rows x 5 columns]"
      ]
     },
     "execution_count": 36,
     "metadata": {},
     "output_type": "execute_result"
    }
   ],
   "source": [
    "Q_cat_tr_df = pd.DataFrame(Q_cat_tr,\n",
    "                           columns=cat_col,\n",
    "                           index=Q_cat.index)\n",
    "Q_cat_tr_df"
   ]
  },
  {
   "cell_type": "markdown",
   "metadata": {},
   "source": [
    "#### Full data"
   ]
  },
  {
   "cell_type": "code",
   "execution_count": 37,
   "metadata": {
    "colab": {
     "base_uri": "https://localhost:8080/"
    },
    "id": "zm5xHxW1Zrrk",
    "outputId": "967981ca-0ebc-4b90-eb6a-ee15cc59ddbc"
   },
   "outputs": [
    {
     "data": {
      "text/html": [
       "<div>\n",
       "<style scoped>\n",
       "    .dataframe tbody tr th:only-of-type {\n",
       "        vertical-align: middle;\n",
       "    }\n",
       "\n",
       "    .dataframe tbody tr th {\n",
       "        vertical-align: top;\n",
       "    }\n",
       "\n",
       "    .dataframe thead th {\n",
       "        text-align: right;\n",
       "    }\n",
       "</style>\n",
       "<table border=\"1\" class=\"dataframe\">\n",
       "  <thead>\n",
       "    <tr style=\"text-align: right;\">\n",
       "      <th></th>\n",
       "      <th>longitude</th>\n",
       "      <th>latitude</th>\n",
       "      <th>housing_median_age</th>\n",
       "      <th>total_rooms</th>\n",
       "      <th>total_bedrooms</th>\n",
       "      <th>population</th>\n",
       "      <th>households</th>\n",
       "      <th>median_income</th>\n",
       "      <th>ocean_proximity_&lt;1H OCEAN</th>\n",
       "      <th>ocean_proximity_INLAND</th>\n",
       "      <th>ocean_proximity_ISLAND</th>\n",
       "      <th>ocean_proximity_NEAR BAY</th>\n",
       "      <th>ocean_proximity_NEAR OCEAN</th>\n",
       "    </tr>\n",
       "  </thead>\n",
       "  <tbody>\n",
       "    <tr>\n",
       "      <th>12655</th>\n",
       "      <td>-0.941350</td>\n",
       "      <td>1.347438</td>\n",
       "      <td>0.027564</td>\n",
       "      <td>0.584777</td>\n",
       "      <td>0.640371</td>\n",
       "      <td>0.732602</td>\n",
       "      <td>0.556286</td>\n",
       "      <td>-0.893647</td>\n",
       "      <td>0.0</td>\n",
       "      <td>1.0</td>\n",
       "      <td>0.0</td>\n",
       "      <td>0.0</td>\n",
       "      <td>0.0</td>\n",
       "    </tr>\n",
       "    <tr>\n",
       "      <th>15502</th>\n",
       "      <td>1.171782</td>\n",
       "      <td>-1.192440</td>\n",
       "      <td>-1.722018</td>\n",
       "      <td>1.261467</td>\n",
       "      <td>0.781561</td>\n",
       "      <td>0.533612</td>\n",
       "      <td>0.721318</td>\n",
       "      <td>1.292168</td>\n",
       "      <td>0.0</td>\n",
       "      <td>0.0</td>\n",
       "      <td>0.0</td>\n",
       "      <td>0.0</td>\n",
       "      <td>1.0</td>\n",
       "    </tr>\n",
       "    <tr>\n",
       "      <th>2908</th>\n",
       "      <td>0.267581</td>\n",
       "      <td>-0.125972</td>\n",
       "      <td>1.220460</td>\n",
       "      <td>-0.469773</td>\n",
       "      <td>-0.545138</td>\n",
       "      <td>-0.674675</td>\n",
       "      <td>-0.524407</td>\n",
       "      <td>-0.525434</td>\n",
       "      <td>0.0</td>\n",
       "      <td>1.0</td>\n",
       "      <td>0.0</td>\n",
       "      <td>0.0</td>\n",
       "      <td>0.0</td>\n",
       "    </tr>\n",
       "    <tr>\n",
       "      <th>14053</th>\n",
       "      <td>1.221738</td>\n",
       "      <td>-1.351474</td>\n",
       "      <td>-0.370069</td>\n",
       "      <td>-0.348652</td>\n",
       "      <td>-0.036367</td>\n",
       "      <td>-0.467617</td>\n",
       "      <td>-0.037297</td>\n",
       "      <td>-0.865929</td>\n",
       "      <td>0.0</td>\n",
       "      <td>0.0</td>\n",
       "      <td>0.0</td>\n",
       "      <td>0.0</td>\n",
       "      <td>1.0</td>\n",
       "    </tr>\n",
       "    <tr>\n",
       "      <th>20496</th>\n",
       "      <td>0.437431</td>\n",
       "      <td>-0.635818</td>\n",
       "      <td>-0.131489</td>\n",
       "      <td>0.427179</td>\n",
       "      <td>0.272790</td>\n",
       "      <td>0.374060</td>\n",
       "      <td>0.220898</td>\n",
       "      <td>0.325752</td>\n",
       "      <td>1.0</td>\n",
       "      <td>0.0</td>\n",
       "      <td>0.0</td>\n",
       "      <td>0.0</td>\n",
       "      <td>0.0</td>\n",
       "    </tr>\n",
       "    <tr>\n",
       "      <th>...</th>\n",
       "      <td>...</td>\n",
       "      <td>...</td>\n",
       "      <td>...</td>\n",
       "      <td>...</td>\n",
       "      <td>...</td>\n",
       "      <td>...</td>\n",
       "      <td>...</td>\n",
       "      <td>...</td>\n",
       "      <td>...</td>\n",
       "      <td>...</td>\n",
       "      <td>...</td>\n",
       "      <td>...</td>\n",
       "      <td>...</td>\n",
       "    </tr>\n",
       "    <tr>\n",
       "      <th>15174</th>\n",
       "      <td>1.251711</td>\n",
       "      <td>-1.220505</td>\n",
       "      <td>-1.165333</td>\n",
       "      <td>1.890456</td>\n",
       "      <td>1.696862</td>\n",
       "      <td>0.543471</td>\n",
       "      <td>1.341519</td>\n",
       "      <td>0.637374</td>\n",
       "      <td>1.0</td>\n",
       "      <td>0.0</td>\n",
       "      <td>0.0</td>\n",
       "      <td>0.0</td>\n",
       "      <td>0.0</td>\n",
       "    </tr>\n",
       "    <tr>\n",
       "      <th>12661</th>\n",
       "      <td>-0.921368</td>\n",
       "      <td>1.342761</td>\n",
       "      <td>-1.085806</td>\n",
       "      <td>2.468471</td>\n",
       "      <td>2.161816</td>\n",
       "      <td>3.002174</td>\n",
       "      <td>2.451492</td>\n",
       "      <td>-0.557509</td>\n",
       "      <td>0.0</td>\n",
       "      <td>1.0</td>\n",
       "      <td>0.0</td>\n",
       "      <td>0.0</td>\n",
       "      <td>0.0</td>\n",
       "    </tr>\n",
       "    <tr>\n",
       "      <th>19263</th>\n",
       "      <td>-1.570794</td>\n",
       "      <td>1.310018</td>\n",
       "      <td>1.538566</td>\n",
       "      <td>-0.895802</td>\n",
       "      <td>-0.895679</td>\n",
       "      <td>-0.862013</td>\n",
       "      <td>-0.865118</td>\n",
       "      <td>-0.365475</td>\n",
       "      <td>1.0</td>\n",
       "      <td>0.0</td>\n",
       "      <td>0.0</td>\n",
       "      <td>0.0</td>\n",
       "      <td>0.0</td>\n",
       "    </tr>\n",
       "    <tr>\n",
       "      <th>19140</th>\n",
       "      <td>-1.560803</td>\n",
       "      <td>1.249211</td>\n",
       "      <td>-1.165333</td>\n",
       "      <td>0.249005</td>\n",
       "      <td>0.112126</td>\n",
       "      <td>-0.189747</td>\n",
       "      <td>0.010616</td>\n",
       "      <td>0.168261</td>\n",
       "      <td>1.0</td>\n",
       "      <td>0.0</td>\n",
       "      <td>0.0</td>\n",
       "      <td>0.0</td>\n",
       "      <td>0.0</td>\n",
       "    </tr>\n",
       "    <tr>\n",
       "      <th>19773</th>\n",
       "      <td>-1.281050</td>\n",
       "      <td>2.025674</td>\n",
       "      <td>-0.131489</td>\n",
       "      <td>-0.721836</td>\n",
       "      <td>-0.759358</td>\n",
       "      <td>-0.712322</td>\n",
       "      <td>-0.798573</td>\n",
       "      <td>-0.390569</td>\n",
       "      <td>0.0</td>\n",
       "      <td>1.0</td>\n",
       "      <td>0.0</td>\n",
       "      <td>0.0</td>\n",
       "      <td>0.0</td>\n",
       "    </tr>\n",
       "  </tbody>\n",
       "</table>\n",
       "<p>16512 rows × 13 columns</p>\n",
       "</div>"
      ],
      "text/plain": [
       "       longitude  latitude  housing_median_age  total_rooms  total_bedrooms  \\\n",
       "12655  -0.941350  1.347438            0.027564     0.584777        0.640371   \n",
       "15502   1.171782 -1.192440           -1.722018     1.261467        0.781561   \n",
       "2908    0.267581 -0.125972            1.220460    -0.469773       -0.545138   \n",
       "14053   1.221738 -1.351474           -0.370069    -0.348652       -0.036367   \n",
       "20496   0.437431 -0.635818           -0.131489     0.427179        0.272790   \n",
       "...          ...       ...                 ...          ...             ...   \n",
       "15174   1.251711 -1.220505           -1.165333     1.890456        1.696862   \n",
       "12661  -0.921368  1.342761           -1.085806     2.468471        2.161816   \n",
       "19263  -1.570794  1.310018            1.538566    -0.895802       -0.895679   \n",
       "19140  -1.560803  1.249211           -1.165333     0.249005        0.112126   \n",
       "19773  -1.281050  2.025674           -0.131489    -0.721836       -0.759358   \n",
       "\n",
       "       population  households  median_income  ocean_proximity_<1H OCEAN  \\\n",
       "12655    0.732602    0.556286      -0.893647                        0.0   \n",
       "15502    0.533612    0.721318       1.292168                        0.0   \n",
       "2908    -0.674675   -0.524407      -0.525434                        0.0   \n",
       "14053   -0.467617   -0.037297      -0.865929                        0.0   \n",
       "20496    0.374060    0.220898       0.325752                        1.0   \n",
       "...           ...         ...            ...                        ...   \n",
       "15174    0.543471    1.341519       0.637374                        1.0   \n",
       "12661    3.002174    2.451492      -0.557509                        0.0   \n",
       "19263   -0.862013   -0.865118      -0.365475                        1.0   \n",
       "19140   -0.189747    0.010616       0.168261                        1.0   \n",
       "19773   -0.712322   -0.798573      -0.390569                        0.0   \n",
       "\n",
       "       ocean_proximity_INLAND  ocean_proximity_ISLAND  \\\n",
       "12655                     1.0                     0.0   \n",
       "15502                     0.0                     0.0   \n",
       "2908                      1.0                     0.0   \n",
       "14053                     0.0                     0.0   \n",
       "20496                     0.0                     0.0   \n",
       "...                       ...                     ...   \n",
       "15174                     0.0                     0.0   \n",
       "12661                     1.0                     0.0   \n",
       "19263                     0.0                     0.0   \n",
       "19140                     0.0                     0.0   \n",
       "19773                     1.0                     0.0   \n",
       "\n",
       "       ocean_proximity_NEAR BAY  ocean_proximity_NEAR OCEAN  \n",
       "12655                       0.0                         0.0  \n",
       "15502                       0.0                         1.0  \n",
       "2908                        0.0                         0.0  \n",
       "14053                       0.0                         1.0  \n",
       "20496                       0.0                         0.0  \n",
       "...                         ...                         ...  \n",
       "15174                       0.0                         0.0  \n",
       "12661                       0.0                         0.0  \n",
       "19263                       0.0                         0.0  \n",
       "19140                       0.0                         0.0  \n",
       "19773                       0.0                         0.0  \n",
       "\n",
       "[16512 rows x 13 columns]"
      ]
     },
     "execution_count": 37,
     "metadata": {},
     "output_type": "execute_result"
    }
   ],
   "source": [
    "Q_clean = pd.concat([Q_num_tr_sc_df, Q_cat_tr_df], axis=1)\n",
    "Q_clean"
   ]
  },
  {
   "cell_type": "markdown",
   "metadata": {},
   "source": [
    "### Regression"
   ]
  },
  {
   "cell_type": "code",
   "execution_count": 38,
   "metadata": {},
   "outputs": [
    {
     "data": {
      "text/plain": [
       "LinearRegression()"
      ]
     },
     "execution_count": 38,
     "metadata": {},
     "output_type": "execute_result"
    }
   ],
   "source": [
    "from sklearn.linear_model import LinearRegression\n",
    "\n",
    "lr = LinearRegression()\n",
    "lr.fit(Q_clean, y_train)"
   ]
  },
  {
   "cell_type": "code",
   "execution_count": 39,
   "metadata": {},
   "outputs": [
    {
     "data": {
      "text/plain": [
       "0.6438078994746375"
      ]
     },
     "execution_count": 39,
     "metadata": {},
     "output_type": "execute_result"
    }
   ],
   "source": [
    "lr.score(Q_clean, y_train)"
   ]
  },
  {
   "cell_type": "markdown",
   "metadata": {
    "tags": []
   },
   "source": [
    "### Check on test train"
   ]
  },
  {
   "cell_type": "code",
   "execution_count": 40,
   "metadata": {},
   "outputs": [],
   "source": [
    "X_test = pd.read_pickle(\"./test_folder/test.pkl\")\n",
    "y_test = X_test.pop('median_house_value')"
   ]
  },
  {
   "cell_type": "code",
   "execution_count": 41,
   "metadata": {},
   "outputs": [
    {
     "data": {
      "text/html": [
       "<div>\n",
       "<style scoped>\n",
       "    .dataframe tbody tr th:only-of-type {\n",
       "        vertical-align: middle;\n",
       "    }\n",
       "\n",
       "    .dataframe tbody tr th {\n",
       "        vertical-align: top;\n",
       "    }\n",
       "\n",
       "    .dataframe thead th {\n",
       "        text-align: right;\n",
       "    }\n",
       "</style>\n",
       "<table border=\"1\" class=\"dataframe\">\n",
       "  <thead>\n",
       "    <tr style=\"text-align: right;\">\n",
       "      <th></th>\n",
       "      <th>longitude</th>\n",
       "      <th>latitude</th>\n",
       "      <th>housing_median_age</th>\n",
       "      <th>total_rooms</th>\n",
       "      <th>total_bedrooms</th>\n",
       "      <th>population</th>\n",
       "      <th>households</th>\n",
       "      <th>median_income</th>\n",
       "      <th>ocean_proximity</th>\n",
       "    </tr>\n",
       "  </thead>\n",
       "  <tbody>\n",
       "    <tr>\n",
       "      <th>5241</th>\n",
       "      <td>-118.39</td>\n",
       "      <td>34.12</td>\n",
       "      <td>29.0</td>\n",
       "      <td>6447.0</td>\n",
       "      <td>1012.0</td>\n",
       "      <td>2184.0</td>\n",
       "      <td>960.0</td>\n",
       "      <td>8.2816</td>\n",
       "      <td>&lt;1H OCEAN</td>\n",
       "    </tr>\n",
       "    <tr>\n",
       "      <th>17352</th>\n",
       "      <td>-120.42</td>\n",
       "      <td>34.89</td>\n",
       "      <td>24.0</td>\n",
       "      <td>2020.0</td>\n",
       "      <td>307.0</td>\n",
       "      <td>855.0</td>\n",
       "      <td>283.0</td>\n",
       "      <td>5.0099</td>\n",
       "      <td>&lt;1H OCEAN</td>\n",
       "    </tr>\n",
       "    <tr>\n",
       "      <th>3505</th>\n",
       "      <td>-118.45</td>\n",
       "      <td>34.25</td>\n",
       "      <td>36.0</td>\n",
       "      <td>1453.0</td>\n",
       "      <td>270.0</td>\n",
       "      <td>808.0</td>\n",
       "      <td>275.0</td>\n",
       "      <td>4.3839</td>\n",
       "      <td>&lt;1H OCEAN</td>\n",
       "    </tr>\n",
       "    <tr>\n",
       "      <th>7777</th>\n",
       "      <td>-118.10</td>\n",
       "      <td>33.91</td>\n",
       "      <td>35.0</td>\n",
       "      <td>1653.0</td>\n",
       "      <td>325.0</td>\n",
       "      <td>1072.0</td>\n",
       "      <td>301.0</td>\n",
       "      <td>3.2708</td>\n",
       "      <td>&lt;1H OCEAN</td>\n",
       "    </tr>\n",
       "    <tr>\n",
       "      <th>14155</th>\n",
       "      <td>-117.07</td>\n",
       "      <td>32.77</td>\n",
       "      <td>38.0</td>\n",
       "      <td>3779.0</td>\n",
       "      <td>614.0</td>\n",
       "      <td>1495.0</td>\n",
       "      <td>614.0</td>\n",
       "      <td>4.3529</td>\n",
       "      <td>NEAR OCEAN</td>\n",
       "    </tr>\n",
       "    <tr>\n",
       "      <th>...</th>\n",
       "      <td>...</td>\n",
       "      <td>...</td>\n",
       "      <td>...</td>\n",
       "      <td>...</td>\n",
       "      <td>...</td>\n",
       "      <td>...</td>\n",
       "      <td>...</td>\n",
       "      <td>...</td>\n",
       "      <td>...</td>\n",
       "    </tr>\n",
       "    <tr>\n",
       "      <th>12182</th>\n",
       "      <td>-117.29</td>\n",
       "      <td>33.72</td>\n",
       "      <td>19.0</td>\n",
       "      <td>2248.0</td>\n",
       "      <td>427.0</td>\n",
       "      <td>1207.0</td>\n",
       "      <td>368.0</td>\n",
       "      <td>2.8170</td>\n",
       "      <td>&lt;1H OCEAN</td>\n",
       "    </tr>\n",
       "    <tr>\n",
       "      <th>7275</th>\n",
       "      <td>-118.24</td>\n",
       "      <td>33.99</td>\n",
       "      <td>33.0</td>\n",
       "      <td>885.0</td>\n",
       "      <td>294.0</td>\n",
       "      <td>1270.0</td>\n",
       "      <td>282.0</td>\n",
       "      <td>2.1615</td>\n",
       "      <td>&lt;1H OCEAN</td>\n",
       "    </tr>\n",
       "    <tr>\n",
       "      <th>17223</th>\n",
       "      <td>-119.72</td>\n",
       "      <td>34.44</td>\n",
       "      <td>43.0</td>\n",
       "      <td>1781.0</td>\n",
       "      <td>342.0</td>\n",
       "      <td>663.0</td>\n",
       "      <td>358.0</td>\n",
       "      <td>4.7000</td>\n",
       "      <td>&lt;1H OCEAN</td>\n",
       "    </tr>\n",
       "    <tr>\n",
       "      <th>10786</th>\n",
       "      <td>-117.91</td>\n",
       "      <td>33.63</td>\n",
       "      <td>30.0</td>\n",
       "      <td>2071.0</td>\n",
       "      <td>412.0</td>\n",
       "      <td>1081.0</td>\n",
       "      <td>412.0</td>\n",
       "      <td>4.9125</td>\n",
       "      <td>&lt;1H OCEAN</td>\n",
       "    </tr>\n",
       "    <tr>\n",
       "      <th>3965</th>\n",
       "      <td>-118.56</td>\n",
       "      <td>34.19</td>\n",
       "      <td>36.0</td>\n",
       "      <td>2600.0</td>\n",
       "      <td>441.0</td>\n",
       "      <td>1246.0</td>\n",
       "      <td>426.0</td>\n",
       "      <td>4.1111</td>\n",
       "      <td>&lt;1H OCEAN</td>\n",
       "    </tr>\n",
       "  </tbody>\n",
       "</table>\n",
       "<p>4128 rows × 9 columns</p>\n",
       "</div>"
      ],
      "text/plain": [
       "       longitude  latitude  housing_median_age  total_rooms  total_bedrooms  \\\n",
       "5241     -118.39     34.12                29.0       6447.0          1012.0   \n",
       "17352    -120.42     34.89                24.0       2020.0           307.0   \n",
       "3505     -118.45     34.25                36.0       1453.0           270.0   \n",
       "7777     -118.10     33.91                35.0       1653.0           325.0   \n",
       "14155    -117.07     32.77                38.0       3779.0           614.0   \n",
       "...          ...       ...                 ...          ...             ...   \n",
       "12182    -117.29     33.72                19.0       2248.0           427.0   \n",
       "7275     -118.24     33.99                33.0        885.0           294.0   \n",
       "17223    -119.72     34.44                43.0       1781.0           342.0   \n",
       "10786    -117.91     33.63                30.0       2071.0           412.0   \n",
       "3965     -118.56     34.19                36.0       2600.0           441.0   \n",
       "\n",
       "       population  households  median_income ocean_proximity  \n",
       "5241       2184.0       960.0         8.2816       <1H OCEAN  \n",
       "17352       855.0       283.0         5.0099       <1H OCEAN  \n",
       "3505        808.0       275.0         4.3839       <1H OCEAN  \n",
       "7777       1072.0       301.0         3.2708       <1H OCEAN  \n",
       "14155      1495.0       614.0         4.3529      NEAR OCEAN  \n",
       "...           ...         ...            ...             ...  \n",
       "12182      1207.0       368.0         2.8170       <1H OCEAN  \n",
       "7275       1270.0       282.0         2.1615       <1H OCEAN  \n",
       "17223       663.0       358.0         4.7000       <1H OCEAN  \n",
       "10786      1081.0       412.0         4.9125       <1H OCEAN  \n",
       "3965       1246.0       426.0         4.1111       <1H OCEAN  \n",
       "\n",
       "[4128 rows x 9 columns]"
      ]
     },
     "execution_count": 41,
     "metadata": {},
     "output_type": "execute_result"
    }
   ],
   "source": [
    "X_test"
   ]
  },
  {
   "cell_type": "markdown",
   "metadata": {},
   "source": [
    "... :("
   ]
  },
  {
   "cell_type": "markdown",
   "metadata": {
    "id": "Sy7PjkIdaeZd"
   },
   "source": [
    "# Pipeline"
   ]
  },
  {
   "cell_type": "code",
   "execution_count": 42,
   "metadata": {
    "id": "LJ1rzW5WagGG"
   },
   "outputs": [],
   "source": [
    "from sklearn.pipeline import Pipeline\n",
    "from sklearn.compose import ColumnTransformer\n",
    "from sklearn.preprocessing import StandardScaler\n",
    "from sklearn.impute import SimpleImputer\n",
    "from sklearn.linear_model import LinearRegression"
   ]
  },
  {
   "cell_type": "code",
   "execution_count": 43,
   "metadata": {
    "id": "mZyikIqzad-6"
   },
   "outputs": [],
   "source": [
    "num_attr = X_train.select_dtypes(include='number').columns\n",
    "cat_attr = X_train.select_dtypes(exclude='number').columns"
   ]
  },
  {
   "cell_type": "code",
   "execution_count": 44,
   "metadata": {
    "id": "T_U53vVJZ3TW"
   },
   "outputs": [],
   "source": [
    "num_pipeline = Pipeline(\n",
    "    [\n",
    "     ('imputer', SimpleImputer(strategy='median')),\n",
    "     ('standard_scaller', StandardScaler()),\n",
    "    ]\n",
    ")\n",
    "\n",
    "cat_num_pipeline = ColumnTransformer(\n",
    "    transformers=\n",
    "    [\n",
    "     ('numerical', num_pipeline, num_attr),\n",
    "     ('categorical', OneHotEncoder(), cat_attr)\n",
    "    ]\n",
    ")\n",
    "\n",
    "linear_pipeline = Pipeline(steps=[\n",
    "    ('tr_pipeline', cat_num_pipeline),\n",
    "    ('linear_regression',  LinearRegression())\n",
    "])"
   ]
  },
  {
   "cell_type": "code",
   "execution_count": 45,
   "metadata": {
    "id": "Oy9Dz4c_bNNj"
   },
   "outputs": [],
   "source": [
    "X_train_tr = linear_pipeline.fit(X_train, y_train)"
   ]
  },
  {
   "cell_type": "code",
   "execution_count": 46,
   "metadata": {},
   "outputs": [
    {
     "data": {
      "text/plain": [
       "0.6519949368926146"
      ]
     },
     "execution_count": 46,
     "metadata": {},
     "output_type": "execute_result"
    }
   ],
   "source": [
    "from sklearn.metrics import r2_score\n",
    "\n",
    "r2_score(y_test, linear_pipeline.predict(X_test))"
   ]
  },
  {
   "cell_type": "code",
   "execution_count": 47,
   "metadata": {},
   "outputs": [
    {
     "name": "stdout",
     "output_type": "stream",
     "text": [
      "69050.56219504567\n",
      "67346.87995764882\n"
     ]
    }
   ],
   "source": [
    "from sklearn.metrics import mean_squared_error\n",
    "\n",
    "print(mean_squared_error(y_train, linear_pipeline.predict(X_train), squared=False))\n",
    "print(mean_squared_error(y_test, linear_pipeline.predict(X_test), squared=False))"
   ]
  },
  {
   "cell_type": "code",
   "execution_count": null,
   "metadata": {},
   "outputs": [],
   "source": []
  },
  {
   "cell_type": "code",
   "execution_count": 48,
   "metadata": {
    "id": "tQ3_h3yJi89s"
   },
   "outputs": [
    {
     "data": {
      "text/html": [
       "<div>\n",
       "<style scoped>\n",
       "    .dataframe tbody tr th:only-of-type {\n",
       "        vertical-align: middle;\n",
       "    }\n",
       "\n",
       "    .dataframe tbody tr th {\n",
       "        vertical-align: top;\n",
       "    }\n",
       "\n",
       "    .dataframe thead th {\n",
       "        text-align: right;\n",
       "    }\n",
       "</style>\n",
       "<table border=\"1\" class=\"dataframe\">\n",
       "  <thead>\n",
       "    <tr style=\"text-align: right;\">\n",
       "      <th></th>\n",
       "      <th>0</th>\n",
       "      <th>1</th>\n",
       "      <th>2</th>\n",
       "      <th>3</th>\n",
       "      <th>4</th>\n",
       "      <th>5</th>\n",
       "      <th>6</th>\n",
       "      <th>7</th>\n",
       "      <th>8</th>\n",
       "      <th>9</th>\n",
       "      <th>10</th>\n",
       "      <th>11</th>\n",
       "      <th>12</th>\n",
       "    </tr>\n",
       "  </thead>\n",
       "  <tbody>\n",
       "    <tr>\n",
       "      <th>0</th>\n",
       "      <td>-0.941350</td>\n",
       "      <td>1.347438</td>\n",
       "      <td>0.027564</td>\n",
       "      <td>0.584777</td>\n",
       "      <td>0.640371</td>\n",
       "      <td>0.732602</td>\n",
       "      <td>0.556286</td>\n",
       "      <td>-0.893647</td>\n",
       "      <td>0.0</td>\n",
       "      <td>1.0</td>\n",
       "      <td>0.0</td>\n",
       "      <td>0.0</td>\n",
       "      <td>0.0</td>\n",
       "    </tr>\n",
       "    <tr>\n",
       "      <th>1</th>\n",
       "      <td>1.171782</td>\n",
       "      <td>-1.192440</td>\n",
       "      <td>-1.722018</td>\n",
       "      <td>1.261467</td>\n",
       "      <td>0.781561</td>\n",
       "      <td>0.533612</td>\n",
       "      <td>0.721318</td>\n",
       "      <td>1.292168</td>\n",
       "      <td>0.0</td>\n",
       "      <td>0.0</td>\n",
       "      <td>0.0</td>\n",
       "      <td>0.0</td>\n",
       "      <td>1.0</td>\n",
       "    </tr>\n",
       "    <tr>\n",
       "      <th>2</th>\n",
       "      <td>0.267581</td>\n",
       "      <td>-0.125972</td>\n",
       "      <td>1.220460</td>\n",
       "      <td>-0.469773</td>\n",
       "      <td>-0.545138</td>\n",
       "      <td>-0.674675</td>\n",
       "      <td>-0.524407</td>\n",
       "      <td>-0.525434</td>\n",
       "      <td>0.0</td>\n",
       "      <td>1.0</td>\n",
       "      <td>0.0</td>\n",
       "      <td>0.0</td>\n",
       "      <td>0.0</td>\n",
       "    </tr>\n",
       "    <tr>\n",
       "      <th>3</th>\n",
       "      <td>1.221738</td>\n",
       "      <td>-1.351474</td>\n",
       "      <td>-0.370069</td>\n",
       "      <td>-0.348652</td>\n",
       "      <td>-0.036367</td>\n",
       "      <td>-0.467617</td>\n",
       "      <td>-0.037297</td>\n",
       "      <td>-0.865929</td>\n",
       "      <td>0.0</td>\n",
       "      <td>0.0</td>\n",
       "      <td>0.0</td>\n",
       "      <td>0.0</td>\n",
       "      <td>1.0</td>\n",
       "    </tr>\n",
       "    <tr>\n",
       "      <th>4</th>\n",
       "      <td>0.437431</td>\n",
       "      <td>-0.635818</td>\n",
       "      <td>-0.131489</td>\n",
       "      <td>0.427179</td>\n",
       "      <td>0.272790</td>\n",
       "      <td>0.374060</td>\n",
       "      <td>0.220898</td>\n",
       "      <td>0.325752</td>\n",
       "      <td>1.0</td>\n",
       "      <td>0.0</td>\n",
       "      <td>0.0</td>\n",
       "      <td>0.0</td>\n",
       "      <td>0.0</td>\n",
       "    </tr>\n",
       "    <tr>\n",
       "      <th>...</th>\n",
       "      <td>...</td>\n",
       "      <td>...</td>\n",
       "      <td>...</td>\n",
       "      <td>...</td>\n",
       "      <td>...</td>\n",
       "      <td>...</td>\n",
       "      <td>...</td>\n",
       "      <td>...</td>\n",
       "      <td>...</td>\n",
       "      <td>...</td>\n",
       "      <td>...</td>\n",
       "      <td>...</td>\n",
       "      <td>...</td>\n",
       "    </tr>\n",
       "    <tr>\n",
       "      <th>16507</th>\n",
       "      <td>1.251711</td>\n",
       "      <td>-1.220505</td>\n",
       "      <td>-1.165333</td>\n",
       "      <td>1.890456</td>\n",
       "      <td>1.696862</td>\n",
       "      <td>0.543471</td>\n",
       "      <td>1.341519</td>\n",
       "      <td>0.637374</td>\n",
       "      <td>1.0</td>\n",
       "      <td>0.0</td>\n",
       "      <td>0.0</td>\n",
       "      <td>0.0</td>\n",
       "      <td>0.0</td>\n",
       "    </tr>\n",
       "    <tr>\n",
       "      <th>16508</th>\n",
       "      <td>-0.921368</td>\n",
       "      <td>1.342761</td>\n",
       "      <td>-1.085806</td>\n",
       "      <td>2.468471</td>\n",
       "      <td>2.161816</td>\n",
       "      <td>3.002174</td>\n",
       "      <td>2.451492</td>\n",
       "      <td>-0.557509</td>\n",
       "      <td>0.0</td>\n",
       "      <td>1.0</td>\n",
       "      <td>0.0</td>\n",
       "      <td>0.0</td>\n",
       "      <td>0.0</td>\n",
       "    </tr>\n",
       "    <tr>\n",
       "      <th>16509</th>\n",
       "      <td>-1.570794</td>\n",
       "      <td>1.310018</td>\n",
       "      <td>1.538566</td>\n",
       "      <td>-0.895802</td>\n",
       "      <td>-0.895679</td>\n",
       "      <td>-0.862013</td>\n",
       "      <td>-0.865118</td>\n",
       "      <td>-0.365475</td>\n",
       "      <td>1.0</td>\n",
       "      <td>0.0</td>\n",
       "      <td>0.0</td>\n",
       "      <td>0.0</td>\n",
       "      <td>0.0</td>\n",
       "    </tr>\n",
       "    <tr>\n",
       "      <th>16510</th>\n",
       "      <td>-1.560803</td>\n",
       "      <td>1.249211</td>\n",
       "      <td>-1.165333</td>\n",
       "      <td>0.249005</td>\n",
       "      <td>0.112126</td>\n",
       "      <td>-0.189747</td>\n",
       "      <td>0.010616</td>\n",
       "      <td>0.168261</td>\n",
       "      <td>1.0</td>\n",
       "      <td>0.0</td>\n",
       "      <td>0.0</td>\n",
       "      <td>0.0</td>\n",
       "      <td>0.0</td>\n",
       "    </tr>\n",
       "    <tr>\n",
       "      <th>16511</th>\n",
       "      <td>-1.281050</td>\n",
       "      <td>2.025674</td>\n",
       "      <td>-0.131489</td>\n",
       "      <td>-0.721836</td>\n",
       "      <td>-0.759358</td>\n",
       "      <td>-0.712322</td>\n",
       "      <td>-0.798573</td>\n",
       "      <td>-0.390569</td>\n",
       "      <td>0.0</td>\n",
       "      <td>1.0</td>\n",
       "      <td>0.0</td>\n",
       "      <td>0.0</td>\n",
       "      <td>0.0</td>\n",
       "    </tr>\n",
       "  </tbody>\n",
       "</table>\n",
       "<p>16512 rows × 13 columns</p>\n",
       "</div>"
      ],
      "text/plain": [
       "             0         1         2         3         4         5         6   \\\n",
       "0     -0.941350  1.347438  0.027564  0.584777  0.640371  0.732602  0.556286   \n",
       "1      1.171782 -1.192440 -1.722018  1.261467  0.781561  0.533612  0.721318   \n",
       "2      0.267581 -0.125972  1.220460 -0.469773 -0.545138 -0.674675 -0.524407   \n",
       "3      1.221738 -1.351474 -0.370069 -0.348652 -0.036367 -0.467617 -0.037297   \n",
       "4      0.437431 -0.635818 -0.131489  0.427179  0.272790  0.374060  0.220898   \n",
       "...         ...       ...       ...       ...       ...       ...       ...   \n",
       "16507  1.251711 -1.220505 -1.165333  1.890456  1.696862  0.543471  1.341519   \n",
       "16508 -0.921368  1.342761 -1.085806  2.468471  2.161816  3.002174  2.451492   \n",
       "16509 -1.570794  1.310018  1.538566 -0.895802 -0.895679 -0.862013 -0.865118   \n",
       "16510 -1.560803  1.249211 -1.165333  0.249005  0.112126 -0.189747  0.010616   \n",
       "16511 -1.281050  2.025674 -0.131489 -0.721836 -0.759358 -0.712322 -0.798573   \n",
       "\n",
       "             7    8    9    10   11   12  \n",
       "0     -0.893647  0.0  1.0  0.0  0.0  0.0  \n",
       "1      1.292168  0.0  0.0  0.0  0.0  1.0  \n",
       "2     -0.525434  0.0  1.0  0.0  0.0  0.0  \n",
       "3     -0.865929  0.0  0.0  0.0  0.0  1.0  \n",
       "4      0.325752  1.0  0.0  0.0  0.0  0.0  \n",
       "...         ...  ...  ...  ...  ...  ...  \n",
       "16507  0.637374  1.0  0.0  0.0  0.0  0.0  \n",
       "16508 -0.557509  0.0  1.0  0.0  0.0  0.0  \n",
       "16509 -0.365475  1.0  0.0  0.0  0.0  0.0  \n",
       "16510  0.168261  1.0  0.0  0.0  0.0  0.0  \n",
       "16511 -0.390569  0.0  1.0  0.0  0.0  0.0  \n",
       "\n",
       "[16512 rows x 13 columns]"
      ]
     },
     "execution_count": 48,
     "metadata": {},
     "output_type": "execute_result"
    }
   ],
   "source": [
    "pd.DataFrame(linear_pipeline['tr_pipeline'].transform(X_train))"
   ]
  },
  {
   "cell_type": "markdown",
   "metadata": {},
   "source": [
    "<hr>"
   ]
  },
  {
   "cell_type": "markdown",
   "metadata": {
    "tags": []
   },
   "source": [
    "### Decision Tree Regression"
   ]
  },
  {
   "cell_type": "code",
   "execution_count": 49,
   "metadata": {},
   "outputs": [],
   "source": [
    "from sklearn.tree import DecisionTreeRegressor"
   ]
  },
  {
   "cell_type": "code",
   "execution_count": 50,
   "metadata": {},
   "outputs": [],
   "source": [
    "num_pipeline = Pipeline(\n",
    "    [\n",
    "     ('imputer', SimpleImputer(strategy='median')),\n",
    "     ('standard_scaller', StandardScaler()),\n",
    "    ]\n",
    ")\n",
    "\n",
    "cat_num_pipeline = ColumnTransformer(\n",
    "    transformers=\n",
    "    [\n",
    "     ('numerical', num_pipeline, num_attr),\n",
    "     ('categorical', OneHotEncoder(), cat_attr)\n",
    "    ]\n",
    ")\n",
    "\n",
    "tree_pipeline = Pipeline(steps=[\n",
    "    ('tr_pipeline', cat_num_pipeline),\n",
    "    ('linear_regression',  DecisionTreeRegressor(random_state=42))\n",
    "])"
   ]
  },
  {
   "cell_type": "code",
   "execution_count": 51,
   "metadata": {},
   "outputs": [
    {
     "data": {
      "text/plain": [
       "Pipeline(steps=[('tr_pipeline',\n",
       "                 ColumnTransformer(transformers=[('numerical',\n",
       "                                                  Pipeline(steps=[('imputer',\n",
       "                                                                   SimpleImputer(strategy='median')),\n",
       "                                                                  ('standard_scaller',\n",
       "                                                                   StandardScaler())]),\n",
       "                                                  Index(['longitude', 'latitude', 'housing_median_age', 'total_rooms',\n",
       "       'total_bedrooms', 'population', 'households', 'median_income'],\n",
       "      dtype='object')),\n",
       "                                                 ('categorical',\n",
       "                                                  OneHotEncoder(),\n",
       "                                                  Index(['ocean_proximity'], dtype='object'))])),\n",
       "                ('linear_regression', DecisionTreeRegressor(random_state=42))])"
      ]
     },
     "execution_count": 51,
     "metadata": {},
     "output_type": "execute_result"
    }
   ],
   "source": [
    "tree_pipeline.fit(X_train, y_train)"
   ]
  },
  {
   "cell_type": "code",
   "execution_count": 52,
   "metadata": {},
   "outputs": [
    {
     "name": "stdout",
     "output_type": "stream",
     "text": [
      "0.0\n",
      "69203.52536476958\n"
     ]
    }
   ],
   "source": [
    "print(mean_squared_error(y_train, tree_pipeline.predict(X_train), squared=False))\n",
    "print(mean_squared_error(y_test, tree_pipeline.predict(X_test), squared=False))"
   ]
  },
  {
   "cell_type": "markdown",
   "metadata": {},
   "source": [
    "### Better Evaluation Using Cross-Validation"
   ]
  },
  {
   "cell_type": "code",
   "execution_count": 53,
   "metadata": {},
   "outputs": [
    {
     "name": "stdout",
     "output_type": "stream",
     "text": [
      "[71152.59187256 70068.70314956 64901.96987894 68783.02168675\n",
      " 66944.32525877 68260.00359756 71031.16291424 69086.59778928\n",
      " 67252.39727946 73247.28194339]\n",
      "Mean: 69072.80553705241\n",
      "Std: 2292.678273223765\n"
     ]
    }
   ],
   "source": [
    "from sklearn.model_selection import cross_val_score\n",
    "\n",
    "scores = cross_val_score(tree_pipeline, X_train, y_train,\n",
    "                         scoring=\"neg_mean_squared_error\", cv=10)\n",
    "tree_rmse_scores = np.sqrt(-scores)\n",
    "\n",
    "print(tree_rmse_scores)\n",
    "print(f\"Mean: {tree_rmse_scores.mean()}\")\n",
    "print(f\"Std: {tree_rmse_scores.std()}\")"
   ]
  },
  {
   "cell_type": "code",
   "execution_count": 54,
   "metadata": {},
   "outputs": [
    {
     "name": "stdout",
     "output_type": "stream",
     "text": [
      "[72229.41585732 65317.99234531 67706.39604745 69368.37518568\n",
      " 66767.04362643 73003.75273869 70522.24414582 69440.77896541\n",
      " 66930.32945876 70756.88085072]\n",
      "Mean: 69204.32092215857\n",
      "Std: 2372.2512132439283\n"
     ]
    }
   ],
   "source": [
    "scores = cross_val_score(linear_pipeline, X_train, y_train,\n",
    "                         scoring=\"neg_mean_squared_error\", cv=10)\n",
    "linear_rmse_scores = np.sqrt(-scores)\n",
    "\n",
    "print(linear_rmse_scores)\n",
    "print(f\"Mean: {linear_rmse_scores.mean()}\")\n",
    "print(f\"Std: {linear_rmse_scores.std()}\")"
   ]
  },
  {
   "cell_type": "markdown",
   "metadata": {},
   "source": [
    "# Model Fine-tuning"
   ]
  },
  {
   "cell_type": "code",
   "execution_count": 55,
   "metadata": {},
   "outputs": [],
   "source": [
    "X_train_tr = cat_num_pipeline.fit_transform(X_train)\n",
    "X_test_tr = cat_num_pipeline.transform(X_test)"
   ]
  },
  {
   "cell_type": "markdown",
   "metadata": {},
   "source": [
    "### Tree"
   ]
  },
  {
   "cell_type": "code",
   "execution_count": 56,
   "metadata": {},
   "outputs": [
    {
     "name": "stdout",
     "output_type": "stream",
     "text": [
      "MSE train: 76118.50508259152\n",
      "MSE test:  74411.14381057909\n"
     ]
    }
   ],
   "source": [
    "tr = DecisionTreeRegressor(random_state=42, max_depth=3, min_samples_split=7)\n",
    "tr.fit(X_train_tr, y_train)\n",
    "\n",
    "y_train_pred = tr.predict(X_train_tr)\n",
    "y_test_pred = tr.predict(X_test_tr)\n",
    "\n",
    "\n",
    "print(f\"MSE train: {mean_squared_error(y_train, y_train_pred, squared=False)}\")\n",
    "print(f\"MSE test:  {mean_squared_error(y_test, y_test_pred, squared=False)}\")"
   ]
  },
  {
   "cell_type": "code",
   "execution_count": 57,
   "metadata": {},
   "outputs": [
    {
     "name": "stdout",
     "output_type": "stream",
     "text": [
      "MSE train: 21272.92183357023\n",
      "MSE test:  66046.85072309691\n"
     ]
    }
   ],
   "source": [
    "tr = DecisionTreeRegressor(random_state=42, min_samples_split=7)\n",
    "tr.fit(X_train_tr, y_train)\n",
    "\n",
    "y_train_pred = tr.predict(X_train_tr)\n",
    "y_test_pred = tr.predict(X_test_tr)\n",
    "\n",
    "\n",
    "print(f\"MSE train: {mean_squared_error(y_train, y_train_pred, squared=False)}\")\n",
    "print(f\"MSE test:  {mean_squared_error(y_test, y_test_pred, squared=False)}\")"
   ]
  },
  {
   "cell_type": "code",
   "execution_count": 58,
   "metadata": {},
   "outputs": [
    {
     "name": "stdout",
     "output_type": "stream",
     "text": [
      "MSE train: 69518.21444703668\n",
      "MSE test:  70456.06294373612\n"
     ]
    }
   ],
   "source": [
    "tr = DecisionTreeRegressor(random_state=42, max_depth=5)\n",
    "tr.fit(X_train_tr, y_train)\n",
    "\n",
    "y_train_pred = tr.predict(X_train_tr)\n",
    "y_test_pred = tr.predict(X_test_tr)\n",
    "\n",
    "\n",
    "print(f\"MSE train: {mean_squared_error(y_train, y_train_pred, squared=False)}\")\n",
    "print(f\"MSE test:  {mean_squared_error(y_test, y_test_pred, squared=False)}\")"
   ]
  },
  {
   "cell_type": "code",
   "execution_count": 59,
   "metadata": {
    "tags": []
   },
   "outputs": [
    {
     "name": "stdout",
     "output_type": "stream",
     "text": [
      "Fitting 5 folds for each of 16 candidates, totalling 80 fits\n"
     ]
    },
    {
     "data": {
      "text/plain": [
       "GridSearchCV(estimator=DecisionTreeRegressor(random_state=42),\n",
       "             param_grid={'max_depth': [3, 4, 10, 15],\n",
       "                         'min_samples_split': [2, 4, 6, 8]},\n",
       "             scoring='neg_root_mean_squared_error', verbose=1)"
      ]
     },
     "execution_count": 59,
     "metadata": {},
     "output_type": "execute_result"
    }
   ],
   "source": [
    "from sklearn.model_selection import GridSearchCV\n",
    "\n",
    "param = {\n",
    "    'max_depth': [3, 4, 10, 15], \n",
    "    'min_samples_split': [2, 4, 6, 8]\n",
    "}\n",
    "\n",
    "\n",
    "tree_gs_reg = DecisionTreeRegressor(random_state=42)\n",
    "\n",
    "grid_search = GridSearchCV(tree_gs_reg, \n",
    "                           param,\n",
    "                           scoring='neg_root_mean_squared_error',\n",
    "                          verbose=1)\n",
    "\n",
    "grid_search.fit(X_train_tr, y_train)"
   ]
  },
  {
   "cell_type": "code",
   "execution_count": 60,
   "metadata": {},
   "outputs": [
    {
     "data": {
      "text/plain": [
       "{'max_depth': 10, 'min_samples_split': 8}"
      ]
     },
     "execution_count": 60,
     "metadata": {},
     "output_type": "execute_result"
    }
   ],
   "source": [
    "grid_search.best_params_"
   ]
  },
  {
   "cell_type": "code",
   "execution_count": 61,
   "metadata": {},
   "outputs": [
    {
     "name": "stdout",
     "output_type": "stream",
     "text": [
      "76657.64909206053 {'max_depth': 3, 'min_samples_split': 2}\n",
      "76657.64909206053 {'max_depth': 3, 'min_samples_split': 4}\n",
      "76657.64909206053 {'max_depth': 3, 'min_samples_split': 6}\n",
      "76657.64909206053 {'max_depth': 3, 'min_samples_split': 8}\n",
      "73374.0475884929 {'max_depth': 4, 'min_samples_split': 2}\n",
      "73374.0475884929 {'max_depth': 4, 'min_samples_split': 4}\n",
      "73374.0475884929 {'max_depth': 4, 'min_samples_split': 6}\n",
      "73374.0475884929 {'max_depth': 4, 'min_samples_split': 8}\n",
      "62221.43308841666 {'max_depth': 10, 'min_samples_split': 2}\n",
      "62358.74089260424 {'max_depth': 10, 'min_samples_split': 4}\n",
      "62182.03546361779 {'max_depth': 10, 'min_samples_split': 6}\n",
      "61764.75307312196 {'max_depth': 10, 'min_samples_split': 8}\n",
      "67677.07894529494 {'max_depth': 15, 'min_samples_split': 2}\n",
      "66561.97890002326 {'max_depth': 15, 'min_samples_split': 4}\n",
      "65233.21512835184 {'max_depth': 15, 'min_samples_split': 6}\n",
      "64315.50413950429 {'max_depth': 15, 'min_samples_split': 8}\n"
     ]
    }
   ],
   "source": [
    "cvres = grid_search.cv_results_\n",
    "for mean_score, params in zip(cvres[\"mean_test_score\"], cvres[\"params\"]):\n",
    "    print(-mean_score, params)"
   ]
  },
  {
   "cell_type": "code",
   "execution_count": 62,
   "metadata": {},
   "outputs": [],
   "source": [
    "best_tree = grid_search.best_estimator_"
   ]
  },
  {
   "cell_type": "markdown",
   "metadata": {},
   "source": [
    "### Random Forrest"
   ]
  },
  {
   "cell_type": "code",
   "execution_count": 63,
   "metadata": {},
   "outputs": [
    {
     "name": "stdout",
     "output_type": "stream",
     "text": [
      "Fitting 3 folds for each of 18 candidates, totalling 54 fits\n",
      "[CV 1/3] END max_features=2, n_estimators=3;, score=(train=-33742.753, test=-63744.470) total time=   0.0s\n",
      "[CV 2/3] END max_features=2, n_estimators=3;, score=(train=-33658.374, test=-65782.943) total time=   0.0s\n",
      "[CV 3/3] END max_features=2, n_estimators=3;, score=(train=-33411.470, test=-64951.290) total time=   0.0s\n",
      "[CV 1/3] END max_features=2, n_estimators=10;, score=(train=-24252.766, test=-54325.128) total time=   0.1s\n",
      "[CV 2/3] END max_features=2, n_estimators=10;, score=(train=-24983.011, test=-56817.333) total time=   0.1s\n",
      "[CV 3/3] END max_features=2, n_estimators=10;, score=(train=-24271.477, test=-55953.185) total time=   0.1s\n",
      "[CV 1/3] END max_features=2, n_estimators=30;, score=(train=-21234.917, test=-52188.925) total time=   0.4s\n",
      "[CV 2/3] END max_features=2, n_estimators=30;, score=(train=-21141.479, test=-53704.262) total time=   0.4s\n",
      "[CV 3/3] END max_features=2, n_estimators=30;, score=(train=-20923.032, test=-53678.592) total time=   0.4s\n",
      "[CV 1/3] END max_features=4, n_estimators=3;, score=(train=-31046.825, test=-60452.879) total time=   0.1s\n",
      "[CV 2/3] END max_features=4, n_estimators=3;, score=(train=-31603.012, test=-62527.353) total time=   0.1s\n",
      "[CV 3/3] END max_features=4, n_estimators=3;, score=(train=-31731.025, test=-61555.032) total time=   0.1s\n",
      "[CV 1/3] END max_features=4, n_estimators=10;, score=(train=-23233.353, test=-52612.228) total time=   0.2s\n",
      "[CV 2/3] END max_features=4, n_estimators=10;, score=(train=-23463.646, test=-54238.714) total time=   0.2s\n",
      "[CV 3/3] END max_features=4, n_estimators=10;, score=(train=-23089.151, test=-54027.056) total time=   0.2s\n",
      "[CV 1/3] END max_features=4, n_estimators=30;, score=(train=-20304.233, test=-50013.595) total time=   0.6s\n",
      "[CV 2/3] END max_features=4, n_estimators=30;, score=(train=-20241.992, test=-51694.428) total time=   0.6s\n",
      "[CV 3/3] END max_features=4, n_estimators=30;, score=(train=-20092.852, test=-51452.513) total time=   0.6s\n",
      "[CV 1/3] END max_features=6, n_estimators=3;, score=(train=-29718.350, test=-57452.449) total time=   0.1s\n",
      "[CV 2/3] END max_features=6, n_estimators=3;, score=(train=-30752.419, test=-60259.948) total time=   0.1s\n",
      "[CV 3/3] END max_features=6, n_estimators=3;, score=(train=-29742.164, test=-58261.005) total time=   0.1s\n",
      "[CV 1/3] END max_features=6, n_estimators=10;, score=(train=-22626.277, test=-51818.327) total time=   0.3s\n",
      "[CV 2/3] END max_features=6, n_estimators=10;, score=(train=-23041.758, test=-53337.864) total time=   0.3s\n",
      "[CV 3/3] END max_features=6, n_estimators=10;, score=(train=-23056.838, test=-52424.940) total time=   0.3s\n",
      "[CV 1/3] END max_features=6, n_estimators=30;, score=(train=-19785.521, test=-49550.157) total time=   0.7s\n",
      "[CV 2/3] END max_features=6, n_estimators=30;, score=(train=-19907.971, test=-50296.450) total time=   0.8s\n",
      "[CV 3/3] END max_features=6, n_estimators=30;, score=(train=-19879.369, test=-51243.985) total time=   0.8s\n",
      "[CV 1/3] END max_features=8, n_estimators=3;, score=(train=-28895.234, test=-58374.710) total time=   0.1s\n",
      "[CV 2/3] END max_features=8, n_estimators=3;, score=(train=-31244.592, test=-60772.195) total time=   0.1s\n",
      "[CV 3/3] END max_features=8, n_estimators=3;, score=(train=-29817.766, test=-59704.737) total time=   0.1s\n",
      "[CV 1/3] END max_features=8, n_estimators=10;, score=(train=-22449.076, test=-51518.255) total time=   0.4s\n",
      "[CV 2/3] END max_features=8, n_estimators=10;, score=(train=-22980.458, test=-52774.708) total time=   0.3s\n",
      "[CV 3/3] END max_features=8, n_estimators=10;, score=(train=-22811.083, test=-53716.215) total time=   0.3s\n",
      "[CV 1/3] END max_features=8, n_estimators=30;, score=(train=-19746.752, test=-49343.724) total time=   1.0s\n",
      "[CV 2/3] END max_features=8, n_estimators=30;, score=(train=-19989.830, test=-50893.587) total time=   1.0s\n",
      "[CV 3/3] END max_features=8, n_estimators=30;, score=(train=-19819.537, test=-51385.650) total time=   1.0s\n",
      "[CV 1/3] END bootstrap=False, max_features=2, n_estimators=3;, score=(train=-0.000, test=-63212.079) total time=   0.1s\n",
      "[CV 2/3] END bootstrap=False, max_features=2, n_estimators=3;, score=(train=-0.000, test=-64188.393) total time=   0.1s\n",
      "[CV 3/3] END bootstrap=False, max_features=2, n_estimators=3;, score=(train=-56.163, test=-63370.709) total time=   0.1s\n",
      "[CV 1/3] END bootstrap=False, max_features=2, n_estimators=10;, score=(train=-0.000, test=-53475.257) total time=   0.2s\n",
      "[CV 2/3] END bootstrap=False, max_features=2, n_estimators=10;, score=(train=-0.674, test=-54768.783) total time=   0.2s\n",
      "[CV 3/3] END bootstrap=False, max_features=2, n_estimators=10;, score=(train=-33.698, test=-55296.426) total time=   0.2s\n",
      "[CV 1/3] END bootstrap=False, max_features=3, n_estimators=3;, score=(train=-0.000, test=-61544.487) total time=   0.1s\n",
      "[CV 2/3] END bootstrap=False, max_features=3, n_estimators=3;, score=(train=-0.000, test=-61401.328) total time=   0.1s\n",
      "[CV 3/3] END bootstrap=False, max_features=3, n_estimators=3;, score=(train=-30.103, test=-62049.661) total time=   0.1s\n",
      "[CV 1/3] END bootstrap=False, max_features=3, n_estimators=10;, score=(train=-0.000, test=-53348.620) total time=   0.2s\n",
      "[CV 2/3] END bootstrap=False, max_features=3, n_estimators=10;, score=(train=-0.000, test=-54289.300) total time=   0.2s\n",
      "[CV 3/3] END bootstrap=False, max_features=3, n_estimators=10;, score=(train=-9.080, test=-54977.937) total time=   0.2s\n",
      "[CV 1/3] END bootstrap=False, max_features=4, n_estimators=3;, score=(train=-0.000, test=-61220.925) total time=   0.1s\n",
      "[CV 2/3] END bootstrap=False, max_features=4, n_estimators=3;, score=(train=-2.247, test=-58859.073) total time=   0.1s\n",
      "[CV 3/3] END bootstrap=False, max_features=4, n_estimators=3;, score=(train=-0.000, test=-60294.786) total time=   0.1s\n",
      "[CV 1/3] END bootstrap=False, max_features=4, n_estimators=10;, score=(train=-0.000, test=-52821.579) total time=   0.3s\n",
      "[CV 2/3] END bootstrap=False, max_features=4, n_estimators=10;, score=(train=-1.348, test=-52782.522) total time=   0.3s\n",
      "[CV 3/3] END bootstrap=False, max_features=4, n_estimators=10;, score=(train=-0.000, test=-52864.163) total time=   0.3s\n"
     ]
    },
    {
     "data": {
      "text/plain": [
       "GridSearchCV(cv=3, estimator=RandomForestRegressor(random_state=42),\n",
       "             param_grid=[{'max_features': [2, 4, 6, 8],\n",
       "                          'n_estimators': [3, 10, 30]},\n",
       "                         {'bootstrap': [False], 'max_features': [2, 3, 4],\n",
       "                          'n_estimators': [3, 10]}],\n",
       "             return_train_score=True, scoring='neg_root_mean_squared_error',\n",
       "             verbose=3)"
      ]
     },
     "execution_count": 63,
     "metadata": {},
     "output_type": "execute_result"
    }
   ],
   "source": [
    "from sklearn.model_selection import GridSearchCV\n",
    "from sklearn.ensemble import RandomForestRegressor\n",
    "\n",
    "param_grid = [\n",
    "    {'n_estimators': [3, 10, 30], 'max_features': [2, 4, 6, 8]},\n",
    "    \n",
    "    {'bootstrap': [False], 'n_estimators': [3, 10], 'max_features': [2, 3, 4]},\n",
    "  ]\n",
    "\n",
    "forest_reg = RandomForestRegressor(random_state=42)\n",
    "\n",
    "grid_search = GridSearchCV(forest_reg, \n",
    "                           param_grid, \n",
    "                           cv=3,\n",
    "                           scoring='neg_root_mean_squared_error',\n",
    "                           return_train_score=True,\n",
    "                          verbose=3)\n",
    "\n",
    "grid_search.fit(X_train_tr, y_train)"
   ]
  },
  {
   "cell_type": "code",
   "execution_count": 64,
   "metadata": {},
   "outputs": [
    {
     "name": "stdout",
     "output_type": "stream",
     "text": [
      "64826.23436104149 {'max_features': 2, 'n_estimators': 3}\n",
      "55698.54864043675 {'max_features': 2, 'n_estimators': 10}\n",
      "53190.59314575786 {'max_features': 2, 'n_estimators': 30}\n",
      "61511.754627028284 {'max_features': 4, 'n_estimators': 3}\n",
      "53625.998970985565 {'max_features': 4, 'n_estimators': 10}\n",
      "51053.511956455164 {'max_features': 4, 'n_estimators': 30}\n",
      "58657.800721222586 {'max_features': 6, 'n_estimators': 3}\n",
      "52527.04356807493 {'max_features': 6, 'n_estimators': 10}\n",
      "50363.53082358346 {'max_features': 6, 'n_estimators': 30}\n",
      "59617.21397624324 {'max_features': 8, 'n_estimators': 3}\n",
      "52669.72601150704 {'max_features': 8, 'n_estimators': 10}\n",
      "50540.98720462173 {'max_features': 8, 'n_estimators': 30}\n",
      "63590.39362936667 {'bootstrap': False, 'max_features': 2, 'n_estimators': 3}\n",
      "54513.48876730835 {'bootstrap': False, 'max_features': 2, 'n_estimators': 10}\n",
      "61665.15862102074 {'bootstrap': False, 'max_features': 3, 'n_estimators': 3}\n",
      "54205.2858648715 {'bootstrap': False, 'max_features': 3, 'n_estimators': 10}\n",
      "60124.928175557485 {'bootstrap': False, 'max_features': 4, 'n_estimators': 3}\n",
      "52822.754759981704 {'bootstrap': False, 'max_features': 4, 'n_estimators': 10}\n"
     ]
    }
   ],
   "source": [
    "cvres = grid_search.cv_results_\n",
    "for mean_score, params in zip(cvres[\"mean_test_score\"], cvres[\"params\"]):\n",
    "    print(-mean_score, params)"
   ]
  },
  {
   "cell_type": "code",
   "execution_count": 65,
   "metadata": {},
   "outputs": [
    {
     "data": {
      "text/plain": [
       "{'max_features': 6, 'n_estimators': 30}"
      ]
     },
     "execution_count": 65,
     "metadata": {},
     "output_type": "execute_result"
    }
   ],
   "source": [
    "grid_search.best_params_"
   ]
  },
  {
   "cell_type": "code",
   "execution_count": 66,
   "metadata": {},
   "outputs": [
    {
     "data": {
      "text/plain": [
       "RandomForestRegressor(max_features=6, n_estimators=30, random_state=42)"
      ]
     },
     "execution_count": 66,
     "metadata": {},
     "output_type": "execute_result"
    }
   ],
   "source": [
    "grid_search.best_estimator_"
   ]
  },
  {
   "cell_type": "code",
   "execution_count": null,
   "metadata": {},
   "outputs": [],
   "source": []
  }
 ],
 "metadata": {
  "colab": {
   "collapsed_sections": [
    "Uns53XI7Sgc1",
    "styMkYBtWjlC",
    "7kEvIURgXBk3",
    "vbKCSoCBW7_9",
    "eV5IuWrgYi7H",
    "FTzBt3m2Ylqw",
    "SvZmF83VZ8pa",
    "Sy7PjkIdaeZd",
    "Yt_ImmIJdTfJ"
   ],
   "name": "Regression.ipynb",
   "provenance": []
  },
  "kernelspec": {
   "display_name": "venv_app",
   "language": "python",
   "name": "venv_app"
  },
  "language_info": {
   "codemirror_mode": {
    "name": "ipython",
    "version": 3
   },
   "file_extension": ".py",
   "mimetype": "text/x-python",
   "name": "python",
   "nbconvert_exporter": "python",
   "pygments_lexer": "ipython3",
   "version": "3.9.4"
  }
 },
 "nbformat": 4,
 "nbformat_minor": 4
}
