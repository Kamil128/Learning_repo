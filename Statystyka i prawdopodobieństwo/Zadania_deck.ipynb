{
 "cells": [
  {
   "cell_type": "markdown",
   "metadata": {
    "id": "jAMhIt3C3G5B"
   },
   "source": [
    "### Zadanie 1\n"
   ]
  },
  {
   "cell_type": "markdown",
   "metadata": {
    "id": "-YUCJNngGVrL"
   },
   "source": [
    "Stwórz numpy array z wartościami od 1 do do 9, wyświetl, a następnie odwróć tę tablicę (pierwszy element zostaje ostatnim, itd.). "
   ]
  },
  {
   "cell_type": "code",
   "execution_count": null,
   "metadata": {
    "colab": {
     "base_uri": "https://localhost:8080/"
    },
    "id": "HrmNOpD01OKa",
    "outputId": "6f73fb03-ec8d-46cd-bf98-26fddae6e1bc"
   },
   "outputs": [
    {
     "name": "stdout",
     "output_type": "stream",
     "text": [
      "[1 2 3 4 5 6 7 8 9]\n",
      "[9 8 7 6 5 4 3 2 1]\n"
     ]
    }
   ],
   "source": [
    "import numpy as np\n",
    "\n",
    "a = np.arange(1, 10)\n",
    "print(a)\n",
    "print(a[::-1])"
   ]
  },
  {
   "cell_type": "markdown",
   "metadata": {
    "id": "z5qVFPWSPgZw"
   },
   "source": [
    "### Zadanie 2"
   ]
  },
  {
   "cell_type": "markdown",
   "metadata": {
    "id": "iQsTQVzYPhnv"
   },
   "source": [
    "Stwórz następujący numpy array: [1, 23, 4, 31, 1, 1, 4, 23, 4, 1]; a następnie wypisz wszystkie unikalne (nie powtarzające się) elementy."
   ]
  },
  {
   "cell_type": "code",
   "execution_count": null,
   "metadata": {
    "colab": {
     "base_uri": "https://localhost:8080/"
    },
    "id": "YnC903LDPkn0",
    "outputId": "5e7723c6-7d38-4222-81b6-940716f705d6"
   },
   "outputs": [
    {
     "name": "stdout",
     "output_type": "stream",
     "text": [
      "[ 1 23  4 31  1  1  4 23  4  1]\n",
      "[ 1  4 23 31]\n"
     ]
    }
   ],
   "source": [
    "import numpy as np\n",
    "\n",
    "a = np.array([1, 23, 4, 31, 1, 1, 4, 23, 4, 1])\n",
    "print(a)\n",
    "print(np.unique(a))"
   ]
  },
  {
   "cell_type": "markdown",
   "metadata": {
    "id": "aHTBVb_G3ODT"
   },
   "source": [
    "### Zadanie 3"
   ]
  },
  {
   "cell_type": "markdown",
   "metadata": {
    "id": "r3ElLaHKGbjY"
   },
   "source": [
    "Stwórz macierz 3x3 (używając reshape) z wartościami od 2 do 10."
   ]
  },
  {
   "cell_type": "code",
   "execution_count": null,
   "metadata": {
    "colab": {
     "base_uri": "https://localhost:8080/"
    },
    "id": "NJWjmweq09Q_",
    "outputId": "c8a5f921-3708-42a2-edec-c088045f72cb"
   },
   "outputs": [
    {
     "name": "stdout",
     "output_type": "stream",
     "text": [
      "[[ 2  3  4]\n",
      " [ 5  6  7]\n",
      " [ 8  9 10]]\n"
     ]
    }
   ],
   "source": [
    "import numpy as np\n",
    "\n",
    "a = np.arange(2, 11).reshape(3, 3)\n",
    "print(a)"
   ]
  },
  {
   "cell_type": "markdown",
   "metadata": {
    "id": "7DKQVzsSCDGi"
   },
   "source": [
    "### Zadanie 4"
   ]
  },
  {
   "cell_type": "markdown",
   "metadata": {
    "id": "JhiYzSNBGe2A"
   },
   "source": [
    "Stwórz tablicę z sześcioma losowymi wartościami z przedziału od 10 do 30."
   ]
  },
  {
   "cell_type": "code",
   "execution_count": null,
   "metadata": {
    "colab": {
     "base_uri": "https://localhost:8080/"
    },
    "id": "7MGxmEoqDuo6",
    "outputId": "8b205945-6abc-447c-d0f6-8eb0c185d4a3"
   },
   "outputs": [
    {
     "name": "stdout",
     "output_type": "stream",
     "text": [
      "[13 17 14 20 24 28]\n"
     ]
    }
   ],
   "source": [
    "import numpy as np\n",
    "\n",
    "a = np.random.randint(low=10, high=30, size=6)\n",
    "print(a)"
   ]
  },
  {
   "cell_type": "markdown",
   "metadata": {
    "id": "q_5F7qHpWvCD"
   },
   "source": [
    "### Zadanie 5"
   ]
  },
  {
   "cell_type": "markdown",
   "metadata": {
    "id": "EzfTFp00Wwmm"
   },
   "source": [
    "Spośród tablicy wartości: [23, 45, 112, 150, 43, 254, 95, 8] wyfiltruj te, które są większe od 100."
   ]
  },
  {
   "cell_type": "code",
   "execution_count": null,
   "metadata": {
    "colab": {
     "base_uri": "https://localhost:8080/"
    },
    "id": "fl7brsiXXCqR",
    "outputId": "4ce6baae-1043-4b17-b533-cb620141de9b"
   },
   "outputs": [
    {
     "name": "stdout",
     "output_type": "stream",
     "text": [
      "[ 23  45 112 150  43 254  95   8]\n",
      "[112 150 254]\n",
      "[112 150 254]\n"
     ]
    }
   ],
   "source": [
    "import numpy as np\n",
    "\n",
    "a = np.array([23, 45, 112, 150, 43, 254, 95, 8])\n",
    "print(a)\n",
    "print(a[a > 100])\n",
    "print(a[np.where(a > 100)])"
   ]
  },
  {
   "cell_type": "markdown",
   "metadata": {
    "id": "P7C4QEXo3b8i"
   },
   "source": [
    "### Zadanie 6"
   ]
  },
  {
   "cell_type": "markdown",
   "metadata": {
    "id": "B9mlkSQ8GBHb"
   },
   "source": [
    "Stwórz poniższą macierz 4x4, a następnie:\n",
    "* wyświetl element z drugiego wiersza i trzeciej kolumny, \n",
    "* oblicz jej wyznacznik,\n",
    "* oblicz jej ślad (sumę elementów na głównej przekątnej),\n",
    "* znajdź element największy i najmniejszy."
   ]
  },
  {
   "cell_type": "markdown",
   "metadata": {
    "id": "uE98qbG2GR-m"
   },
   "source": [
    "$ \\begin{bmatrix}\n",
    "1 & 15 & 4 & 13 \\\\\n",
    "8 & 21 & 3 & 12 \\\\\n",
    "11 & 13 & 11 & 5 \\\\\n",
    "32 & 13 & 0 & 2 \n",
    "\\end{bmatrix}  $"
   ]
  },
  {
   "cell_type": "code",
   "execution_count": null,
   "metadata": {
    "colab": {
     "base_uri": "https://localhost:8080/"
    },
    "id": "7u10SyuxAzz9",
    "outputId": "08e4d665-3b02-4660-a64c-d6cbfe14e46b"
   },
   "outputs": [
    {
     "name": "stdout",
     "output_type": "stream",
     "text": [
      "3\n",
      "-19963.99999999999\n",
      "35\n",
      "0 32\n"
     ]
    }
   ],
   "source": [
    "import numpy as np\n",
    "\n",
    "a = np.array([[1, 15, 4, 13], [8, 21, 3, 12], [11, 13, 11, 5], [32, 13, 0, 2]])\n",
    "print(a[1][2])\n",
    "print(np.linalg.det(a))\n",
    "print(a.diagonal().sum())\n",
    "print(a.min(), a.max())"
   ]
  },
  {
   "cell_type": "markdown",
   "metadata": {
    "id": "gMzSWt44FaYF"
   },
   "source": [
    "### Zadanie 7\n",
    "\n"
   ]
  },
  {
   "cell_type": "markdown",
   "metadata": {
    "id": "yQWjHfoEIyrQ"
   },
   "source": [
    "Stwórz dowolną tablicę wartości, a następnie oblicz średnią i medianę."
   ]
  },
  {
   "cell_type": "code",
   "execution_count": null,
   "metadata": {
    "colab": {
     "base_uri": "https://localhost:8080/"
    },
    "id": "Wu369ZU4RuzM",
    "outputId": "192973cb-18f4-46f1-8f13-2a54920f9130"
   },
   "outputs": [
    {
     "name": "stdout",
     "output_type": "stream",
     "text": [
      "[5.   4.   3.   5.   3.5  2.   1.34 8.  ]\n",
      "3.98\n",
      "3.75\n"
     ]
    }
   ],
   "source": [
    "import numpy as np\n",
    "\n",
    "a = np.array([5, 4, 3, 5, 3.5, 2, 1.34, 8])\n",
    "print(a)\n",
    "print(np.mean(a))\n",
    "print(np.median(a))"
   ]
  },
  {
   "cell_type": "markdown",
   "metadata": {
    "id": "lneyzfeHR5Lm"
   },
   "source": [
    "### Zadanie 8"
   ]
  },
  {
   "cell_type": "markdown",
   "metadata": {
    "id": "EhRBqNRsR6tq"
   },
   "source": [
    "Stwórz dowolną tablicę wartości, a następnie je znormalizuj - tj. od każdego elementu tablicy odejmij średnią i podziel przez odchylenie standardowe."
   ]
  },
  {
   "cell_type": "code",
   "execution_count": null,
   "metadata": {
    "colab": {
     "base_uri": "https://localhost:8080/"
    },
    "id": "CK6OlGReSI5Q",
    "outputId": "567e66d9-582f-4d23-e8df-b02cfe862b84"
   },
   "outputs": [
    {
     "name": "stdout",
     "output_type": "stream",
     "text": [
      "[5.   4.   3.   5.   3.5  2.   1.34 8.  ]\n",
      "[ 0.52391807  0.0102729  -0.50337227  0.52391807 -0.24654968 -1.01701743\n",
      " -1.35602324  2.06485358]\n"
     ]
    }
   ],
   "source": [
    "import numpy as np\n",
    "\n",
    "a = np.array([5, 4, 3, 5, 3.5, 2, 1.34, 8])\n",
    "print(a)\n",
    "b = (a - np.mean(a)) / np.std(a)\n",
    "print(b)"
   ]
  },
  {
   "cell_type": "markdown",
   "metadata": {
    "id": "8DQaaoGLSjs8"
   },
   "source": [
    "### Zadanie 9"
   ]
  },
  {
   "cell_type": "markdown",
   "metadata": {
    "id": "BvdHNDJmSlha"
   },
   "source": [
    "Stwórz funkcję, która przyjmuje dwa wektory (oba o tym samym wymiarze) w postaci numpy tablicy, a zwróci odległość euklidesową między nimi."
   ]
  },
  {
   "cell_type": "markdown",
   "metadata": {
    "id": "EpjaMU7aTvZW"
   },
   "source": [
    " $ d\\left( p,q\\right)   = \\sqrt {\\sum _{i=1}^{n}  \\left( q_{i}-p_{i}\\right)^2 } $"
   ]
  },
  {
   "cell_type": "code",
   "execution_count": null,
   "metadata": {
    "colab": {
     "base_uri": "https://localhost:8080/"
    },
    "id": "tsQ1BHpASzz8",
    "outputId": "b7a0b055-6d9a-4d9b-cb83-dd3dd215f879"
   },
   "outputs": [
    {
     "name": "stdout",
     "output_type": "stream",
     "text": [
      "4.58257569495584\n",
      "4.58257569495584\n"
     ]
    }
   ],
   "source": [
    "def distance1(v1, v2):\n",
    "    return np.sqrt(np.sum((v1 - v2) ** 2))\n",
    "\n",
    "\n",
    "def distance2(v1, v2):\n",
    "    return np.linalg.norm(v1 - v2)\n",
    "\n",
    "\n",
    "a = np.array([1, 0, 1, 2, 3])\n",
    "b = np.array([1, 2, -1, 0, 0])\n",
    "print(distance1(a, b))\n",
    "print(distance2(a, b))"
   ]
  },
  {
   "cell_type": "markdown",
   "metadata": {
    "id": "sLRG0TeXVU17"
   },
   "source": [
    "### Zadanie 10"
   ]
  },
  {
   "cell_type": "markdown",
   "metadata": {
    "id": "xYZJuil8eZiu"
   },
   "source": [
    "Korzystając z testu Shapiro-Wilka sprawdź, czy podana próba ma rozkład normalny: [0.873, 2.817, 0.121, -0.945, -0.055, -1.436, 0.360, -1.478, -1.637, -1.869] \n"
   ]
  },
  {
   "cell_type": "code",
   "execution_count": null,
   "metadata": {
    "colab": {
     "base_uri": "https://localhost:8080/"
    },
    "id": "HqAFlwmYeZv3",
    "outputId": "087bfbc4-3900-4f4d-aa7f-a3c8b3a7e700"
   },
   "outputs": [
    {
     "name": "stdout",
     "output_type": "stream",
     "text": [
      "0.8951009511947632 0.19340917468070984\n",
      "Rozkład normalny\n"
     ]
    }
   ],
   "source": [
    "from scipy.stats import shapiro\n",
    "\n",
    "data = np.array([0.873, 2.817, 0.121, -0.945, -0.055, -1.436, 0.360, -1.478, -1.637, -1.869])\n",
    "stat, p = shapiro(data)\n",
    "print(stat, p)\n",
    "\n",
    "if p > 0.05:\n",
    "\t  print(\"Rozkład normalny\")\n",
    "else:\n",
    "\t  print(\"Rozkład oddalony od krzywej Gaussa\")"
   ]
  }
 ],
 "metadata": {
  "colab": {
   "name": "statystyka_prawdopodobienstwo.ipynb",
   "provenance": [],
   "toc_visible": true
  },
  "kernelspec": {
   "display_name": "Python 3 (ipykernel)",
   "language": "python",
   "name": "python3"
  },
  "language_info": {
   "codemirror_mode": {
    "name": "ipython",
    "version": 3
   },
   "file_extension": ".py",
   "mimetype": "text/x-python",
   "name": "python",
   "nbconvert_exporter": "python",
   "pygments_lexer": "ipython3",
   "version": "3.9.4"
  }
 },
 "nbformat": 4,
 "nbformat_minor": 4
}
