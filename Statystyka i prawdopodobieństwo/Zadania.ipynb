{
 "cells": [
  {
   "cell_type": "markdown",
   "id": "50a9b4d3-5e87-460d-aee8-d8ed74e1f055",
   "metadata": {},
   "source": [
    "# Statystyka i prawdopodobieństwo"
   ]
  },
  {
   "cell_type": "markdown",
   "id": "92fef589-4f6b-4d54-938a-f62096ab3dc7",
   "metadata": {},
   "source": [
    "### Zadanie 1"
   ]
  },
  {
   "cell_type": "markdown",
   "id": "f00b665b-6f8a-424e-92bc-9e196f26d62f",
   "metadata": {},
   "source": [
    "Stwórz `np.ndarray` zawierający liczby od 0 do 100."
   ]
  },
  {
   "cell_type": "code",
   "execution_count": null,
   "id": "32c28c09-b40b-48ef-b8b0-24217deb8036",
   "metadata": {},
   "outputs": [],
   "source": [
    "numbers = np.arange(100)"
   ]
  },
  {
   "cell_type": "code",
   "execution_count": null,
   "id": "dbac0605-2585-44a4-abcb-d76c254d2de5",
   "metadata": {},
   "outputs": [],
   "source": [
    "numbers = np.array([x for x in range(1000,1,-1) if x % 11 == 0])"
   ]
  },
  {
   "cell_type": "markdown",
   "id": "7f5a46d9-6f0c-4529-995d-d781750f48eb",
   "metadata": {},
   "source": [
    "Stwórz `np.ndarray` zawierający 70 jednakokowo od siebie odległych liczb z przedziału -5 do 5"
   ]
  },
  {
   "cell_type": "code",
   "execution_count": null,
   "id": "7fcf51c2-eb96-4bf4-9672-2686fafcac68",
   "metadata": {},
   "outputs": [],
   "source": [
    "numbers = np.linspace(-5,5,70)"
   ]
  },
  {
   "cell_type": "markdown",
   "id": "d2e786a6-b0c5-458d-a91b-c6b592f17021",
   "metadata": {},
   "source": [
    "### Zadanie 2"
   ]
  },
  {
   "cell_type": "markdown",
   "id": "08a1ce99-560b-4300-972d-5c9b71c770e9",
   "metadata": {},
   "source": [
    "Stwórz macierze, takie jak przedstawiono poniżej, a następnie z ich pomocą przeprowadź kilka operacji matematycznych.\n",
    "\n",
    "```\n",
    "[[1 4 7]\n",
    " [2 5 8]\n",
    " [3 6 9]]\n",
    "\n",
    "[[3 2 3]\n",
    " [4 3 1]\n",
    " [7 3 1]]\n",
    "```"
   ]
  },
  {
   "cell_type": "code",
   "execution_count": null,
   "id": "e2955680-57b5-4052-86f7-6f0238b4a458",
   "metadata": {},
   "outputs": [],
   "source": [
    "print(\"a={}\".format(a))\n",
    "print(\"a shape={}\".format(a.shape))\n",
    "print(\"b={}\".format(b))\n",
    "print(\"b shape={}\".format(b.shape))`"
   ]
  },
  {
   "cell_type": "code",
   "execution_count": null,
   "id": "9f28cd5d-7674-41c0-94d1-7709a6d78ae0",
   "metadata": {},
   "outputs": [],
   "source": [
    "np.add(a,b)\n",
    "np.subtract(a,b)\n",
    "a.T\n",
    "b.T\n",
    "np.multiply(a,b)\n",
    "np.divide(a,b)\n",
    "np.matmul(a,b)"
   ]
  },
  {
   "cell_type": "code",
   "execution_count": null,
   "id": "7bf4d660-dd2a-4bd0-b1da-156ce9529d1d",
   "metadata": {},
   "outputs": [],
   "source": [
    "a = np.ones([9, 5, 7, 4])\n",
    "c = np.ones([9, 5, 4, 3])\n",
    "np.dot(a, c).shape\n",
    "np.matmul(a, c).shape"
   ]
  },
  {
   "cell_type": "markdown",
   "id": "8410bccd-7ebb-48b8-a85c-af5c95ca9305",
   "metadata": {},
   "source": [
    "### Zadanie 3"
   ]
  },
  {
   "cell_type": "markdown",
   "id": "32f80afb-7b57-4488-8e17-6799643d5ea0",
   "metadata": {},
   "source": [
    "Stwórz `np.array` zawierający cosinusy i sinusy wartości bedących w przedziale od 0 do pi, kolejne liczby powinny być od siebie większe o 1/10 radiana."
   ]
  },
  {
   "cell_type": "code",
   "execution_count": null,
   "id": "f54f05e6-261e-4922-bfc7-fe46d9c097d7",
   "metadata": {},
   "outputs": [],
   "source": [
    "x = np.arange(0, np.pi, 0.1)\n",
    "sinus = np.sin(x)\n",
    "cosinus = np.cos(x)"
   ]
  },
  {
   "cell_type": "markdown",
   "id": "9459eafa-b864-464b-937e-63ec91a3214b",
   "metadata": {},
   "source": [
    "Stwórz `np.array` zawierający liczby od -100 do 100, gdzie każda następna liczba jest większa od poprzedniej o 2 (-100, -98, -96… 98, 100)."
   ]
  },
  {
   "cell_type": "code",
   "execution_count": null,
   "id": "546152f3-a4f5-40eb-b8b7-935a5f446321",
   "metadata": {},
   "outputs": [],
   "source": [
    "a = np.arange(-100, 100, step=2)"
   ]
  },
  {
   "cell_type": "markdown",
   "id": "47a2dfcb-be6e-480f-8d8a-615f376256c4",
   "metadata": {},
   "source": [
    "Oblicz 20 pierwszych kwadratów."
   ]
  },
  {
   "cell_type": "code",
   "execution_count": null,
   "id": "1f71f568-1385-4157-b8e8-cd928eaeaa81",
   "metadata": {},
   "outputs": [],
   "source": [
    "a = np.arange(0,21, step=1)\n",
    "b = np.array(2**a)"
   ]
  },
  {
   "cell_type": "markdown",
   "id": "f1dc4faa-de0c-494a-bc17-cfbda5135f69",
   "metadata": {},
   "source": [
    "Oblicz sumę tablic, tak aby element na pozycji 'i' był sumą i-tego elementu z pierwszej tablicy oraz elementu len(array)-1-i drugiej tablicy. Użyj tablicy pierwszych 20 kwadratów oraz 20 sześcianów."
   ]
  },
  {
   "cell_type": "code",
   "execution_count": null,
   "id": "9c9b9ddf-299f-4731-bfc5-ebde8c70d44a",
   "metadata": {},
   "outputs": [],
   "source": [
    "a = np.arange(0,21, step=1)**2\n",
    "b = np.arange(0,21, step=1)**3\n",
    "c = a + b[::-1]\n",
    "print(c)"
   ]
  },
  {
   "cell_type": "markdown",
   "id": "763b8ef4-3ab7-4957-bebe-5d1198f22101",
   "metadata": {},
   "source": [
    "### Zadanie 7"
   ]
  },
  {
   "cell_type": "markdown",
   "id": "a41c0cf7-f0d5-4827-81a9-47e1425afef7",
   "metadata": {},
   "source": [
    "Stwórz macierz 100x100 o następującej strukturze i wartościach."
   ]
  },
  {
   "cell_type": "code",
   "execution_count": null,
   "id": "c55ad648-07cb-4de3-8a0f-f500cd7e145c",
   "metadata": {},
   "outputs": [],
   "source": [
    "a = np.ones(shape=(100,100))\n",
    "b = np.expand_dims(np.arange(1, 101), 1)\n",
    "\n",
    "c = a*b"
   ]
  },
  {
   "cell_type": "markdown",
   "id": "cbba0eb5-5f22-486c-a24f-991e5240f490",
   "metadata": {},
   "source": [
    "### Zadanie 8"
   ]
  },
  {
   "cell_type": "markdown",
   "id": "4875df01-9e02-4157-840d-34a8d83d5652",
   "metadata": {},
   "source": [
    "Stwórz trzy macierze 2x5 wraz z elementami \\\n",
    "`[0,..9], [10,..19], [20,..29]`. \\\n",
    "Stwórz z nich macierze 3D łącząc je wzdłóż osi 0, 1 i 2"
   ]
  },
  {
   "cell_type": "code",
   "execution_count": 39,
   "id": "8a586214-2b24-4556-bf4e-94b4e8ffbbd0",
   "metadata": {},
   "outputs": [],
   "source": [
    "import numpy as np"
   ]
  },
  {
   "cell_type": "code",
   "execution_count": 68,
   "id": "8457d70c-7414-4a91-bccc-8ec6c76ec9f8",
   "metadata": {},
   "outputs": [
    {
     "data": {
      "text/plain": [
       "array([[0, 1, 2, 3, 4],\n",
       "       [5, 6, 7, 8, 9]])"
      ]
     },
     "metadata": {},
     "output_type": "display_data"
    },
    {
     "name": "stdout",
     "output_type": "stream",
     "text": [
      "\n"
     ]
    },
    {
     "data": {
      "text/plain": [
       "array([[10, 11, 12, 13, 14],\n",
       "       [15, 16, 17, 18, 19]])"
      ]
     },
     "metadata": {},
     "output_type": "display_data"
    },
    {
     "name": "stdout",
     "output_type": "stream",
     "text": [
      "\n"
     ]
    },
    {
     "data": {
      "text/plain": [
       "array([[20, 21, 22, 23, 24],\n",
       "       [25, 26, 27, 28, 29]])"
      ]
     },
     "metadata": {},
     "output_type": "display_data"
    },
    {
     "name": "stdout",
     "output_type": "stream",
     "text": [
      "\n"
     ]
    },
    {
     "data": {
      "text/plain": [
       "array([[30, 31, 32, 33, 34],\n",
       "       [35, 36, 37, 38, 39]])"
      ]
     },
     "metadata": {},
     "output_type": "display_data"
    },
    {
     "name": "stdout",
     "output_type": "stream",
     "text": [
      "\n"
     ]
    },
    {
     "data": {
      "text/plain": [
       "array([[[ 0,  1,  2,  3,  4],\n",
       "        [ 5,  6,  7,  8,  9]],\n",
       "\n",
       "       [[10, 11, 12, 13, 14],\n",
       "        [15, 16, 17, 18, 19]],\n",
       "\n",
       "       [[20, 21, 22, 23, 24],\n",
       "        [25, 26, 27, 28, 29]],\n",
       "\n",
       "       [[30, 31, 32, 33, 34],\n",
       "        [35, 36, 37, 38, 39]]])"
      ]
     },
     "metadata": {},
     "output_type": "display_data"
    },
    {
     "name": "stdout",
     "output_type": "stream",
     "text": [
      "\n"
     ]
    },
    {
     "data": {
      "text/plain": [
       "array([[[ 0,  1,  2,  3,  4],\n",
       "        [10, 11, 12, 13, 14],\n",
       "        [20, 21, 22, 23, 24],\n",
       "        [30, 31, 32, 33, 34]],\n",
       "\n",
       "       [[ 5,  6,  7,  8,  9],\n",
       "        [15, 16, 17, 18, 19],\n",
       "        [25, 26, 27, 28, 29],\n",
       "        [35, 36, 37, 38, 39]]])"
      ]
     },
     "metadata": {},
     "output_type": "display_data"
    },
    {
     "name": "stdout",
     "output_type": "stream",
     "text": [
      "\n"
     ]
    },
    {
     "data": {
      "text/plain": [
       "array([[[ 0, 10, 20, 30],\n",
       "        [ 1, 11, 21, 31],\n",
       "        [ 2, 12, 22, 32],\n",
       "        [ 3, 13, 23, 33],\n",
       "        [ 4, 14, 24, 34]],\n",
       "\n",
       "       [[ 5, 15, 25, 35],\n",
       "        [ 6, 16, 26, 36],\n",
       "        [ 7, 17, 27, 37],\n",
       "        [ 8, 18, 28, 38],\n",
       "        [ 9, 19, 29, 39]]])"
      ]
     },
     "metadata": {},
     "output_type": "display_data"
    }
   ],
   "source": [
    "a = np.arange(0, 10, step=1)\n",
    "a = a.reshape(2, 5)\n",
    "b = np.arange(10, 20, step=1)\n",
    "b = b.reshape(2, 5)\n",
    "c = np.arange(20, 30, step=1)\n",
    "c = c.reshape(2, 5) \n",
    "c1 = np.arange(30, 40, step=1)\n",
    "c1 = c1.reshape(2, 5) \n",
    "\n",
    "display(a)\n",
    "print()\n",
    "display(b)\n",
    "print()\n",
    "display(c)\n",
    "print()\n",
    "display(c1)\n",
    "print()\n",
    "\n",
    "d = np.stack((a, b, c, c1), axis=0)\n",
    "d1 = np.stack((a, b, c, c1), axis=1)\n",
    "d2 = np.stack((a, b, c, c1), axis=2)\n",
    "# d2 = np.stack((a, b, c, c1), axis=3)\n",
    "\n",
    "display(d)\n",
    "print()\n",
    "display(d1)\n",
    "print()\n",
    "display(d2)"
   ]
  },
  {
   "cell_type": "code",
   "execution_count": 58,
   "id": "3f9b5de6-af46-48e9-b00f-860ff662ca19",
   "metadata": {},
   "outputs": [
    {
     "data": {
      "text/plain": [
       "(3, 2, 5)"
      ]
     },
     "execution_count": 58,
     "metadata": {},
     "output_type": "execute_result"
    }
   ],
   "source": [
    "d.shape"
   ]
  },
  {
   "cell_type": "code",
   "execution_count": 62,
   "id": "54a9a9c0-1e18-4b90-b5e8-1203be628e15",
   "metadata": {},
   "outputs": [
    {
     "data": {
      "text/plain": [
       "array([[ 1,  6],\n",
       "       [11, 16],\n",
       "       [21, 26]])"
      ]
     },
     "execution_count": 62,
     "metadata": {},
     "output_type": "execute_result"
    }
   ],
   "source": [
    "d[:, :, 1]"
   ]
  },
  {
   "cell_type": "code",
   "execution_count": 70,
   "id": "199cde2e-7072-4295-90d0-5243b1d35e55",
   "metadata": {},
   "outputs": [
    {
     "data": {
      "text/plain": [
       "array([10, 35])"
      ]
     },
     "execution_count": 70,
     "metadata": {},
     "output_type": "execute_result"
    }
   ],
   "source": [
    "a.sum(axis=1)"
   ]
  },
  {
   "cell_type": "markdown",
   "id": "38c1381c-94bc-4950-8a62-6fc951487b8d",
   "metadata": {},
   "source": [
    "# Statystyka opisowa"
   ]
  },
  {
   "cell_type": "markdown",
   "id": "601f0eaa-85d9-444d-ae6e-6c7afea12681",
   "metadata": {
    "tags": []
   },
   "source": [
    "# Testy statystyczne"
   ]
  },
  {
   "cell_type": "code",
   "execution_count": 1,
   "id": "ed8996e7-d6fb-4805-afc4-fcbc97a39d36",
   "metadata": {
    "tags": []
   },
   "outputs": [],
   "source": [
    "import pandas as pd\n",
    "import numpy as np\n",
    "import scipy.stats as sps\n",
    "import matplotlib.pyplot as plt\n",
    "\n",
    "PATH = \"data/napoje.csv\"\n",
    "\n",
    "alpha = 0.05\n",
    "\n",
    "drinks_data = pd.read_csv(PATH, sep=';', na_values='.')"
   ]
  },
  {
   "cell_type": "code",
   "execution_count": 2,
   "id": "4f7220cc-7c24-463f-9d73-8ae74d041721",
   "metadata": {},
   "outputs": [
    {
     "data": {
      "text/html": [
       "<div>\n",
       "<style scoped>\n",
       "    .dataframe tbody tr th:only-of-type {\n",
       "        vertical-align: middle;\n",
       "    }\n",
       "\n",
       "    .dataframe tbody tr th {\n",
       "        vertical-align: top;\n",
       "    }\n",
       "\n",
       "    .dataframe thead th {\n",
       "        text-align: right;\n",
       "    }\n",
       "</style>\n",
       "<table border=\"1\" class=\"dataframe\">\n",
       "  <thead>\n",
       "    <tr style=\"text-align: right;\">\n",
       "      <th></th>\n",
       "      <th>mies</th>\n",
       "      <th>rok</th>\n",
       "      <th>pepsi</th>\n",
       "      <th>fanta</th>\n",
       "      <th>żywiec</th>\n",
       "      <th>okocim</th>\n",
       "      <th>regionalne</th>\n",
       "      <th>cola</th>\n",
       "      <th>lech</th>\n",
       "    </tr>\n",
       "  </thead>\n",
       "  <tbody>\n",
       "    <tr>\n",
       "      <th>0</th>\n",
       "      <td>1</td>\n",
       "      <td>2001</td>\n",
       "      <td>108447</td>\n",
       "      <td>43302</td>\n",
       "      <td>186385</td>\n",
       "      <td>54301</td>\n",
       "      <td>45065</td>\n",
       "      <td>227013</td>\n",
       "      <td>56306</td>\n",
       "    </tr>\n",
       "    <tr>\n",
       "      <th>1</th>\n",
       "      <td>2</td>\n",
       "      <td>2001</td>\n",
       "      <td>105439</td>\n",
       "      <td>46711</td>\n",
       "      <td>168782</td>\n",
       "      <td>68131</td>\n",
       "      <td>43933</td>\n",
       "      <td>221115</td>\n",
       "      <td>67212</td>\n",
       "    </tr>\n",
       "    <tr>\n",
       "      <th>2</th>\n",
       "      <td>3</td>\n",
       "      <td>2001</td>\n",
       "      <td>111675</td>\n",
       "      <td>36029</td>\n",
       "      <td>172186</td>\n",
       "      <td>63104</td>\n",
       "      <td>46663</td>\n",
       "      <td>222812</td>\n",
       "      <td>67398</td>\n",
       "    </tr>\n",
       "    <tr>\n",
       "      <th>3</th>\n",
       "      <td>4</td>\n",
       "      <td>2001</td>\n",
       "      <td>113232</td>\n",
       "      <td>33659</td>\n",
       "      <td>172445</td>\n",
       "      <td>50871</td>\n",
       "      <td>45195</td>\n",
       "      <td>238631</td>\n",
       "      <td>57100</td>\n",
       "    </tr>\n",
       "    <tr>\n",
       "      <th>4</th>\n",
       "      <td>5</td>\n",
       "      <td>2001</td>\n",
       "      <td>110274</td>\n",
       "      <td>40853</td>\n",
       "      <td>174526</td>\n",
       "      <td>67924</td>\n",
       "      <td>47926</td>\n",
       "      <td>222963</td>\n",
       "      <td>65001</td>\n",
       "    </tr>\n",
       "    <tr>\n",
       "      <th>...</th>\n",
       "      <td>...</td>\n",
       "      <td>...</td>\n",
       "      <td>...</td>\n",
       "      <td>...</td>\n",
       "      <td>...</td>\n",
       "      <td>...</td>\n",
       "      <td>...</td>\n",
       "      <td>...</td>\n",
       "      <td>...</td>\n",
       "    </tr>\n",
       "    <tr>\n",
       "      <th>187</th>\n",
       "      <td>8</td>\n",
       "      <td>2016</td>\n",
       "      <td>105949</td>\n",
       "      <td>43017</td>\n",
       "      <td>169329</td>\n",
       "      <td>64262</td>\n",
       "      <td>58101</td>\n",
       "      <td>222531</td>\n",
       "      <td>58037</td>\n",
       "    </tr>\n",
       "    <tr>\n",
       "      <th>188</th>\n",
       "      <td>9</td>\n",
       "      <td>2016</td>\n",
       "      <td>103420</td>\n",
       "      <td>44310</td>\n",
       "      <td>173923</td>\n",
       "      <td>67591</td>\n",
       "      <td>44565</td>\n",
       "      <td>230270</td>\n",
       "      <td>65156</td>\n",
       "    </tr>\n",
       "    <tr>\n",
       "      <th>189</th>\n",
       "      <td>10</td>\n",
       "      <td>2016</td>\n",
       "      <td>120363</td>\n",
       "      <td>50688</td>\n",
       "      <td>175856</td>\n",
       "      <td>63791</td>\n",
       "      <td>51376</td>\n",
       "      <td>247155</td>\n",
       "      <td>59276</td>\n",
       "    </tr>\n",
       "    <tr>\n",
       "      <th>190</th>\n",
       "      <td>11</td>\n",
       "      <td>2016</td>\n",
       "      <td>101215</td>\n",
       "      <td>41924</td>\n",
       "      <td>175914</td>\n",
       "      <td>62570</td>\n",
       "      <td>59505</td>\n",
       "      <td>240524</td>\n",
       "      <td>61765</td>\n",
       "    </tr>\n",
       "    <tr>\n",
       "      <th>191</th>\n",
       "      <td>12</td>\n",
       "      <td>2016</td>\n",
       "      <td>114300</td>\n",
       "      <td>42314</td>\n",
       "      <td>178209</td>\n",
       "      <td>65923</td>\n",
       "      <td>58508</td>\n",
       "      <td>223129</td>\n",
       "      <td>68106</td>\n",
       "    </tr>\n",
       "  </tbody>\n",
       "</table>\n",
       "<p>192 rows × 9 columns</p>\n",
       "</div>"
      ],
      "text/plain": [
       "     mies   rok   pepsi  fanta  żywiec  okocim  regionalne    cola   lech\n",
       "0       1  2001  108447  43302  186385   54301       45065  227013  56306\n",
       "1       2  2001  105439  46711  168782   68131       43933  221115  67212\n",
       "2       3  2001  111675  36029  172186   63104       46663  222812  67398\n",
       "3       4  2001  113232  33659  172445   50871       45195  238631  57100\n",
       "4       5  2001  110274  40853  174526   67924       47926  222963  65001\n",
       "..    ...   ...     ...    ...     ...     ...         ...     ...    ...\n",
       "187     8  2016  105949  43017  169329   64262       58101  222531  58037\n",
       "188     9  2016  103420  44310  173923   67591       44565  230270  65156\n",
       "189    10  2016  120363  50688  175856   63791       51376  247155  59276\n",
       "190    11  2016  101215  41924  175914   62570       59505  240524  61765\n",
       "191    12  2016  114300  42314  178209   65923       58508  223129  68106\n",
       "\n",
       "[192 rows x 9 columns]"
      ]
     },
     "execution_count": 2,
     "metadata": {},
     "output_type": "execute_result"
    }
   ],
   "source": [
    "drinks_data"
   ]
  },
  {
   "cell_type": "code",
   "execution_count": 4,
   "id": "7ca0f286-ef0c-47cb-9fcb-bbc922fa6898",
   "metadata": {},
   "outputs": [
    {
     "data": {
      "text/plain": [
       "61091.348958333336"
      ]
     },
     "execution_count": 4,
     "metadata": {},
     "output_type": "execute_result"
    }
   ],
   "source": [
    "drinks_data['lech'].mean()"
   ]
  },
  {
   "cell_type": "markdown",
   "id": "6c5aa032-4836-4f70-b6ca-08fea846cd86",
   "metadata": {},
   "source": [
    "- średnia konsumpcja piwa lech = 60,500 \n",
    "- średnia konsumpcja coli = 222,000 \n",
    "- średnia konsumpcja regionalnego piwa = 43,500"
   ]
  },
  {
   "cell_type": "code",
   "execution_count": 14,
   "id": "27d72a79-dd13-43e4-b030-fda5720529b4",
   "metadata": {},
   "outputs": [
    {
     "name": "stdout",
     "output_type": "stream",
     "text": [
      "Mean lech: 61091.35. Tested value: 60500.00\n",
      "p-value: 0.1013\n",
      "Hipothesis accepted\n",
      "\n",
      "Mean cola: 226389.47. Tested value: 222000.00\n",
      "p-value: 0.0000\n",
      "Hipothesis rejected!\n",
      "\n",
      "Mean regionalne: 48668.04. Tested value: 43500.00\n",
      "p-value: 0.0000\n",
      "Hipothesis rejected!\n",
      "\n"
     ]
    }
   ],
   "source": [
    "drink_types = ['lech', 'cola', 'regionalne']\n",
    "\n",
    "mean_values = [60500, 222000, 43500]\n",
    "\n",
    "for k in range(0, len(mean_values)):\n",
    "    result = sps.ttest_1samp(drinks_data[drink_types[k]], mean_values[k])\n",
    "    print('Mean %s: %.2f. Tested value: %.2f' % (drink_types[k], drinks_data[drink_types[k]].mean(),mean_values[k]))\n",
    "    print(f\"p-value: {result.pvalue:.4f}\")\n",
    "    if result.pvalue < alpha:\n",
    "        print(\"Hipothesis rejected!\")\n",
    "    else:\n",
    "        print(\"Hipothesis accepted\")\n",
    "    print()"
   ]
  },
  {
   "cell_type": "markdown",
   "id": "f52c820a-2bb2-43d2-a999-0e809b0ec127",
   "metadata": {},
   "source": [
    "- Sprawdź która zmienna odstaje od rozkładu normalnego w napoje.csv"
   ]
  },
  {
   "cell_type": "code",
   "execution_count": 19,
   "id": "8d821aa7-0710-4260-8f54-b28cb123769e",
   "metadata": {},
   "outputs": [
    {
     "name": "stdout",
     "output_type": "stream",
     "text": [
      "Hipothesis rejected!\n",
      "p-value: 0.0000\n"
     ]
    },
    {
     "data": {
      "image/png": "[encoded data removed]",
      "text/plain": [
       "<Figure size 432x288 with 1 Axes>"
      ]
     },
     "metadata": {
      "needs_background": "light"
     },
     "output_type": "display_data"
    },
    {
     "name": "stdout",
     "output_type": "stream",
     "text": [
      "Hipothesis rejected!\n",
      "p-value: 0.0000\n"
     ]
    },
    {
     "data": {
      "image/png": "[encoded data removed]",
      "text/plain": [
       "<Figure size 432x288 with 1 Axes>"
      ]
     },
     "metadata": {
      "needs_background": "light"
     },
     "output_type": "display_data"
    },
    {
     "name": "stdout",
     "output_type": "stream",
     "text": [
      "Hipothesis accepted\n",
      "p-value: 0.7200\n"
     ]
    },
    {
     "data": {
      "image/png": "[encoded data removed]",
      "text/plain": [
       "<Figure size 432x288 with 1 Axes>"
      ]
     },
     "metadata": {
      "needs_background": "light"
     },
     "output_type": "display_data"
    },
    {
     "name": "stdout",
     "output_type": "stream",
     "text": [
      "Hipothesis accepted\n",
      "p-value: 0.1827\n"
     ]
    },
    {
     "data": {
      "image/png": "[encoded data removed]",
      "text/plain": [
       "<Figure size 432x288 with 1 Axes>"
      ]
     },
     "metadata": {
      "needs_background": "light"
     },
     "output_type": "display_data"
    },
    {
     "name": "stdout",
     "output_type": "stream",
     "text": [
      "Hipothesis accepted\n",
      "p-value: 0.3402\n"
     ]
    },
    {
     "data": {
      "image/png": "[encoded data removed]",
      "text/plain": [
       "<Figure size 432x288 with 1 Axes>"
      ]
     },
     "metadata": {
      "needs_background": "light"
     },
     "output_type": "display_data"
    },
    {
     "name": "stdout",
     "output_type": "stream",
     "text": [
      "Hipothesis accepted\n",
      "p-value: 0.1265\n"
     ]
    },
    {
     "data": {
      "image/png": "[encoded data removed]",
      "text/plain": [
       "<Figure size 432x288 with 1 Axes>"
      ]
     },
     "metadata": {
      "needs_background": "light"
     },
     "output_type": "display_data"
    },
    {
     "name": "stdout",
     "output_type": "stream",
     "text": [
      "Hipothesis rejected!\n",
      "p-value: 0.0000\n"
     ]
    },
    {
     "data": {
      "image/png": "[encoded data removed]",
      "text/plain": [
       "<Figure size 432x288 with 1 Axes>"
      ]
     },
     "metadata": {
      "needs_background": "light"
     },
     "output_type": "display_data"
    },
    {
     "name": "stdout",
     "output_type": "stream",
     "text": [
      "Hipothesis accepted\n",
      "p-value: 0.5359\n"
     ]
    },
    {
     "data": {
      "image/png": "[encoded data removed]",
      "text/plain": [
       "<Figure size 432x288 with 1 Axes>"
      ]
     },
     "metadata": {
      "needs_background": "light"
     },
     "output_type": "display_data"
    },
    {
     "name": "stdout",
     "output_type": "stream",
     "text": [
      "Hipothesis accepted\n",
      "p-value: 0.4732\n"
     ]
    },
    {
     "data": {
      "image/png": "[encoded data removed]",
      "text/plain": [
       "<Figure size 432x288 with 1 Axes>"
      ]
     },
     "metadata": {
      "needs_background": "light"
     },
     "output_type": "display_data"
    }
   ],
   "source": [
    "for column in drinks_data.columns:\n",
    "    one_drink_data = drinks_data[column]\n",
    "    normal_results = sps.normaltest(one_drink_data)\n",
    "\n",
    "    p_val = normal_results.pvalue\n",
    "    if p_val < alpha:\n",
    "        print(\"Hipothesis rejected!\")\n",
    "    else:\n",
    "        print(\"Hipothesis accepted\")\n",
    "        \n",
    "    print(f\"p-value: {p_val:.4f}\")\n",
    "    one_drink_data.plot.hist(bins=20)\n",
    "    plt.show()"
   ]
  },
  {
   "cell_type": "markdown",
   "id": "62978504-cdf3-4f0b-b58d-1a4905929520",
   "metadata": {},
   "source": [
    "- Sprawdź równość średnich następujących par - okocim - lech - fanta - piwo regionalne - cola - pepsi"
   ]
  },
  {
   "cell_type": "code",
   "execution_count": 20,
   "id": "e45d94ce-7114-41a7-b3bf-7132348defaa",
   "metadata": {},
   "outputs": [
    {
     "name": "stdout",
     "output_type": "stream",
     "text": [
      "\n",
      "\n",
      "Mean for okocim: 60679.83, lech : 61091.35\n",
      "Ttest_indResult(statistic=-0.8323919685480173, pvalue=0.4057078093583595)\n",
      "Hipothesis accepted\n",
      "\n",
      "\n",
      "Mean for fanta: 43395.59, regionalne : 48668.04\n",
      "Ttest_indResult(statistic=-11.013919429372727, pvalue=1.097001288015355e-24)\n",
      "Hipothesis rejected!\n",
      "\n",
      "\n",
      "Mean for cola: 226389.47, pepsi : 111414.69\n",
      "Ttest_indResult(statistic=145.61815604546564, pvalue=0.0)\n",
      "Hipothesis rejected!\n"
     ]
    }
   ],
   "source": [
    "first = ['okocim', 'fanta', 'cola']\n",
    "second = ['lech', 'regionalne', 'pepsi']\n",
    "\n",
    "for fir, sec in zip(first, second):\n",
    "    results = sps.ttest_ind(drinks_data[fir], drinks_data[sec])\n",
    "    print('\\n')\n",
    "    print('Mean for %s: %.2f, %s : %.2f' % (fir, drinks_data[fir].mean(), sec, drinks_data[sec].mean()))\n",
    "    print(results)\n",
    "\n",
    "    if results.pvalue < alpha:\n",
    "        print(\"Hipothesis rejected!\")\n",
    "    else:\n",
    "        print(\"Hipothesis accepted\")"
   ]
  },
  {
   "cell_type": "markdown",
   "id": "dadb87d7-1f1c-4d7d-897e-0e0bf552e6c9",
   "metadata": {},
   "source": [
    "- Sprawdź równość wariancji następujących par - okocim - lech, - livestock - fanta - regionalne - cola."
   ]
  },
  {
   "cell_type": "code",
   "execution_count": 21,
   "id": "66b6ebad-412c-4d9e-9ea3-7c845685cd52",
   "metadata": {},
   "outputs": [
    {
     "name": "stdout",
     "output_type": "stream",
     "text": [
      "\n",
      "\n",
      "Mean for okocim: 60679.83, lech : 61091.35\n",
      "LeveneResult(statistic=1.170724713967106, pvalue=0.27993492665722014)\n",
      "Hipothesis accepted\n",
      "\n",
      "\n",
      "Mean for fanta: 43395.59, żywiec : 176803.38\n",
      "LeveneResult(statistic=1.4958639049674667, pvalue=0.2220628379546036)\n",
      "Hipothesis accepted\n",
      "\n",
      "\n",
      "Mean for cola: 226389.47, regionalne : 48668.04\n",
      "LeveneResult(statistic=84.84618463352085, pvalue=2.176944251373244e-18)\n",
      "Hipothesis rejected!\n"
     ]
    }
   ],
   "source": [
    "first = ['okocim', 'fanta', 'cola']\n",
    "second = ['lech', 'żywiec', 'regionalne']\n",
    "\n",
    "for fir, sec in zip(first, second):\n",
    "    results = sps.levene(drinks_data[fir], drinks_data[sec], center='mean')\n",
    "    \n",
    "    print('\\n')\n",
    "    print('Mean for %s: %.2f, %s : %.2f' % (fir, drinks_data[fir].mean(), sec, drinks_data[sec].mean()))\n",
    "    print(results)\n",
    "\n",
    "    if results.pvalue < alpha:\n",
    "        print(\"Hipothesis rejected!\")\n",
    "    else:\n",
    "        print(\"Hipothesis accepted\") "
   ]
  },
  {
   "cell_type": "markdown",
   "id": "32883939-81e1-4f34-9755-93f68288c406",
   "metadata": {},
   "source": [
    "- Sprawdź równość średnich w latach 2001 i 2015 dla piwa regionalnego."
   ]
  },
  {
   "cell_type": "code",
   "execution_count": 23,
   "id": "11498fcc-78d4-4346-951b-8a6b69a5ed3d",
   "metadata": {},
   "outputs": [
    {
     "name": "stdout",
     "output_type": "stream",
     "text": [
      "Ttest_indResult(statistic=-3.597778058271827, pvalue=0.0016000242362201897)\n",
      "Hipothesis rejected!\n"
     ]
    }
   ],
   "source": [
    "reg_2001 = drinks_data[drinks_data['rok'] == 2001]['regionalne']\n",
    "reg_2015 = drinks_data[drinks_data['rok'] == 2015]['regionalne']\n",
    "results = sps.ttest_ind(reg_2001, reg_2015)\n",
    "\n",
    "print(results)\n",
    "\n",
    "if results.pvalue < alpha:\n",
    "    print(\"Hipothesis rejected!\")\n",
    "else:\n",
    "    print(\"Hipothesis accepted\")"
   ]
  },
  {
   "cell_type": "markdown",
   "id": "bcad44f3-2d3a-4321-871e-349dc71ce0e4",
   "metadata": {},
   "source": [
    "- Sprawdź równość średnich dla wartości z roku 2016 przed i po reklamie napoje_po_reklamie.csv osobno dla coli, fanty oraz pepsi. Załóż, że zmienne są od siebie zależne."
   ]
  },
  {
   "cell_type": "code",
   "execution_count": 36,
   "id": "4b44b49a-d10b-4bc1-85b3-86ceece6a1b2",
   "metadata": {
    "tags": []
   },
   "outputs": [
    {
     "data": {
      "text/html": [
       "<div>\n",
       "<style scoped>\n",
       "    .dataframe tbody tr th:only-of-type {\n",
       "        vertical-align: middle;\n",
       "    }\n",
       "\n",
       "    .dataframe tbody tr th {\n",
       "        vertical-align: top;\n",
       "    }\n",
       "\n",
       "    .dataframe thead th {\n",
       "        text-align: right;\n",
       "    }\n",
       "</style>\n",
       "<table border=\"1\" class=\"dataframe\">\n",
       "  <thead>\n",
       "    <tr style=\"text-align: right;\">\n",
       "      <th></th>\n",
       "      <th>mies</th>\n",
       "      <th>pepsi</th>\n",
       "      <th>fanta</th>\n",
       "      <th>żywiec</th>\n",
       "      <th>okocim</th>\n",
       "      <th>regionalne</th>\n",
       "      <th>cola</th>\n",
       "      <th>lech</th>\n",
       "    </tr>\n",
       "  </thead>\n",
       "  <tbody>\n",
       "    <tr>\n",
       "      <th>0</th>\n",
       "      <td>1</td>\n",
       "      <td>119110</td>\n",
       "      <td>41386</td>\n",
       "      <td>186272</td>\n",
       "      <td>64398</td>\n",
       "      <td>55561</td>\n",
       "      <td>215468</td>\n",
       "      <td>68673</td>\n",
       "    </tr>\n",
       "    <tr>\n",
       "      <th>1</th>\n",
       "      <td>2</td>\n",
       "      <td>107424</td>\n",
       "      <td>45669</td>\n",
       "      <td>178564</td>\n",
       "      <td>61847</td>\n",
       "      <td>48793</td>\n",
       "      <td>233941</td>\n",
       "      <td>68483</td>\n",
       "    </tr>\n",
       "    <tr>\n",
       "      <th>2</th>\n",
       "      <td>3</td>\n",
       "      <td>105748</td>\n",
       "      <td>47373</td>\n",
       "      <td>183368</td>\n",
       "      <td>53390</td>\n",
       "      <td>63907</td>\n",
       "      <td>229677</td>\n",
       "      <td>63300</td>\n",
       "    </tr>\n",
       "    <tr>\n",
       "      <th>3</th>\n",
       "      <td>4</td>\n",
       "      <td>115377</td>\n",
       "      <td>39395</td>\n",
       "      <td>184326</td>\n",
       "      <td>60062</td>\n",
       "      <td>58531</td>\n",
       "      <td>234246</td>\n",
       "      <td>61943</td>\n",
       "    </tr>\n",
       "    <tr>\n",
       "      <th>4</th>\n",
       "      <td>5</td>\n",
       "      <td>103003</td>\n",
       "      <td>42477</td>\n",
       "      <td>182190</td>\n",
       "      <td>63736</td>\n",
       "      <td>51395</td>\n",
       "      <td>219392</td>\n",
       "      <td>64189</td>\n",
       "    </tr>\n",
       "    <tr>\n",
       "      <th>5</th>\n",
       "      <td>6</td>\n",
       "      <td>102809</td>\n",
       "      <td>47224</td>\n",
       "      <td>183115</td>\n",
       "      <td>52596</td>\n",
       "      <td>55149</td>\n",
       "      <td>219600</td>\n",
       "      <td>63343</td>\n",
       "    </tr>\n",
       "    <tr>\n",
       "      <th>6</th>\n",
       "      <td>7</td>\n",
       "      <td>106890</td>\n",
       "      <td>45185</td>\n",
       "      <td>184858</td>\n",
       "      <td>54457</td>\n",
       "      <td>52977</td>\n",
       "      <td>225857</td>\n",
       "      <td>63466</td>\n",
       "    </tr>\n",
       "    <tr>\n",
       "      <th>7</th>\n",
       "      <td>8</td>\n",
       "      <td>103613</td>\n",
       "      <td>38748</td>\n",
       "      <td>185559</td>\n",
       "      <td>61437</td>\n",
       "      <td>61143</td>\n",
       "      <td>226311</td>\n",
       "      <td>68841</td>\n",
       "    </tr>\n",
       "    <tr>\n",
       "      <th>8</th>\n",
       "      <td>9</td>\n",
       "      <td>112709</td>\n",
       "      <td>34145</td>\n",
       "      <td>186496</td>\n",
       "      <td>62945</td>\n",
       "      <td>59051</td>\n",
       "      <td>232491</td>\n",
       "      <td>65195</td>\n",
       "    </tr>\n",
       "    <tr>\n",
       "      <th>9</th>\n",
       "      <td>10</td>\n",
       "      <td>112780</td>\n",
       "      <td>37407</td>\n",
       "      <td>182187</td>\n",
       "      <td>67979</td>\n",
       "      <td>60212</td>\n",
       "      <td>235802</td>\n",
       "      <td>57058</td>\n",
       "    </tr>\n",
       "    <tr>\n",
       "      <th>10</th>\n",
       "      <td>11</td>\n",
       "      <td>113206</td>\n",
       "      <td>51504</td>\n",
       "      <td>191763</td>\n",
       "      <td>61462</td>\n",
       "      <td>55311</td>\n",
       "      <td>221554</td>\n",
       "      <td>54589</td>\n",
       "    </tr>\n",
       "    <tr>\n",
       "      <th>11</th>\n",
       "      <td>12</td>\n",
       "      <td>107777</td>\n",
       "      <td>41005</td>\n",
       "      <td>183566</td>\n",
       "      <td>62182</td>\n",
       "      <td>64720</td>\n",
       "      <td>223153</td>\n",
       "      <td>56674</td>\n",
       "    </tr>\n",
       "  </tbody>\n",
       "</table>\n",
       "</div>"
      ],
      "text/plain": [
       "    mies   pepsi  fanta  żywiec  okocim  regionalne    cola   lech\n",
       "0      1  119110  41386  186272   64398       55561  215468  68673\n",
       "1      2  107424  45669  178564   61847       48793  233941  68483\n",
       "2      3  105748  47373  183368   53390       63907  229677  63300\n",
       "3      4  115377  39395  184326   60062       58531  234246  61943\n",
       "4      5  103003  42477  182190   63736       51395  219392  64189\n",
       "5      6  102809  47224  183115   52596       55149  219600  63343\n",
       "6      7  106890  45185  184858   54457       52977  225857  63466\n",
       "7      8  103613  38748  185559   61437       61143  226311  68841\n",
       "8      9  112709  34145  186496   62945       59051  232491  65195\n",
       "9     10  112780  37407  182187   67979       60212  235802  57058\n",
       "10    11  113206  51504  191763   61462       55311  221554  54589\n",
       "11    12  107777  41005  183566   62182       64720  223153  56674"
      ]
     },
     "execution_count": 36,
     "metadata": {},
     "output_type": "execute_result"
    }
   ],
   "source": [
    "PATH_2 = \"data/napoje_po_reklamie.csv\"\n",
    "\n",
    "napoje_po_reklamie_data = pd.read_csv(PATH_2, sep=';', na_values='.')\n",
    "\n",
    "napoje_po_reklamie_data"
   ]
  },
  {
   "cell_type": "code",
   "execution_count": 38,
   "id": "590b830b-057e-4800-b366-b738ea4c2cab",
   "metadata": {},
   "outputs": [
    {
     "name": "stdout",
     "output_type": "stream",
     "text": [
      "Dependent test for cola before and afterad\n",
      "Ttest_relResult(statistic=-0.11032676911481809, pvalue=0.9141373808316627)\n",
      "Hipothesis accepted\n",
      "\n",
      "Dependent test for fanta before and afterad\n",
      "Ttest_relResult(statistic=-0.3199018672121306, pvalue=0.7550366759257836)\n",
      "Hipothesis accepted\n",
      "\n",
      "Dependent test for pepsi before and afterad\n",
      "Ttest_relResult(statistic=0.20520478240138976, pvalue=0.8411601080767367)\n",
      "Hipothesis accepted\n",
      "\n"
     ]
    }
   ],
   "source": [
    "drinks_2016 = drinks_data[drinks_data['rok'] == 2016]\n",
    "drink_types = ['cola', 'fanta', 'pepsi']\n",
    "\n",
    "for drink_type in drink_types:\n",
    "    results = sps.ttest_rel(napoje_po_reklamie_data[drink_type], drinks_2016[drink_type])\n",
    "    \n",
    "    print('Dependent test for %s before and afterad' % drink_type)\n",
    "    print(results)\n",
    "\n",
    "    if results.pvalue < alpha:\n",
    "        print(\"Hipothesis rejected!\")\n",
    "    else:\n",
    "        print(\"Hipothesis accepted\")\n",
    "    print()"
   ]
  },
  {
   "cell_type": "code",
   "execution_count": null,
   "id": "86a45125-cd0a-45e4-be7a-a39694f79728",
   "metadata": {},
   "outputs": [],
   "source": []
  }
 ],
 "metadata": {
  "kernelspec": {
   "display_name": "venv_app",
   "language": "python",
   "name": "venv_app"
  },
  "language_info": {
   "codemirror_mode": {
    "name": "ipython",
    "version": 3
   },
   "file_extension": ".py",
   "mimetype": "text/x-python",
   "name": "python",
   "nbconvert_exporter": "python",
   "pygments_lexer": "ipython3",
   "version": "3.9.4"
  }
 },
 "nbformat": 4,
 "nbformat_minor": 5
}
