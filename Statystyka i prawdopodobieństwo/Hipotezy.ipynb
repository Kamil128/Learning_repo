{
 "cells": [
  {
   "cell_type": "markdown",
   "id": "3d9325ed-c650-475a-827b-73303d5f6578",
   "metadata": {},
   "source": [
    "# Testowanie Hipotez Statystycznych"
   ]
  },
  {
   "cell_type": "markdown",
   "id": "b99ec0b7-e3c7-464b-b2b9-788457fc1102",
   "metadata": {
    "tags": []
   },
   "source": [
    "### test t-studenta dla jednej próbki"
   ]
  },
  {
   "cell_type": "code",
   "execution_count": 4,
   "id": "9e733d6d-bb8a-4744-9b87-60654d0f7c09",
   "metadata": {},
   "outputs": [],
   "source": [
    "import numpy as np\n",
    "import matplotlib.pyplot as plt"
   ]
  },
  {
   "cell_type": "code",
   "execution_count": 5,
   "id": "67e97a0d-5bfb-4743-8db1-208931f7c86b",
   "metadata": {},
   "outputs": [
    {
     "data": {
      "image/png": "[encoded data removed]",
      "text/plain": [
       "<Figure size 432x288 with 1 Axes>"
      ]
     },
     "metadata": {
      "needs_background": "light"
     },
     "output_type": "display_data"
    },
    {
     "name": "stdout",
     "output_type": "stream",
     "text": [
      "Ttest_1sampResult(statistic=14.585382191818757, pvalue=7.92410880757054e-44)\n",
      "Ttest_1sampResult(statistic=8.21085542289713, pvalue=6.738737762068824e-16)\n",
      "Ttest_1sampResult(statistic=0.24269696174509586, pvalue=0.8082899794044538)\n",
      "Ttest_1sampResult(statistic=-1.350934730485311, pvalue=0.1770222291723873)\n",
      "Ttest_1sampResult(statistic=-2.9445664227157176, pvalue=0.0033089947977429065)\n",
      "Ttest_1sampResult(statistic=-4.538198114946124, pvalue=6.363476951206814e-06)\n"
     ]
    }
   ],
   "source": [
    "from scipy import stats\n",
    "\n",
    "loc=5\n",
    "scale=10\n",
    "x = stats.norm.rvs(loc=loc, scale=scale, size=1_000)\n",
    "x = np.random.normal(loc=loc, scale=scale, size=1_000)\n",
    "\n",
    "plt.hist(x, alpha=0.6, bins=20)\n",
    "plt.show()\n",
    "\n",
    "print(stats.ttest_1samp(x, 0))\n",
    "print(stats.ttest_1samp(x, 2))\n",
    "print(stats.ttest_1samp(x, 4.5))\n",
    "print(stats.ttest_1samp(x, 5))\n",
    "print(stats.ttest_1samp(x, 5.5))\n",
    "print(stats.ttest_1samp(x, 6))"
   ]
  },
  {
   "cell_type": "code",
   "execution_count": 6,
   "id": "733869f5-4e98-4c92-8ff4-7a58e27e83b6",
   "metadata": {},
   "outputs": [
    {
     "name": "stdout",
     "output_type": "stream",
     "text": [
      "Ttest_1sampResult(statistic=14.585382191818757, pvalue=7.92410880757054e-44)\n",
      "Ttest_1sampResult(statistic=8.21085542289713, pvalue=6.738737762068824e-16)\n",
      "Ttest_1sampResult(statistic=0.24269696174509586, pvalue=0.8082899794044538)\n",
      "Ttest_1sampResult(statistic=-1.350934730485311, pvalue=0.1770222291723873)\n",
      "Ttest_1sampResult(statistic=-2.9445664227157176, pvalue=0.0033089947977429065)\n",
      "Ttest_1sampResult(statistic=-4.538198114946124, pvalue=6.363476951206814e-06)\n"
     ]
    }
   ],
   "source": [
    "print(stats.ttest_1samp(x, 0))\n",
    "print(stats.ttest_1samp(x, 2))\n",
    "print(stats.ttest_1samp(x, 4.5))\n",
    "print(stats.ttest_1samp(x, 5))\n",
    "print(stats.ttest_1samp(x, 5.5))\n",
    "print(stats.ttest_1samp(x, 6))"
   ]
  },
  {
   "cell_type": "markdown",
   "id": "ff3cbb1d-9a7d-4eca-bb19-1cee8f447406",
   "metadata": {},
   "source": [
    "### test t-studenta dla dwóch niezależnych próbek"
   ]
  },
  {
   "cell_type": "code",
   "execution_count": 7,
   "id": "790ca139-1c4a-4f79-9ccb-4e003e0a2a1d",
   "metadata": {},
   "outputs": [
    {
     "data": {
      "image/png": "[encoded data removed]",
      "text/plain": [
       "<Figure size 432x288 with 1 Axes>"
      ]
     },
     "metadata": {
      "needs_background": "light"
     },
     "output_type": "display_data"
    },
    {
     "name": "stdout",
     "output_type": "stream",
     "text": [
      "Ttest_indResult(statistic=-1.6001549294736914, pvalue=0.1097750795199064)\n"
     ]
    }
   ],
   "source": [
    "from scipy import stats\n",
    "\n",
    "loc1 = 5\n",
    "scale1 = 10\n",
    "loc2 = 5\n",
    "scale2 = 20\n",
    "# x = stats.norm.rvs(loc=loc, scale=scale, size=1_000)\n",
    "x1 = np.random.normal(loc=loc1, scale=scale1, size=1_000)\n",
    "x2 = np.random.normal(loc=loc2, scale=scale2, size=500)\n",
    "\n",
    "plt.hist(x1, alpha=0.3, bins=50)\n",
    "plt.hist(x2, alpha=0.3, bins=50)\n",
    "plt.show()\n",
    "\n",
    "print(stats.ttest_ind(x1, x2))"
   ]
  },
  {
   "cell_type": "markdown",
   "id": "5a36ac58-f89a-4266-95f3-943998e2a7c3",
   "metadata": {},
   "source": [
    "### test t-studenta dla dwóch zależnych próbek"
   ]
  },
  {
   "cell_type": "code",
   "execution_count": 8,
   "id": "ad40fec1-4858-4f8a-b6ee-a87aecda79cb",
   "metadata": {},
   "outputs": [
    {
     "data": {
      "image/png": "[encoded data removed]",
      "text/plain": [
       "<Figure size 432x288 with 1 Axes>"
      ]
     },
     "metadata": {
      "needs_background": "light"
     },
     "output_type": "display_data"
    },
    {
     "name": "stdout",
     "output_type": "stream",
     "text": [
      "Ttest_relResult(statistic=-1.5651036749900684, pvalue=0.11819252036367099)\n"
     ]
    }
   ],
   "source": [
    "from scipy import stats\n",
    "\n",
    "loc = 5\n",
    "scale = 10\n",
    "\n",
    "x1 = stats.norm.rvs(loc=loc, scale=scale, size=500)\n",
    "x2 = (stats.norm.rvs(loc=loc, scale=scale, size=500)\n",
    "         + stats.norm.rvs(scale=0.2, size=500))\n",
    "\n",
    "plt.hist(x1, alpha=0.3, bins=50)\n",
    "plt.hist(x2, alpha=0.3, bins=50)\n",
    "plt.show()\n",
    "\n",
    "print(stats.ttest_rel(x1, x2))"
   ]
  },
  {
   "cell_type": "markdown",
   "id": "d14d7733-5ebb-4f17-ae51-00a14337daf0",
   "metadata": {},
   "source": [
    "### Test normalności rozkładu"
   ]
  },
  {
   "cell_type": "code",
   "execution_count": 9,
   "id": "70957d49-9fa3-46d8-ab8c-f58d9e05218c",
   "metadata": {},
   "outputs": [
    {
     "data": {
      "image/png": "[encoded data removed]",
      "text/plain": [
       "<Figure size 432x288 with 1 Axes>"
      ]
     },
     "metadata": {
      "needs_background": "light"
     },
     "output_type": "display_data"
    },
    {
     "data": {
      "image/png": "[encoded data removed]",
      "text/plain": [
       "<Figure size 432x288 with 1 Axes>"
      ]
     },
     "metadata": {
      "needs_background": "light"
     },
     "output_type": "display_data"
    },
    {
     "data": {
      "text/plain": [
       "NormaltestResult(statistic=38.55056550424104, pvalue=4.2545248400491055e-09)"
      ]
     },
     "execution_count": 9,
     "metadata": {},
     "output_type": "execute_result"
    }
   ],
   "source": [
    "from scipy import stats\n",
    "\n",
    "x1 = stats.norm.rvs(loc=0, scale=1, size=500)\n",
    "x2 = stats.norm.rvs(loc=2, scale=1, size=500)\n",
    "\n",
    "x = np.concatenate((x1, x2))\n",
    "\n",
    "plt.hist(x1, alpha=0.3, bins=50)\n",
    "plt.hist(x2, alpha=0.3, bins=50)\n",
    "plt.show()\n",
    "\n",
    "plt.hist(x, alpha=0.3, bins=50)\n",
    "plt.show()\n",
    "\n",
    "stats.normaltest(x)"
   ]
  },
  {
   "cell_type": "markdown",
   "id": "eb703067-42ae-4847-b4a3-572a0a281fc0",
   "metadata": {},
   "source": [
    "### test Kołomorgowa-Smirnowa"
   ]
  },
  {
   "cell_type": "code",
   "execution_count": 10,
   "id": "9e17eab4-90ed-4185-9faa-917098fca2c0",
   "metadata": {},
   "outputs": [
    {
     "data": {
      "image/png": "[encoded data removed]",
      "text/plain": [
       "<Figure size 432x288 with 1 Axes>"
      ]
     },
     "metadata": {
      "needs_background": "light"
     },
     "output_type": "display_data"
    },
    {
     "name": "stdout",
     "output_type": "stream",
     "text": [
      "KstestResult(statistic=0.4443560271592436, pvalue=0.03885014008678778)\n"
     ]
    }
   ],
   "source": [
    "from scipy import stats\n",
    "\n",
    "x = np.linspace(-15, 15, 9)\n",
    "\n",
    "plt.hist(x, alpha=0.3, bins=50)\n",
    "plt.show()\n",
    "\n",
    "print(stats.kstest(x, 'norm'))"
   ]
  },
  {
   "cell_type": "markdown",
   "id": "3059e3d3-e452-4fef-98a8-4408a18cc626",
   "metadata": {},
   "source": [
    "### Test shapiro-wilka"
   ]
  },
  {
   "cell_type": "code",
   "execution_count": 11,
   "id": "6cc5c4a8-bc9c-449d-9316-4e77eb35cf53",
   "metadata": {},
   "outputs": [
    {
     "data": {
      "image/png": "[encoded data removed]",
      "text/plain": [
       "<Figure size 432x288 with 1 Axes>"
      ]
     },
     "metadata": {
      "needs_background": "light"
     },
     "output_type": "display_data"
    },
    {
     "name": "stdout",
     "output_type": "stream",
     "text": [
      "ShapiroResult(statistic=0.9903246164321899, pvalue=0.6908432245254517)\n"
     ]
    }
   ],
   "source": [
    "from scipy import stats\n",
    "\n",
    "x = stats.norm.rvs(loc=5, scale=3, size=100)\n",
    "plt.hist(x, alpha=0.3, bins=20)\n",
    "plt.show()\n",
    "\n",
    "print(stats.shapiro(x))"
   ]
  },
  {
   "cell_type": "markdown",
   "id": "a78087af-edf9-4b42-961e-15a4429bafa2",
   "metadata": {},
   "source": [
    "<hr>"
   ]
  },
  {
   "cell_type": "code",
   "execution_count": 14,
   "id": "84ac7c64-a134-40cc-ad83-eb58324b92a5",
   "metadata": {},
   "outputs": [
    {
     "name": "stderr",
     "output_type": "stream",
     "text": [
      "[NbConvertApp] Converting notebook Hipotezy.ipynb to html\n",
      "[NbConvertApp] Writing 640756 bytes to HTML/Hipotezy.html\n"
     ]
    }
   ],
   "source": [
    "%%bash\n",
    "jupyter nbconvert \\\n",
    "    --to html Hipotezy.ipynb \\\n",
    "    --output-dir ./HTML"
   ]
  }
 ],
 "metadata": {
  "kernelspec": {
   "display_name": "venv_app",
   "language": "python",
   "name": "venv_app"
  },
  "language_info": {
   "codemirror_mode": {
    "name": "ipython",
    "version": 3
   },
   "file_extension": ".py",
   "mimetype": "text/x-python",
   "name": "python",
   "nbconvert_exporter": "python",
   "pygments_lexer": "ipython3",
   "version": "3.9.4"
  }
 },
 "nbformat": 4,
 "nbformat_minor": 5
}
