{
 "cells": [
  {
   "cell_type": "code",
   "execution_count": 1,
   "metadata": {},
   "outputs": [],
   "source": [
    "# !pip install numpy\n",
    "# !pip install matplotlib"
   ]
  },
  {
   "cell_type": "code",
   "execution_count": null,
   "metadata": {
    "id": "6IxB_EJv5ZT-"
   },
   "outputs": [],
   "source": [
    "import numpy as np\n",
    "import matplotlib.pyplot as plt"
   ]
  },
  {
   "cell_type": "markdown",
   "metadata": {
    "id": "TX4MIr8mw_m7"
   },
   "source": [
    "# Scalar"
   ]
  },
  {
   "cell_type": "code",
   "execution_count": 3,
   "metadata": {
    "colab": {
     "base_uri": "https://localhost:8080/"
    },
    "id": "_XHORRZqdtuU",
    "outputId": "95aa05b7-c8b5-4b22-b825-f97f78a6fb87"
   },
   "outputs": [
    {
     "data": {
      "text/plain": [
       "10"
      ]
     },
     "execution_count": 3,
     "metadata": {},
     "output_type": "execute_result"
    }
   ],
   "source": [
    "s = 10\n",
    "s"
   ]
  },
  {
   "cell_type": "markdown",
   "metadata": {
    "id": "Jh2GvDGtxCnu"
   },
   "source": [
    "# Wektor"
   ]
  },
  {
   "cell_type": "code",
   "execution_count": 4,
   "metadata": {
    "colab": {
     "base_uri": "https://localhost:8080/"
    },
    "id": "8W55zedIdz2J",
    "outputId": "f6d2995f-a432-46a6-b927-a9af8e003e23"
   },
   "outputs": [
    {
     "data": {
      "text/plain": [
       "array([1, 2, 3])"
      ]
     },
     "execution_count": 4,
     "metadata": {},
     "output_type": "execute_result"
    }
   ],
   "source": [
    "# prosty wektor z listy\n",
    "X = np.array([1, 2, 3])\n",
    "X"
   ]
  },
  {
   "cell_type": "code",
   "execution_count": 5,
   "metadata": {
    "colab": {
     "base_uri": "https://localhost:8080/"
    },
    "id": "CF7FVNVvd4zS",
    "outputId": "ae034818-ccda-45df-b54b-8c6efaf9f264"
   },
   "outputs": [
    {
     "name": "stdout",
     "output_type": "stream",
     "text": [
      "Rozmiar:   (3,)\n",
      "Pojemność: 3\n",
      "Wymiar:    1\n"
     ]
    }
   ],
   "source": [
    "# opis wektora\n",
    "print(f\"Rozmiar:   {X.shape}\")\n",
    "print(f\"Pojemność: {X.size}\")\n",
    "print(f\"Wymiar:    {X.ndim}\")"
   ]
  },
  {
   "cell_type": "code",
   "execution_count": 6,
   "metadata": {
    "colab": {
     "base_uri": "https://localhost:8080/"
    },
    "id": "NteUb-Rrd9LX",
    "outputId": "9d0595b5-049b-4186-96cb-7c5beff1a212"
   },
   "outputs": [
    {
     "data": {
      "text/plain": [
       "1"
      ]
     },
     "execution_count": 6,
     "metadata": {},
     "output_type": "execute_result"
    }
   ],
   "source": [
    "# dostęp do elementów wektora\n",
    "# element x1 -> index x[0]\n",
    "X[0]"
   ]
  },
  {
   "cell_type": "code",
   "execution_count": 7,
   "metadata": {
    "colab": {
     "base_uri": "https://localhost:8080/"
    },
    "id": "nS463XJM6rhl",
    "outputId": "f8a0d372-ec0f-40df-9b62-0e3c32febe54"
   },
   "outputs": [
    {
     "data": {
      "text/plain": [
       "array([[1. ],\n",
       "       [2. ],\n",
       "       [3. ],\n",
       "       [5.5]])"
      ]
     },
     "execution_count": 7,
     "metadata": {},
     "output_type": "execute_result"
    }
   ],
   "source": [
    "# wektor kolumnowy\n",
    "Y = np.array([[1], [2], [3], [5.5]])\n",
    "Y"
   ]
  },
  {
   "cell_type": "markdown",
   "metadata": {
    "id": "tpunUprYxN2_"
   },
   "source": [
    "# Macierz"
   ]
  },
  {
   "cell_type": "markdown",
   "metadata": {
    "id": "Q4z-uzr2A9UK"
   },
   "source": [
    "Macierz to układ liczb, symboli lub wyrażeń zapisanych w postaci prostokątnej tablicy. Możemy myśleć o macierzy jako zbiorze wektorów."
   ]
  },
  {
   "cell_type": "code",
   "execution_count": 8,
   "metadata": {
    "colab": {
     "base_uri": "https://localhost:8080/"
    },
    "id": "AzlAxllBeNNp",
    "outputId": "eff0f3f2-2303-4548-9340-b16648c62a65"
   },
   "outputs": [
    {
     "data": {
      "text/plain": [
       "array([[1, 2, 3],\n",
       "       [2, 3, 4]])"
      ]
     },
     "execution_count": 8,
     "metadata": {},
     "output_type": "execute_result"
    }
   ],
   "source": [
    "# macierz\n",
    "M = np.array([[1, 2, 3], [2, 3, 4]])\n",
    "M"
   ]
  },
  {
   "cell_type": "code",
   "execution_count": 9,
   "metadata": {
    "colab": {
     "base_uri": "https://localhost:8080/"
    },
    "id": "feZWCNlTeU3t",
    "outputId": "2ea4a933-c096-462f-b4f7-8a105474e9b4"
   },
   "outputs": [
    {
     "name": "stdout",
     "output_type": "stream",
     "text": [
      "Rozmiar:   (2, 3)\n",
      "Pojemność: 6\n",
      "Wymiar:    2\n"
     ]
    }
   ],
   "source": [
    "# opis macierzy\n",
    "print(f\"Rozmiar:   {M.shape}\")\n",
    "print(f\"Pojemność: {M.size}\")\n",
    "print(f\"Wymiar:    {M.ndim}\")"
   ]
  },
  {
   "cell_type": "code",
   "execution_count": 10,
   "metadata": {
    "colab": {
     "base_uri": "https://localhost:8080/"
    },
    "id": "R6BA6Yq9eYck",
    "outputId": "ec0d89d7-45e8-4a35-eb2b-acf1f7dbffb0"
   },
   "outputs": [
    {
     "data": {
      "text/plain": [
       "3"
      ]
     },
     "execution_count": 10,
     "metadata": {},
     "output_type": "execute_result"
    }
   ],
   "source": [
    "# dostęp do elementów macierzy \n",
    "M[0][2]\n",
    "M[0, 2]"
   ]
  },
  {
   "cell_type": "markdown",
   "metadata": {
    "id": "_9d8s7O7EYJD"
   },
   "source": [
    "# Tensor"
   ]
  },
  {
   "cell_type": "markdown",
   "metadata": {
    "id": "xLPVLPhZ6zjK"
   },
   "source": [
    "Tensor jako uogulnienie macierzy."
   ]
  },
  {
   "cell_type": "code",
   "execution_count": 11,
   "metadata": {
    "colab": {
     "base_uri": "https://localhost:8080/"
    },
    "id": "pPwhufqU69Sm",
    "outputId": "fa22b783-af3a-4e33-c87d-ec4f43398875"
   },
   "outputs": [
    {
     "data": {
      "text/plain": [
       "array([[[1. , 2. , 3.3],\n",
       "        [2. , 3. , 4. ]],\n",
       "\n",
       "       [[1. , 2. , 5. ],\n",
       "        [5. , 5. , 6. ]]])"
      ]
     },
     "execution_count": 11,
     "metadata": {},
     "output_type": "execute_result"
    }
   ],
   "source": [
    "T = np.array([\n",
    "              [[1, 2, 3.3], [2, 3, 4]], \n",
    "              [[1, 2, 5. ], [5, 5, 6]]\n",
    "              ])\n",
    "T"
   ]
  },
  {
   "cell_type": "code",
   "execution_count": 12,
   "metadata": {
    "colab": {
     "base_uri": "https://localhost:8080/"
    },
    "id": "4n_uxa_3EV8F",
    "outputId": "bdb86398-5bcc-4e4f-9507-51361d4d0182"
   },
   "outputs": [
    {
     "name": "stdout",
     "output_type": "stream",
     "text": [
      "Rozmiar:   (2, 2, 3)\n",
      "Pojemność: 12\n",
      "Wymiar:    3\n"
     ]
    }
   ],
   "source": [
    "# opis tensora\n",
    "print(f\"Rozmiar:   {T.shape}\")\n",
    "print(f\"Pojemność: {T.size}\")\n",
    "print(f\"Wymiar:    {T.ndim}\")"
   ]
  },
  {
   "cell_type": "code",
   "execution_count": 13,
   "metadata": {
    "colab": {
     "base_uri": "https://localhost:8080/"
    },
    "id": "6N6XnYH37Ml9",
    "outputId": "00ed9b34-2459-4fd5-8722-96fcf6428df7"
   },
   "outputs": [
    {
     "data": {
      "text/plain": [
       "3.0"
      ]
     },
     "execution_count": 13,
     "metadata": {},
     "output_type": "execute_result"
    }
   ],
   "source": [
    "# dostęp do elementów tensora\n",
    "T[0][1][1]\n",
    "T[0, 1, 1]"
   ]
  },
  {
   "cell_type": "markdown",
   "metadata": {
    "id": "Txr5UN0jxYR9"
   },
   "source": [
    "# Generowanie liczb losowych"
   ]
  },
  {
   "cell_type": "markdown",
   "metadata": {
    "id": "qfvwRBQITFcG"
   },
   "source": [
    "### Arange"
   ]
  },
  {
   "cell_type": "code",
   "execution_count": null,
   "metadata": {
    "colab": {
     "base_uri": "https://localhost:8080/"
    },
    "id": "HcXGz517THRQ",
    "outputId": "f95c5d39-be39-4665-e302-51d85c3dd5f7"
   },
   "outputs": [],
   "source": [
    "np.arange(0, 10, 1.1)     # np.arange(od, do, krok)\n",
    "np.arange(-1.1, 10, 2.1)  # [-10; 10) - jako przedział od -1.1 domknięty (włącznie) do 10 otwarty (bez)"
   ]
  },
  {
   "cell_type": "markdown",
   "metadata": {
    "id": "baJ3hX-CTq30"
   },
   "source": [
    "### linspace"
   ]
  },
  {
   "cell_type": "code",
   "execution_count": null,
   "metadata": {
    "colab": {
     "base_uri": "https://localhost:8080/"
    },
    "id": "gjCZ1FrvTZGS",
    "outputId": "1f7da809-5928-436d-b2c2-30402dc61d5c"
   },
   "outputs": [],
   "source": [
    "np.linspace(0, 1, 100)      # np.linspace(od, do, ile_elementow) \n",
    "np.linspace(0, 1)           # domyślnie 50 elementów\n",
    "np.linspace(-3.5, 2.2, 42)  # [-3.5; 2.2) - jako przedział od -3.5 domknięty (włącznie) do 2.2 zamknięty (włącznie)"
   ]
  },
  {
   "cell_type": "markdown",
   "metadata": {
    "id": "gBNiKUntxbnX"
   },
   "source": [
    "### generowanie losowych macierzy o rokładzie normalnym"
   ]
  },
  {
   "cell_type": "code",
   "execution_count": null,
   "metadata": {
    "colab": {
     "base_uri": "https://localhost:8080/"
    },
    "id": "vB8-hViWehc1",
    "outputId": "fb6fbf09-9184-440d-e0b2-569cae8b5996"
   },
   "outputs": [],
   "source": [
    "# generowanie losowych macierzy o rokładzie normalnym\n",
    "N = np.random.normal()\n",
    "# loc -> średnia, domyślnie 0; \n",
    "# scale -> odchylenie standardowe, domyślnie 1.0  \n",
    "# size=None -> rozmiar macierzy, domyślnie None zwraca jedną liczbę\n",
    "N = np.random.normal(loc=0.0, scale=1.0, size=None)  \n",
    "N = np.random.normal(loc=1.3, scale=3.3, size=None)\n",
    "N = np.random.normal(size=10)\n",
    "N = np.random.normal(size=(7, 3))\n",
    "N"
   ]
  },
  {
   "cell_type": "markdown",
   "metadata": {
    "id": "5Kc187YMxfNt"
   },
   "source": [
    "### generowanie losowych macierzy o rokładzie normalnym N(0, 1)\n",
    "\n",
    "Rozkład normalny ze średnią 0 i odchylenie standardowym 1.0"
   ]
  },
  {
   "cell_type": "code",
   "execution_count": null,
   "metadata": {
    "colab": {
     "base_uri": "https://localhost:8080/"
    },
    "id": "4d3ReCBjhc1g",
    "outputId": "913ee2c5-52d2-493a-d525-feee7d4b8a13"
   },
   "outputs": [],
   "source": [
    "# generowanie losowych macierzy o rokładzie normalnym N(0, 1)\n",
    "S = np.random.randn()\n",
    "S = np.random.randn(7)\n",
    "S = np.random.randn(7, 3)\n",
    "# S = np.random.randn((7, 3))  # TypeError: 'tuple' object cannot be interpreted as an integer\n",
    "S"
   ]
  },
  {
   "cell_type": "markdown",
   "metadata": {
    "id": "AHHZsf4txhqM",
    "tags": []
   },
   "source": [
    "### generowanie losowych macierzy o rozkładzie jednostajnym"
   ]
  },
  {
   "cell_type": "code",
   "execution_count": null,
   "metadata": {
    "colab": {
     "base_uri": "https://localhost:8080/"
    },
    "id": "pICMD5pre8Cy",
    "outputId": "a92b9665-e8fb-448a-fc8e-6f92eec0fbce"
   },
   "outputs": [],
   "source": [
    "# generowanie losowych macierzy o rozkładzie jednostajnym\n",
    "U = np.random.uniform()\n",
    "U = np.random.uniform(low=0.0, high=1.0, size=None)\n",
    "U = np.random.uniform(low=-10, high=10, size=10)\n",
    "U = np.random.uniform(low=-10, high=10, size=(7, 3))\n",
    "U"
   ]
  },
  {
   "cell_type": "markdown",
   "metadata": {
    "id": "_jO4ST6zxmWC"
   },
   "source": [
    "### generowanie losowych macierzy o rozkładzie jednostajnym z przedziału [0; 1)"
   ]
  },
  {
   "cell_type": "code",
   "execution_count": null,
   "metadata": {
    "colab": {
     "base_uri": "https://localhost:8080/"
    },
    "id": "UL9OPBCTg9Ub",
    "outputId": "b69ce5de-cce8-449e-8f55-cb08e4c26770"
   },
   "outputs": [],
   "source": [
    "# generowanie losowych macierzy o rozkładzie jednostajnym z przedziału [0; 1)\n",
    "R = np.random.random()\n",
    "R = np.random.random(size=10)\n",
    "R = np.random.random((7, 3))\n",
    "R"
   ]
  },
  {
   "cell_type": "markdown",
   "metadata": {
    "id": "1_smZXMxxpns"
   },
   "source": [
    "### generowanie losowych macierzy liczb czałkowitych o rozkładzie jednostajnym "
   ]
  },
  {
   "cell_type": "code",
   "execution_count": null,
   "metadata": {
    "colab": {
     "base_uri": "https://localhost:8080/"
    },
    "id": "qxx4Auktfo2s",
    "outputId": "2ca81d10-c7bf-425e-f52d-e48c3aeb65ef"
   },
   "outputs": [],
   "source": [
    "# generowanie losowych macierzy liczb czałkowitych o rozkładzie jednostajnym \n",
    "I = np.random.randint(10)  # jedna liczba z przedziału [0; 10)\n",
    "I = np.random.randint(low=10, high=12)  # np.random.randint(10, 12)\n",
    "I = np.random.randint(1, 12, size=10)\n",
    "I = np.random.randint(1, 12, size=(7, 3))\n",
    "I"
   ]
  },
  {
   "cell_type": "markdown",
   "metadata": {
    "id": "NL-JR_zMxre3"
   },
   "source": [
    "# Dostęp do elementów macierzy"
   ]
  },
  {
   "cell_type": "code",
   "execution_count": null,
   "metadata": {
    "colab": {
     "base_uri": "https://localhost:8080/"
    },
    "id": "GIvsj3I3gKo4",
    "outputId": "4099756b-0233-4c3f-f849-d931d3ea161a"
   },
   "outputs": [],
   "source": [
    "X = np.random.randn(7, 7)\n",
    "X = np.round(X, 2)\n",
    "X"
   ]
  },
  {
   "cell_type": "markdown",
   "metadata": {
    "id": "chZ5Z07x_y9t"
   },
   "source": [
    "### Index"
   ]
  },
  {
   "cell_type": "code",
   "execution_count": null,
   "metadata": {
    "colab": {
     "base_uri": "https://localhost:8080/"
    },
    "id": "fuUmjoOtiXc6",
    "outputId": "df8a5996-0398-4e95-abcc-46bdd7d21ed7"
   },
   "outputs": [],
   "source": [
    "# Index\n",
    "X[0]\n",
    "X[0, 1]\n",
    "X[:, 4]\n",
    "X[1, :]\n",
    "X[1:3]\n",
    "X[1:3, 0:4]\n",
    "# X[1:10]  !!!!\n",
    "X[-1]\n",
    "X[-2]\n",
    "X[4:-1, 2:-1]\n",
    "X[-3:-1, -4:-1]\n",
    "# X[[1, 3], ]  X[[1, 3], [2, 4]]  # uwaga\n",
    "X[::-1]\n",
    "X[[3, 1, 0, 3, 3]]"
   ]
  },
  {
   "cell_type": "code",
   "execution_count": null,
   "metadata": {
    "colab": {
     "base_uri": "https://localhost:8080/"
    },
    "id": "pOOZQWmw_7y-",
    "outputId": "b0a3cad1-fa94-4261-9179-f6a465195496"
   },
   "outputs": [],
   "source": [
    "print(X)\n",
    "print()\n",
    "print(X[::-1])\n",
    "print()\n",
    "print(X[::-1, ::-1])"
   ]
  },
  {
   "cell_type": "code",
   "execution_count": null,
   "metadata": {
    "colab": {
     "base_uri": "https://localhost:8080/"
    },
    "id": "o8eHzkfPAAHo",
    "outputId": "5502b447-d513-4bb2-ada1-8876e7d08f8e"
   },
   "outputs": [],
   "source": [
    "V = X[1]\n",
    "print(V)\n",
    "print(V[::-1])"
   ]
  },
  {
   "cell_type": "markdown",
   "metadata": {
    "id": "v6Q4-357yE7D"
   },
   "source": [
    "### Index warunkowy"
   ]
  },
  {
   "cell_type": "code",
   "execution_count": null,
   "metadata": {
    "colab": {
     "base_uri": "https://localhost:8080/"
    },
    "id": "SSshHo-uii7f",
    "outputId": "2fc78526-b7f8-417f-9961-34e8571d65b8"
   },
   "outputs": [],
   "source": [
    "wynik = np.random.randint(10, 100, size=20)\n",
    "wynik"
   ]
  },
  {
   "cell_type": "code",
   "execution_count": null,
   "metadata": {
    "colab": {
     "base_uri": "https://localhost:8080/"
    },
    "id": "fYoc_gwwAPAh",
    "outputId": "77dad2fa-790e-4ad2-c38e-4142a341b0d1"
   },
   "outputs": [],
   "source": [
    "wynik[wynik>50]"
   ]
  },
  {
   "cell_type": "code",
   "execution_count": null,
   "metadata": {
    "colab": {
     "base_uri": "https://localhost:8080/"
    },
    "id": "-Sv92ZKLAKOz",
    "outputId": "284520c5-1e8b-4541-8c7f-84ee0618e054"
   },
   "outputs": [],
   "source": [
    "w = wynik > 50\n",
    "w"
   ]
  },
  {
   "cell_type": "code",
   "execution_count": null,
   "metadata": {
    "colab": {
     "base_uri": "https://localhost:8080/"
    },
    "id": "K8nHCzAkjY_S",
    "outputId": "3e3dd528-b2ca-4f16-c9dd-12119e5967d8"
   },
   "outputs": [],
   "source": [
    "print(wynik[w])\n",
    "print(wynik[~w])  # zaprzeczenie w (~ tylda)\n"
   ]
  },
  {
   "cell_type": "markdown",
   "metadata": {
    "id": "fbCUmN8tAhQB"
   },
   "source": [
    "### funkcja `np.where()`\n"
   ]
  },
  {
   "cell_type": "code",
   "execution_count": null,
   "metadata": {
    "colab": {
     "base_uri": "https://localhost:8080/"
    },
    "id": "czLtEcJOjo0A",
    "outputId": "95f2d3bf-8ba0-4b15-d115-29730f305189"
   },
   "outputs": [],
   "source": [
    "idx = np.where(w)  # np.where(wynik>50)\n",
    "print(idx)\n",
    "wynik[idx]  # wynik[[0, 2, 3... ]]"
   ]
  },
  {
   "cell_type": "code",
   "execution_count": null,
   "metadata": {
    "colab": {
     "base_uri": "https://localhost:8080/"
    },
    "id": "MbSysKTRAt5W",
    "outputId": "ac2d7687-923a-4c60-a0fc-09f5a91861b5"
   },
   "outputs": [],
   "source": [
    "print(np.where(w, 1, 0))\n",
    "print(np.where(w, wynik, -wynik))"
   ]
  },
  {
   "cell_type": "code",
   "execution_count": null,
   "metadata": {
    "colab": {
     "base_uri": "https://localhost:8080/"
    },
    "id": "znGgXd8TkXH_",
    "outputId": "15dede7f-e1ac-4bec-9943-c446460f34b2"
   },
   "outputs": [],
   "source": [
    "np.where(wynik>50, np.sqrt(wynik), wynik ** 2)"
   ]
  },
  {
   "cell_type": "markdown",
   "metadata": {
    "id": "IyKbVJr7yKyY"
   },
   "source": [
    "# Operacje na macierzach"
   ]
  },
  {
   "cell_type": "code",
   "execution_count": null,
   "metadata": {
    "colab": {
     "base_uri": "https://localhost:8080/"
    },
    "id": "S__LVXUcktPe",
    "outputId": "643f87f1-fee4-4d6c-fc37-1c6271916975"
   },
   "outputs": [],
   "source": [
    "X = np.random.randint(0, 10, size=(3, 4))\n",
    "Y = np.random.randint(0, 10, size=(3, 4))\n",
    "print(X)\n",
    "print()\n",
    "print(Y)"
   ]
  },
  {
   "cell_type": "markdown",
   "metadata": {
    "id": "9OA1d5qzSQaG"
   },
   "source": [
    "### Dodawanie / odejmowanie"
   ]
  },
  {
   "cell_type": "code",
   "execution_count": null,
   "metadata": {
    "colab": {
     "base_uri": "https://localhost:8080/"
    },
    "id": "5s_7x5IhA8nE",
    "outputId": "1c0a35eb-e9f5-4b16-bddb-1f39617a7c34"
   },
   "outputs": [],
   "source": [
    "X + 3.14 \n",
    "3.14 + X\n",
    "X - 2.71\n",
    "2.71 - X"
   ]
  },
  {
   "cell_type": "code",
   "execution_count": null,
   "metadata": {
    "colab": {
     "base_uri": "https://localhost:8080/"
    },
    "id": "cJT5les-BC48",
    "outputId": "115d69c0-194b-40bc-ad63-5dda1aec2395"
   },
   "outputs": [],
   "source": [
    "X + Y\n",
    "np.add(X, Y)\n",
    "# X + Y[0:2]  # ValueError: operands could not be broadcast together with shapes (3,4) (2,4) \n",
    "X - Y\n",
    "np.subtract(X, Y)"
   ]
  },
  {
   "cell_type": "markdown",
   "metadata": {
    "id": "clJaYoSwSUXA"
   },
   "source": [
    "### Mnożenie"
   ]
  },
  {
   "cell_type": "code",
   "execution_count": null,
   "metadata": {
    "colab": {
     "base_uri": "https://localhost:8080/"
    },
    "id": "GIR-IMPToBTy",
    "outputId": "0bfaab40-4c15-46b1-cdff-cee09828ca9b"
   },
   "outputs": [],
   "source": [
    "10 * X\n",
    "X * 10\n",
    "X * Y\n",
    "Y * X"
   ]
  },
  {
   "cell_type": "code",
   "execution_count": null,
   "metadata": {
    "colab": {
     "base_uri": "https://localhost:8080/"
    },
    "id": "ULPNDrPVBTcR",
    "outputId": "b2bddf9d-8688-4b29-bccf-2a906b3b81f8"
   },
   "outputs": [],
   "source": [
    "# mnożenie \"algebraiczne\"\n",
    "print(X)\n",
    "print()\n",
    "print(Y)\n",
    "\n",
    "# X.dot(Y)  # ValueError: shapes (3,4) and (3,4) not aligned: 4 (dim 1) != 3 (dim 0)"
   ]
  },
  {
   "cell_type": "markdown",
   "metadata": {
    "id": "6a6PShIgBcGW"
   },
   "source": [
    "##### Transpozycja"
   ]
  },
  {
   "cell_type": "code",
   "execution_count": null,
   "metadata": {
    "colab": {
     "base_uri": "https://localhost:8080/"
    },
    "id": "IpzYvnnVShGz",
    "outputId": "61f6d479-3732-4508-dd53-50760a464347"
   },
   "outputs": [],
   "source": [
    "# Transpozycja\n",
    "print(X)\n",
    "X.T.dot(Y)"
   ]
  },
  {
   "cell_type": "code",
   "execution_count": null,
   "metadata": {
    "colab": {
     "base_uri": "https://localhost:8080/"
    },
    "id": "Uk25FyzKBe3h",
    "outputId": "2eb405c0-4a92-4cb7-c48f-924598283cca"
   },
   "outputs": [],
   "source": [
    "X.dot(Y.T)"
   ]
  },
  {
   "cell_type": "code",
   "execution_count": null,
   "metadata": {
    "colab": {
     "base_uri": "https://localhost:8080/"
    },
    "id": "U1tDci_UBhUA",
    "outputId": "0648ce80-cfe3-4b7b-811f-f424a85cbb0e"
   },
   "outputs": [],
   "source": [
    "# mnożenie macierzy nie jest przemienne\n",
    "print(X)\n",
    "Z = Y.T\n",
    "print()\n",
    "print(Z)"
   ]
  },
  {
   "cell_type": "code",
   "execution_count": null,
   "metadata": {
    "colab": {
     "base_uri": "https://localhost:8080/"
    },
    "id": "bzJDUEbtBpg9",
    "outputId": "fef34b97-1aa7-4830-a4c4-3beaae856449"
   },
   "outputs": [],
   "source": [
    "print(X.dot(Z))\n",
    "print()\n",
    "print(Z.dot(X))"
   ]
  },
  {
   "cell_type": "markdown",
   "metadata": {
    "id": "0lvTEbW7SZoB"
   },
   "source": [
    "### Macierz odwrotna\n",
    "\n",
    "Macierz odwrotna do macierzy `A`, jest to taka macierz `B`, że po pomnożeniu macierzy `A`. przez macierz `B` dostaniemy element neutralny, czyli macierz `I` z `1` na przekątnej (diabonali) i `0`."
   ]
  },
  {
   "cell_type": "code",
   "execution_count": null,
   "metadata": {
    "colab": {
     "base_uri": "https://localhost:8080/"
    },
    "id": "_3rk8cttopUG",
    "outputId": "d9111f08-e47b-443b-d7cb-70b0c3e5c01c"
   },
   "outputs": [],
   "source": [
    "A2d = np.random.randint(0, 10, size=(3, 3))\n",
    "A2d_odwrotna = np.linalg.inv(A2d)\n",
    "A2d_odwrotna"
   ]
  },
  {
   "cell_type": "code",
   "execution_count": null,
   "metadata": {
    "colab": {
     "base_uri": "https://localhost:8080/"
    },
    "id": "sUdw--81B3EO",
    "outputId": "44e7050e-fd95-4496-b4c8-ff7a208c1665"
   },
   "outputs": [],
   "source": [
    "print(np.round(A2d.dot(A2d_odwrotna)))\n",
    "print()\n",
    "print(np.round(A2d_odwrotna.dot(A2d)))"
   ]
  },
  {
   "cell_type": "markdown",
   "metadata": {
    "id": "SbfsFB5pSuKS"
   },
   "source": [
    "### Przekątna/Diagonala"
   ]
  },
  {
   "cell_type": "code",
   "execution_count": null,
   "metadata": {
    "colab": {
     "base_uri": "https://localhost:8080/"
    },
    "id": "i7S3ZPrrStur",
    "outputId": "8610b5b9-5b4a-4a74-8326-a6b15c3008bd"
   },
   "outputs": [],
   "source": [
    "A2d.diagonal()"
   ]
  },
  {
   "cell_type": "code",
   "execution_count": null,
   "metadata": {
    "colab": {
     "base_uri": "https://localhost:8080/"
    },
    "id": "lxzdXPJ3EV3W",
    "outputId": "48926767-f8b8-4c33-c998-c6e004ed5659"
   },
   "outputs": [],
   "source": [
    "# ślad macierzy\n",
    "A2d.diagonal().sum()"
   ]
  },
  {
   "cell_type": "markdown",
   "metadata": {
    "id": "VrUebu_zyQ4v"
   },
   "source": [
    "# zmina kształtu macierzy"
   ]
  },
  {
   "cell_type": "code",
   "execution_count": null,
   "metadata": {
    "colab": {
     "base_uri": "https://localhost:8080/"
    },
    "id": "NxrXAizNpDbc",
    "outputId": "807b919c-3a40-4d9e-8354-3dc221a68ea6"
   },
   "outputs": [],
   "source": [
    "C = np.random.randint(-10, 10, 24)\n",
    "C"
   ]
  },
  {
   "cell_type": "code",
   "execution_count": null,
   "metadata": {
    "colab": {
     "base_uri": "https://localhost:8080/"
    },
    "id": "EPfHVY1opS0s",
    "outputId": "6c90964c-2ac1-4678-9f8f-73263f422305"
   },
   "outputs": [],
   "source": [
    "C.reshape(6, 4)\n",
    "C.reshape(4, 6)\n",
    "# C.reshape(5, 2)  ValueError: cannot reshape array of size 24 into shape (5,2)\n",
    "print(f\"Warunek {sum(C.shape) == C.size}\")\n",
    "C.reshape(3, 2, 2, 2)"
   ]
  },
  {
   "cell_type": "code",
   "execution_count": null,
   "metadata": {
    "colab": {
     "base_uri": "https://localhost:8080/"
    },
    "id": "g059V3LoE5dH",
    "outputId": "cc89623a-4140-4c1c-e40b-b2861b020bb3"
   },
   "outputs": [],
   "source": [
    "C.reshape(6, -1)\n",
    "C.reshape(-1, 6)"
   ]
  },
  {
   "cell_type": "code",
   "execution_count": null,
   "metadata": {
    "colab": {
     "base_uri": "https://localhost:8080/"
    },
    "id": "BIKZrBpyEhLq",
    "outputId": "486b23b4-fd82-4cce-b896-4317a40dd98f"
   },
   "outputs": [],
   "source": [
    "C.reshape(4, -1)\n",
    "C.reshape(-1, 4)\n",
    "C.reshape(-1, 12)\n",
    "C.reshape(-1, 1)"
   ]
  },
  {
   "cell_type": "code",
   "execution_count": null,
   "metadata": {
    "colab": {
     "base_uri": "https://localhost:8080/"
    },
    "id": "qpmG8weQqMcW",
    "outputId": "d4fbb8cc-7149-4a06-d9ba-f2619fb5171e"
   },
   "outputs": [],
   "source": [
    "print(C)\n",
    "C1 = C.reshape(6, 4)\n",
    "print()\n",
    "print(C1)\n",
    "print()\n",
    "C1.flatten()"
   ]
  },
  {
   "cell_type": "code",
   "execution_count": null,
   "metadata": {
    "colab": {
     "base_uri": "https://localhost:8080/"
    },
    "id": "lHBM9B8ZqsoF",
    "outputId": "8c301c79-f7fa-4e15-b946-5b9c2a87b102"
   },
   "outputs": [],
   "source": [
    "C1"
   ]
  },
  {
   "cell_type": "code",
   "execution_count": null,
   "metadata": {
    "colab": {
     "base_uri": "https://localhost:8080/"
    },
    "id": "NcjtvfwfFCDG",
    "outputId": "dbfc68eb-539e-4f49-b80d-4bf21d51377a"
   },
   "outputs": [],
   "source": [
    "C.reshape(3, 2, 2, 2).flatten()"
   ]
  },
  {
   "cell_type": "markdown",
   "metadata": {
    "id": "iq-9D5MJFJvZ"
   },
   "source": [
    "# Zagadnienie regresji"
   ]
  },
  {
   "cell_type": "code",
   "execution_count": 22,
   "metadata": {
    "tags": []
   },
   "outputs": [],
   "source": [
    "import numpy as np\n",
    "import matplotlib.pyplot as plt\n",
    "\n",
    "data = np.random.uniform(0, 10, size=(50, 1))\n",
    "noise = np.random.randn(X.size, 1)\n",
    "\n",
    "a, b = 3, 5\n",
    "Y_true = a * data + b\n",
    "Y = a * data + b + noise\n",
    "\n",
    "Intercept = np.ones((X.size, 1))\n",
    "X = np.concatenate([Intercept, data], axis=1)"
   ]
  },
  {
   "cell_type": "code",
   "execution_count": 24,
   "metadata": {},
   "outputs": [
    {
     "name": "stdout",
     "output_type": "stream",
     "text": [
      "Parametr a: wartość prawdziwa: 3 wartość estymowana: [2.97442529]\n",
      "Parametr b: wartość prawdziwa: 5 wartość estymowana: [5.019775]\n"
     ]
    }
   ],
   "source": [
    "est_param = np.linalg.inv(X.T.dot(X)).dot(X.T).dot(Y)\n",
    "b_est = est_param[0]\n",
    "a_est = est_param[1]\n",
    "print(f\"Parametr a: wartość prawdziwa: {a} wartość estymowana: {a_est}\")\n",
    "print(f\"Parametr b: wartość prawdziwa: {b} wartość estymowana: {b_est}\")"
   ]
  },
  {
   "cell_type": "code",
   "execution_count": 33,
   "metadata": {
    "id": "SlcKxzCJGmx_"
   },
   "outputs": [],
   "source": [
    "# funkcja estymowana\n",
    "Y_est = np.dot(X, est_param)"
   ]
  },
  {
   "cell_type": "code",
   "execution_count": 34,
   "metadata": {
    "colab": {
     "base_uri": "https://localhost:8080/",
     "height": 428
    },
    "id": "qZltiIOpGKAR",
    "outputId": "ef5efdaa-2c57-4f01-b4ee-99fda4666472"
   },
   "outputs": [
    {
     "data": {
      "image/png": "[encoded data removed]",
      "text/plain": [
       "<Figure size 720x504 with 1 Axes>"
      ]
     },
     "metadata": {
      "needs_background": "light"
     },
     "output_type": "display_data"
    }
   ],
   "source": [
    "plt.figure(figsize=(10, 7))\n",
    "plt.scatter(X[:, 1], Y, alpha=0.7, s=1, label='obserwacje')\n",
    "plt.plot(X[:, 1], Y_true, color='red', label='funkcja teoretyczna', alpha=0.7)  # teoretyczna funkcja\n",
    "plt.plot(X[:, 1], Y_est, color='orange', label='funkcja estymowana', alpha=0.7)  # estymowana funkcja\n",
    "plt.legend()\n",
    "plt.show()"
   ]
  },
  {
   "cell_type": "markdown",
   "metadata": {
    "tags": []
   },
   "source": [
    "## Zadanie 1\n",
    "Stwórz numpy array z wartościami od 1 do do 9, wyświetl, a następnie odwróć tę tablicę (pierwszy element zostaje ostatnim, itd.). "
   ]
  },
  {
   "cell_type": "code",
   "execution_count": 54,
   "metadata": {},
   "outputs": [
    {
     "name": "stdout",
     "output_type": "stream",
     "text": [
      "[1 2 3 4 5 6 7 8 9]\n",
      "[9 8 7 6 5 4 3 2 1]\n"
     ]
    }
   ],
   "source": [
    "import numpy as np\n",
    "\n",
    "a = np.arange(1, 10)\n",
    "print(a)\n",
    "print(a[::-1])"
   ]
  },
  {
   "cell_type": "markdown",
   "metadata": {},
   "source": [
    "## Zadanie 2\n",
    "Stwórz następujący numpy array: [1, 23, 4, 31, 1, 1, 4, 23, 4, 1]; a następnie wypisz wszystkie unikalne (nie powtarzające się) elementy."
   ]
  },
  {
   "cell_type": "code",
   "execution_count": null,
   "metadata": {},
   "outputs": [],
   "source": [
    "import numpy as np\n",
    "\n",
    "a = np.array([1, 23, 4, 31, 1, 1, 4, 23, 4, 1])\n",
    "print(a)\n",
    "print(np.unique(a))"
   ]
  },
  {
   "cell_type": "markdown",
   "metadata": {},
   "source": [
    "## Zadanie 3\n",
    "Stwórz macierz 3x3 (używając reshape) z wartościami od 2 do 10."
   ]
  },
  {
   "cell_type": "code",
   "execution_count": null,
   "metadata": {},
   "outputs": [],
   "source": [
    "import numpy as np\n",
    "\n",
    "a = np.arange(2, 11).reshape(3, 3)\n",
    "print(a)"
   ]
  },
  {
   "cell_type": "markdown",
   "metadata": {},
   "source": [
    "## Zadanie 4\n",
    "Stwórz tablicę z sześcioma losowymi wartościami z przedziału od 10 do 30."
   ]
  },
  {
   "cell_type": "code",
   "execution_count": null,
   "metadata": {},
   "outputs": [],
   "source": [
    "import numpy as np\n",
    "\n",
    "a = np.random.randint(low=10, high=30, size=6)\n",
    "print(a)"
   ]
  },
  {
   "cell_type": "markdown",
   "metadata": {},
   "source": [
    "## Zadanie 5\n",
    "Spośród tablicy wartości: [23, 45, 112, 150, 43, 254, 95, 8] wyfiltruj te, które są większe od 100."
   ]
  },
  {
   "cell_type": "code",
   "execution_count": null,
   "metadata": {},
   "outputs": [],
   "source": [
    "import numpy as np\n",
    "\n",
    "a = np.array([23, 45, 112, 150, 43, 254, 95, 8])\n",
    "print(a)\n",
    "print(a[a > 100])\n",
    "print(a[np.where(a > 100)])"
   ]
  },
  {
   "cell_type": "markdown",
   "metadata": {
    "tags": []
   },
   "source": [
    "## Zadanie 6\n",
    "Stwórz poniższą macierz 4x4, a następnie:\n",
    "\n",
    "1, 15, 4, 13, \\\n",
    "8, 21, 3, 12, \\\n",
    "11, 13, 11, 5, \\\n",
    "32, 13, 0, 2\n",
    "\n",
    "\n",
    "* wyświetl element z drugiego wiersza i trzeciej kolumny, \n",
    "* oblicz jej wyznacznik,\n",
    "* oblicz jej ślad (sumę elementów na głównej przekątnej),\n",
    "* znajdź element największy i najmniejszy."
   ]
  },
  {
   "cell_type": "code",
   "execution_count": 55,
   "metadata": {},
   "outputs": [
    {
     "name": "stdout",
     "output_type": "stream",
     "text": [
      "3\n",
      "-19963.99999999999\n",
      "35\n",
      "0 32\n"
     ]
    }
   ],
   "source": [
    "import numpy as np\n",
    "\n",
    "a = np.array([[1, 15, 4, 13], [8, 21, 3, 12], [11, 13, 11, 5], [32, 13, 0, 2]])\n",
    "print(a[1][2])\n",
    "print(np.linalg.det(a))\n",
    "print(a.diagonal().sum())\n",
    "print(a.min(), a.max())"
   ]
  },
  {
   "cell_type": "markdown",
   "metadata": {},
   "source": [
    "<hr>"
   ]
  },
  {
   "cell_type": "code",
   "execution_count": 4,
   "metadata": {},
   "outputs": [
    {
     "name": "stderr",
     "output_type": "stream",
     "text": [
      "[NbConvertApp] Converting notebook Algebra_liniowa.ipynb to html\n",
      "[NbConvertApp] Writing 678029 bytes to HTML/Algebra_liniowa.html\n"
     ]
    }
   ],
   "source": [
    "%%bash\n",
    "jupyter nbconvert \\\n",
    "    --to html Algebra_liniowa.ipynb \\\n",
    "    --output-dir ./HTML"
   ]
  }
 ],
 "metadata": {
  "colab": {
   "collapsed_sections": [],
   "name": "Stats I Prob.ipynb",
   "provenance": []
  },
  "kernelspec": {
   "display_name": "venv_app",
   "language": "python",
   "name": "venv_app"
  },
  "language_info": {
   "codemirror_mode": {
    "name": "ipython",
    "version": 3
   },
   "file_extension": ".py",
   "mimetype": "text/x-python",
   "name": "python",
   "nbconvert_exporter": "python",
   "pygments_lexer": "ipython3",
   "version": "3.9.4"
  }
 },
 "nbformat": 4,
 "nbformat_minor": 4
}
