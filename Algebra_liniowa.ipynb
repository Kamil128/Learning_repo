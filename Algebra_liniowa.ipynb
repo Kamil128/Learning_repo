{
 "cells": [
  {
   "cell_type": "code",
   "execution_count": 3,
   "metadata": {
    "id": "6IxB_EJv5ZT-"
   },
   "outputs": [],
   "source": [
    "import numpy as np\n",
    "import matplotlib.pyplot as plt"
   ]
  },
  {
   "cell_type": "markdown",
   "metadata": {
    "id": "TX4MIr8mw_m7"
   },
   "source": [
    "# Scalar"
   ]
  },
  {
   "cell_type": "code",
   "execution_count": 4,
   "metadata": {
    "colab": {
     "base_uri": "https://localhost:8080/"
    },
    "id": "_XHORRZqdtuU",
    "outputId": "95aa05b7-c8b5-4b22-b825-f97f78a6fb87"
   },
   "outputs": [
    {
     "data": {
      "text/plain": [
       "10"
      ]
     },
     "execution_count": 4,
     "metadata": {},
     "output_type": "execute_result"
    }
   ],
   "source": [
    "s = 10\n",
    "s"
   ]
  },
  {
   "cell_type": "markdown",
   "metadata": {
    "id": "Jh2GvDGtxCnu"
   },
   "source": [
    "# Wektor"
   ]
  },
  {
   "cell_type": "code",
   "execution_count": 5,
   "metadata": {
    "colab": {
     "base_uri": "https://localhost:8080/"
    },
    "id": "8W55zedIdz2J",
    "outputId": "f6d2995f-a432-46a6-b927-a9af8e003e23"
   },
   "outputs": [
    {
     "data": {
      "text/plain": [
       "array([1, 2, 3])"
      ]
     },
     "execution_count": 5,
     "metadata": {},
     "output_type": "execute_result"
    }
   ],
   "source": [
    "# prosty wektor z listy\n",
    "X = np.array([1, 2, 3])\n",
    "X"
   ]
  },
  {
   "cell_type": "code",
   "execution_count": 6,
   "metadata": {
    "colab": {
     "base_uri": "https://localhost:8080/"
    },
    "id": "CF7FVNVvd4zS",
    "outputId": "ae034818-ccda-45df-b54b-8c6efaf9f264"
   },
   "outputs": [
    {
     "name": "stdout",
     "output_type": "stream",
     "text": [
      "Rozmiar:   (3,)\n",
      "Pojemność: 3\n",
      "Wymiar:    1\n"
     ]
    }
   ],
   "source": [
    "# opis wektora\n",
    "print(f\"Rozmiar:   {X.shape}\")\n",
    "print(f\"Pojemność: {X.size}\")\n",
    "print(f\"Wymiar:    {X.ndim}\")"
   ]
  },
  {
   "cell_type": "code",
   "execution_count": 7,
   "metadata": {
    "colab": {
     "base_uri": "https://localhost:8080/"
    },
    "id": "NteUb-Rrd9LX",
    "outputId": "9d0595b5-049b-4186-96cb-7c5beff1a212"
   },
   "outputs": [
    {
     "data": {
      "text/plain": [
       "1"
      ]
     },
     "execution_count": 7,
     "metadata": {},
     "output_type": "execute_result"
    }
   ],
   "source": [
    "# dostęp do elementów wektora\n",
    "# element x1 -> index x[0]\n",
    "X[0]"
   ]
  },
  {
   "cell_type": "code",
   "execution_count": 12,
   "metadata": {
    "colab": {
     "base_uri": "https://localhost:8080/"
    },
    "id": "nS463XJM6rhl",
    "outputId": "f8a0d372-ec0f-40df-9b62-0e3c32febe54"
   },
   "outputs": [
    {
     "data": {
      "text/plain": [
       "array([[1. ],\n",
       "       [2. ],\n",
       "       [3. ],\n",
       "       [5.5]])"
      ]
     },
     "execution_count": 12,
     "metadata": {},
     "output_type": "execute_result"
    }
   ],
   "source": [
    "# wektor kolumnowy\n",
    "Y = np.array([[1], [2], [3], [5.5]])\n",
    "Y"
   ]
  },
  {
   "cell_type": "markdown",
   "metadata": {
    "id": "tpunUprYxN2_"
   },
   "source": [
    "# Macierz"
   ]
  },
  {
   "cell_type": "markdown",
   "metadata": {
    "id": "Q4z-uzr2A9UK"
   },
   "source": [
    "Macierz to układ liczb, symboli lub wyrażeń zapisanych w postaci prostokątnej tablicy. Możemy myśleć o macierzy jako zbiorze wektorów."
   ]
  },
  {
   "cell_type": "code",
   "execution_count": 8,
   "metadata": {
    "colab": {
     "base_uri": "https://localhost:8080/"
    },
    "id": "AzlAxllBeNNp",
    "outputId": "eff0f3f2-2303-4548-9340-b16648c62a65"
   },
   "outputs": [
    {
     "data": {
      "text/plain": [
       "array([[1, 2, 3],\n",
       "       [2, 3, 4]])"
      ]
     },
     "execution_count": 8,
     "metadata": {},
     "output_type": "execute_result"
    }
   ],
   "source": [
    "# macierz\n",
    "M = np.array([[1, 2, 3], [2, 3, 4]])\n",
    "M"
   ]
  },
  {
   "cell_type": "code",
   "execution_count": 9,
   "metadata": {
    "colab": {
     "base_uri": "https://localhost:8080/"
    },
    "id": "feZWCNlTeU3t",
    "outputId": "2ea4a933-c096-462f-b4f7-8a105474e9b4"
   },
   "outputs": [
    {
     "name": "stdout",
     "output_type": "stream",
     "text": [
      "Rozmiar:   (2, 3)\n",
      "Pojemność: 6\n",
      "Wymiar:    2\n"
     ]
    }
   ],
   "source": [
    "# opis macierzy\n",
    "print(f\"Rozmiar:   {M.shape}\")\n",
    "print(f\"Pojemność: {M.size}\")\n",
    "print(f\"Wymiar:    {M.ndim}\")"
   ]
  },
  {
   "cell_type": "code",
   "execution_count": 11,
   "metadata": {
    "colab": {
     "base_uri": "https://localhost:8080/"
    },
    "id": "R6BA6Yq9eYck",
    "outputId": "ec0d89d7-45e8-4a35-eb2b-acf1f7dbffb0"
   },
   "outputs": [
    {
     "data": {
      "text/plain": [
       "3"
      ]
     },
     "execution_count": 11,
     "metadata": {},
     "output_type": "execute_result"
    }
   ],
   "source": [
    "# dostęp do elementów macierzy \n",
    "M[0][2]\n",
    "M[0, 2]"
   ]
  },
  {
   "cell_type": "markdown",
   "metadata": {
    "id": "_9d8s7O7EYJD"
   },
   "source": [
    "# Tensor"
   ]
  },
  {
   "cell_type": "markdown",
   "metadata": {
    "id": "xLPVLPhZ6zjK"
   },
   "source": [
    "Tensor jako uogulnienie macierzy."
   ]
  },
  {
   "cell_type": "code",
   "execution_count": 13,
   "metadata": {
    "colab": {
     "base_uri": "https://localhost:8080/"
    },
    "id": "pPwhufqU69Sm",
    "outputId": "fa22b783-af3a-4e33-c87d-ec4f43398875"
   },
   "outputs": [
    {
     "data": {
      "text/plain": [
       "array([[[1. , 2. , 3.3],\n",
       "        [2. , 3. , 4. ]],\n",
       "\n",
       "       [[1. , 2. , 5. ],\n",
       "        [5. , 5. , 6. ]]])"
      ]
     },
     "execution_count": 13,
     "metadata": {},
     "output_type": "execute_result"
    }
   ],
   "source": [
    "T = np.array([\n",
    "              [[1, 2, 3.3], [2, 3, 4]], \n",
    "              [[1, 2, 5. ], [5, 5, 6]]\n",
    "              ])\n",
    "T"
   ]
  },
  {
   "cell_type": "code",
   "execution_count": 14,
   "metadata": {
    "colab": {
     "base_uri": "https://localhost:8080/"
    },
    "id": "4n_uxa_3EV8F",
    "outputId": "bdb86398-5bcc-4e4f-9507-51361d4d0182"
   },
   "outputs": [
    {
     "name": "stdout",
     "output_type": "stream",
     "text": [
      "Rozmiar:   (2, 2, 3)\n",
      "Pojemność: 12\n",
      "Wymiar:    3\n"
     ]
    }
   ],
   "source": [
    "# opis tensora\n",
    "print(f\"Rozmiar:   {T.shape}\")\n",
    "print(f\"Pojemność: {T.size}\")\n",
    "print(f\"Wymiar:    {T.ndim}\")"
   ]
  },
  {
   "cell_type": "code",
   "execution_count": 16,
   "metadata": {
    "colab": {
     "base_uri": "https://localhost:8080/"
    },
    "id": "6N6XnYH37Ml9",
    "outputId": "00ed9b34-2459-4fd5-8722-96fcf6428df7"
   },
   "outputs": [
    {
     "data": {
      "text/plain": [
       "3.0"
      ]
     },
     "execution_count": 16,
     "metadata": {},
     "output_type": "execute_result"
    }
   ],
   "source": [
    "# dostęp do elementów tensora\n",
    "T[0][1][1]\n",
    "T[0, 1, 1]"
   ]
  },
  {
   "cell_type": "markdown",
   "metadata": {
    "id": "Txr5UN0jxYR9"
   },
   "source": [
    "# Generowanie liczb losowych"
   ]
  },
  {
   "cell_type": "markdown",
   "metadata": {
    "id": "qfvwRBQITFcG"
   },
   "source": [
    "### Arange"
   ]
  },
  {
   "cell_type": "code",
   "execution_count": 19,
   "metadata": {
    "colab": {
     "base_uri": "https://localhost:8080/"
    },
    "id": "HcXGz517THRQ",
    "outputId": "f95c5d39-be39-4665-e302-51d85c3dd5f7"
   },
   "outputs": [
    {
     "data": {
      "text/plain": [
       "array([-1.1,  1. ,  3.1,  5.2,  7.3,  9.4])"
      ]
     },
     "execution_count": 19,
     "metadata": {},
     "output_type": "execute_result"
    }
   ],
   "source": [
    "np.arange(0, 10, 1.1)     # np.arange(od, do, krok)\n",
    "np.arange(-1.1, 10, 2.1)  # [-10; 10) - jako przedział od -1.1 domknięty (włącznie) do 10 otwarty (bez)"
   ]
  },
  {
   "cell_type": "markdown",
   "metadata": {
    "id": "baJ3hX-CTq30"
   },
   "source": [
    "### linspace"
   ]
  },
  {
   "cell_type": "code",
   "execution_count": 22,
   "metadata": {
    "colab": {
     "base_uri": "https://localhost:8080/"
    },
    "id": "gjCZ1FrvTZGS",
    "outputId": "1f7da809-5928-436d-b2c2-30402dc61d5c"
   },
   "outputs": [
    {
     "data": {
      "text/plain": [
       "array([-3.5       , -3.36097561, -3.22195122, -3.08292683, -2.94390244,\n",
       "       -2.80487805, -2.66585366, -2.52682927, -2.38780488, -2.24878049,\n",
       "       -2.1097561 , -1.97073171, -1.83170732, -1.69268293, -1.55365854,\n",
       "       -1.41463415, -1.27560976, -1.13658537, -0.99756098, -0.85853659,\n",
       "       -0.7195122 , -0.5804878 , -0.44146341, -0.30243902, -0.16341463,\n",
       "       -0.02439024,  0.11463415,  0.25365854,  0.39268293,  0.53170732,\n",
       "        0.67073171,  0.8097561 ,  0.94878049,  1.08780488,  1.22682927,\n",
       "        1.36585366,  1.50487805,  1.64390244,  1.78292683,  1.92195122,\n",
       "        2.06097561,  2.2       ])"
      ]
     },
     "execution_count": 22,
     "metadata": {},
     "output_type": "execute_result"
    }
   ],
   "source": [
    "np.linspace(0, 1, 100)      # np.linspace(od, do, ile_elementow) \n",
    "np.linspace(0, 1)           # domyślnie 50 elementów\n",
    "np.linspace(-3.5, 2.2, 42)  # [-3.5; 2.2) - jako przedział od -3.5 domknięty (włącznie) do 2.2 zamknięty (włącznie)"
   ]
  },
  {
   "cell_type": "markdown",
   "metadata": {
    "id": "gBNiKUntxbnX"
   },
   "source": [
    "### generowanie losowych macierzy o rokładzie normalnym"
   ]
  },
  {
   "cell_type": "code",
   "execution_count": 25,
   "metadata": {
    "colab": {
     "base_uri": "https://localhost:8080/"
    },
    "id": "vB8-hViWehc1",
    "outputId": "fb6fbf09-9184-440d-e0b2-569cae8b5996"
   },
   "outputs": [
    {
     "data": {
      "text/plain": [
       "array([[ 0.32758639,  0.61240378,  1.30595189],\n",
       "       [ 0.99130458,  1.62677712,  0.43302862],\n",
       "       [-0.74422505,  0.42649008, -1.57962388],\n",
       "       [ 0.49247748,  1.95458118, -0.69274676],\n",
       "       [ 0.66809002,  0.33463736, -0.22377171],\n",
       "       [ 1.31103357, -0.98014573, -0.14004721],\n",
       "       [ 0.58023366, -1.11000245,  0.44396384]])"
      ]
     },
     "execution_count": 25,
     "metadata": {},
     "output_type": "execute_result"
    }
   ],
   "source": [
    "# generowanie losowych macierzy o rokładzie normalnym\n",
    "N = np.random.normal()\n",
    "# loc -> średnia, domyślnie 0; \n",
    "# scale -> odchylenie standardowe, domyślnie 1.0  \n",
    "# size=None -> rozmiar macierzy, domyślnie None zwraca jedną liczbę\n",
    "N = np.random.normal(loc=0.0, scale=1.0, size=None)  \n",
    "N = np.random.normal(loc=1.3, scale=3.3, size=None)\n",
    "N = np.random.normal(size=10)\n",
    "N = np.random.normal(size=(7, 3))\n",
    "N"
   ]
  },
  {
   "cell_type": "markdown",
   "metadata": {
    "id": "5Kc187YMxfNt"
   },
   "source": [
    "### generowanie losowych macierzy o rokładzie normalnym N(0, 1)\n",
    "\n",
    "Rozkład normalny ze średnią 0 i odchylenie standardowym 1.0"
   ]
  },
  {
   "cell_type": "code",
   "execution_count": 28,
   "metadata": {
    "colab": {
     "base_uri": "https://localhost:8080/"
    },
    "id": "4d3ReCBjhc1g",
    "outputId": "913ee2c5-52d2-493a-d525-feee7d4b8a13"
   },
   "outputs": [
    {
     "data": {
      "text/plain": [
       "array([[-0.23745871,  1.65097649, -1.38004588],\n",
       "       [ 0.88911055,  0.55993274,  1.42688706],\n",
       "       [-0.06248623,  0.61980832, -0.42536074],\n",
       "       [-1.93156736,  1.04843176,  0.00821668],\n",
       "       [-0.1951918 , -0.18957509, -0.48379017],\n",
       "       [-1.17186065, -0.38824879,  0.08606223],\n",
       "       [ 0.06232316, -1.17060737, -1.81044042]])"
      ]
     },
     "execution_count": 28,
     "metadata": {},
     "output_type": "execute_result"
    }
   ],
   "source": [
    "# generowanie losowych macierzy o rokładzie normalnym N(0, 1)\n",
    "S = np.random.randn()\n",
    "S = np.random.randn(7)\n",
    "S = np.random.randn(7, 3)\n",
    "# S = np.random.randn((7, 3))  # TypeError: 'tuple' object cannot be interpreted as an integer\n",
    "S"
   ]
  },
  {
   "cell_type": "markdown",
   "metadata": {
    "id": "AHHZsf4txhqM"
   },
   "source": [
    "### generowanie losowych macierzy o rozkładzie jednostajnym"
   ]
  },
  {
   "cell_type": "code",
   "execution_count": null,
   "metadata": {
    "colab": {
     "base_uri": "https://localhost:8080/"
    },
    "id": "pICMD5pre8Cy",
    "outputId": "a92b9665-e8fb-448a-fc8e-6f92eec0fbce"
   },
   "outputs": [
    {
     "data": {
      "text/plain": [
       "array([[-0.35142401,  7.4894393 , -5.78652542],\n",
       "       [ 2.68112957, -1.77835536, -3.04838062],\n",
       "       [-2.86550373,  7.58781587, -5.39164775],\n",
       "       [-5.78938511, -8.3776769 ,  5.5326086 ],\n",
       "       [-4.14551219,  9.86371125, -2.29250064],\n",
       "       [-9.29010476,  6.74333671,  9.73381788],\n",
       "       [ 2.05451245, -1.39940554,  9.1608757 ]])"
      ]
     },
     "execution_count": 43,
     "metadata": {},
     "output_type": "execute_result"
    }
   ],
   "source": [
    "# generowanie losowych macierzy o rozkładzie jednostajnym\n",
    "U = np.random.uniform()\n",
    "U = np.random.uniform(low=0.0, high=1.0, size=None)\n",
    "U = np.random.uniform(low=-10, high=10, size=10)\n",
    "U = np.random.uniform(low=-10, high=10, size=(7, 3))\n",
    "U"
   ]
  },
  {
   "cell_type": "markdown",
   "metadata": {
    "id": "_jO4ST6zxmWC"
   },
   "source": [
    "### generowanie losowych macierzy o rozkładzie jednostajnym z przedziału [0; 1)"
   ]
  },
  {
   "cell_type": "code",
   "execution_count": null,
   "metadata": {
    "colab": {
     "base_uri": "https://localhost:8080/"
    },
    "id": "UL9OPBCTg9Ub",
    "outputId": "b69ce5de-cce8-449e-8f55-cb08e4c26770"
   },
   "outputs": [
    {
     "data": {
      "text/plain": [
       "array([[0.4458879 , 0.42163985, 0.86027965],\n",
       "       [0.02235496, 0.97346408, 0.48381846],\n",
       "       [0.78591924, 0.75948599, 0.48104678],\n",
       "       [0.08939513, 0.96209964, 0.8842537 ],\n",
       "       [0.41187312, 0.7278566 , 0.19183967],\n",
       "       [0.33189253, 0.9426456 , 0.40224286],\n",
       "       [0.96545215, 0.05376718, 0.15302145]])"
      ]
     },
     "execution_count": 44,
     "metadata": {},
     "output_type": "execute_result"
    }
   ],
   "source": [
    "# generowanie losowych macierzy o rozkładzie jednostajnym z przedziału [0; 1)\n",
    "R = np.random.random()\n",
    "R = np.random.random(size=10)\n",
    "R = np.random.random((7, 3))\n",
    "R"
   ]
  },
  {
   "cell_type": "markdown",
   "metadata": {
    "id": "1_smZXMxxpns"
   },
   "source": [
    "### generowanie losowych macierzy liczb czałkowitych o rozkładzie jednostajnym "
   ]
  },
  {
   "cell_type": "code",
   "execution_count": null,
   "metadata": {
    "colab": {
     "base_uri": "https://localhost:8080/"
    },
    "id": "qxx4Auktfo2s",
    "outputId": "2ca81d10-c7bf-425e-f52d-e48c3aeb65ef"
   },
   "outputs": [
    {
     "data": {
      "text/plain": [
       "array([[ 1,  3,  9],\n",
       "       [ 3,  4,  5],\n",
       "       [ 6, 11,  3],\n",
       "       [ 5,  6,  3],\n",
       "       [ 3,  3,  7],\n",
       "       [ 5,  5,  8],\n",
       "       [11,  5,  5]])"
      ]
     },
     "execution_count": 45,
     "metadata": {},
     "output_type": "execute_result"
    }
   ],
   "source": [
    "# generowanie losowych macierzy liczb czałkowitych o rozkładzie jednostajnym \n",
    "I = np.random.randint(10)  # jedna liczba z przedziału [0; 10)\n",
    "I = np.random.randint(low=10, high=12)  # np.random.randint(10, 12)\n",
    "I = np.random.randint(1, 12, size=10)\n",
    "I = np.random.randint(1, 12, size=(7, 3))\n",
    "I"
   ]
  },
  {
   "cell_type": "markdown",
   "metadata": {
    "id": "NL-JR_zMxre3"
   },
   "source": [
    "# Dostęp do elementów macierzy"
   ]
  },
  {
   "cell_type": "code",
   "execution_count": 30,
   "metadata": {
    "colab": {
     "base_uri": "https://localhost:8080/"
    },
    "id": "GIvsj3I3gKo4",
    "outputId": "4099756b-0233-4c3f-f849-d931d3ea161a"
   },
   "outputs": [
    {
     "data": {
      "text/plain": [
       "array([[-0.76, -0.7 ,  0.96,  0.16,  1.24, -1.71, -0.62],\n",
       "       [-0.18,  0.43,  1.97, -0.53, -1.24, -0.53,  2.08],\n",
       "       [ 0.63,  0.06, -1.15,  1.08,  0.2 ,  0.07,  0.05],\n",
       "       [-1.31,  1.42,  0.31, -0.1 , -0.38, -0.13,  0.18],\n",
       "       [ 0.86, -0.72,  1.04, -0.34, -0.99, -1.51, -0.78],\n",
       "       [ 0.3 ,  1.71, -0.43,  0.67,  0.52, -0.15,  0.61],\n",
       "       [ 1.1 , -0.62,  0.82, -1.4 , -2.22, -0.58, -0.72]])"
      ]
     },
     "execution_count": 30,
     "metadata": {},
     "output_type": "execute_result"
    }
   ],
   "source": [
    "X = np.random.randn(7, 7)\n",
    "X = np.round(X, 2)\n",
    "X"
   ]
  },
  {
   "cell_type": "markdown",
   "metadata": {
    "id": "chZ5Z07x_y9t"
   },
   "source": [
    "### Index"
   ]
  },
  {
   "cell_type": "code",
   "execution_count": 31,
   "metadata": {
    "colab": {
     "base_uri": "https://localhost:8080/"
    },
    "id": "fuUmjoOtiXc6",
    "outputId": "df8a5996-0398-4e95-abcc-46bdd7d21ed7"
   },
   "outputs": [
    {
     "data": {
      "text/plain": [
       "array([[-1.31,  1.42,  0.31, -0.1 , -0.38, -0.13,  0.18],\n",
       "       [-0.18,  0.43,  1.97, -0.53, -1.24, -0.53,  2.08],\n",
       "       [-0.76, -0.7 ,  0.96,  0.16,  1.24, -1.71, -0.62],\n",
       "       [-1.31,  1.42,  0.31, -0.1 , -0.38, -0.13,  0.18],\n",
       "       [-1.31,  1.42,  0.31, -0.1 , -0.38, -0.13,  0.18]])"
      ]
     },
     "execution_count": 31,
     "metadata": {},
     "output_type": "execute_result"
    }
   ],
   "source": [
    "# Index\n",
    "X[0]\n",
    "X[0, 1]\n",
    "X[:, 4]\n",
    "X[1, :]\n",
    "X[1:3]\n",
    "X[1:3, 0:4]\n",
    "# X[1:10]  !!!!\n",
    "X[-1]\n",
    "X[-2]\n",
    "X[4:-1, 2:-1]\n",
    "X[-3:-1, -4:-1]\n",
    "# X[[1, 3], ]  X[[1, 3], [2, 4]]  # uwaga\n",
    "X[::-1]\n",
    "X[[3, 1, 0, 3, 3]]"
   ]
  },
  {
   "cell_type": "code",
   "execution_count": 32,
   "metadata": {
    "colab": {
     "base_uri": "https://localhost:8080/"
    },
    "id": "pOOZQWmw_7y-",
    "outputId": "b0a3cad1-fa94-4261-9179-f6a465195496"
   },
   "outputs": [
    {
     "name": "stdout",
     "output_type": "stream",
     "text": [
      "[[-0.76 -0.7   0.96  0.16  1.24 -1.71 -0.62]\n",
      " [-0.18  0.43  1.97 -0.53 -1.24 -0.53  2.08]\n",
      " [ 0.63  0.06 -1.15  1.08  0.2   0.07  0.05]\n",
      " [-1.31  1.42  0.31 -0.1  -0.38 -0.13  0.18]\n",
      " [ 0.86 -0.72  1.04 -0.34 -0.99 -1.51 -0.78]\n",
      " [ 0.3   1.71 -0.43  0.67  0.52 -0.15  0.61]\n",
      " [ 1.1  -0.62  0.82 -1.4  -2.22 -0.58 -0.72]]\n",
      "\n",
      "[[ 1.1  -0.62  0.82 -1.4  -2.22 -0.58 -0.72]\n",
      " [ 0.3   1.71 -0.43  0.67  0.52 -0.15  0.61]\n",
      " [ 0.86 -0.72  1.04 -0.34 -0.99 -1.51 -0.78]\n",
      " [-1.31  1.42  0.31 -0.1  -0.38 -0.13  0.18]\n",
      " [ 0.63  0.06 -1.15  1.08  0.2   0.07  0.05]\n",
      " [-0.18  0.43  1.97 -0.53 -1.24 -0.53  2.08]\n",
      " [-0.76 -0.7   0.96  0.16  1.24 -1.71 -0.62]]\n",
      "\n",
      "[[-0.72 -0.58 -2.22 -1.4   0.82 -0.62  1.1 ]\n",
      " [ 0.61 -0.15  0.52  0.67 -0.43  1.71  0.3 ]\n",
      " [-0.78 -1.51 -0.99 -0.34  1.04 -0.72  0.86]\n",
      " [ 0.18 -0.13 -0.38 -0.1   0.31  1.42 -1.31]\n",
      " [ 0.05  0.07  0.2   1.08 -1.15  0.06  0.63]\n",
      " [ 2.08 -0.53 -1.24 -0.53  1.97  0.43 -0.18]\n",
      " [-0.62 -1.71  1.24  0.16  0.96 -0.7  -0.76]]\n"
     ]
    }
   ],
   "source": [
    "print(X)\n",
    "print()\n",
    "print(X[::-1])\n",
    "print()\n",
    "print(X[::-1, ::-1])"
   ]
  },
  {
   "cell_type": "code",
   "execution_count": 33,
   "metadata": {
    "colab": {
     "base_uri": "https://localhost:8080/"
    },
    "id": "o8eHzkfPAAHo",
    "outputId": "5502b447-d513-4bb2-ada1-8876e7d08f8e"
   },
   "outputs": [
    {
     "name": "stdout",
     "output_type": "stream",
     "text": [
      "[-0.18  0.43  1.97 -0.53 -1.24 -0.53  2.08]\n",
      "[ 2.08 -0.53 -1.24 -0.53  1.97  0.43 -0.18]\n"
     ]
    }
   ],
   "source": [
    "V = X[1]\n",
    "print(V)\n",
    "print(V[::-1])"
   ]
  },
  {
   "cell_type": "markdown",
   "metadata": {
    "id": "v6Q4-357yE7D"
   },
   "source": [
    "### Index warunkowy"
   ]
  },
  {
   "cell_type": "code",
   "execution_count": 34,
   "metadata": {
    "colab": {
     "base_uri": "https://localhost:8080/"
    },
    "id": "SSshHo-uii7f",
    "outputId": "2fc78526-b7f8-417f-9961-34e8571d65b8"
   },
   "outputs": [
    {
     "data": {
      "text/plain": [
       "array([98, 89, 90, 35, 48, 57, 95, 90, 51, 41, 44, 77, 82, 90, 15, 63, 28,\n",
       "       36, 95, 75])"
      ]
     },
     "execution_count": 34,
     "metadata": {},
     "output_type": "execute_result"
    }
   ],
   "source": [
    "wynik = np.random.randint(10, 100, size=20)\n",
    "wynik"
   ]
  },
  {
   "cell_type": "code",
   "execution_count": 39,
   "metadata": {
    "colab": {
     "base_uri": "https://localhost:8080/"
    },
    "id": "fYoc_gwwAPAh",
    "outputId": "77dad2fa-790e-4ad2-c38e-4142a341b0d1"
   },
   "outputs": [
    {
     "data": {
      "text/plain": [
       "array([98, 89, 90, 57, 95, 90, 51, 77, 82, 90, 63, 95, 75])"
      ]
     },
     "execution_count": 39,
     "metadata": {},
     "output_type": "execute_result"
    }
   ],
   "source": [
    "wynik[wynik>50]"
   ]
  },
  {
   "cell_type": "code",
   "execution_count": 40,
   "metadata": {
    "colab": {
     "base_uri": "https://localhost:8080/"
    },
    "id": "-Sv92ZKLAKOz",
    "outputId": "284520c5-1e8b-4541-8c7f-84ee0618e054"
   },
   "outputs": [
    {
     "data": {
      "text/plain": [
       "array([ True,  True,  True, False, False,  True,  True,  True,  True,\n",
       "       False, False,  True,  True,  True, False,  True, False, False,\n",
       "        True,  True])"
      ]
     },
     "execution_count": 40,
     "metadata": {},
     "output_type": "execute_result"
    }
   ],
   "source": [
    "w = wynik > 50\n",
    "w"
   ]
  },
  {
   "cell_type": "code",
   "execution_count": 41,
   "metadata": {
    "colab": {
     "base_uri": "https://localhost:8080/"
    },
    "id": "K8nHCzAkjY_S",
    "outputId": "3e3dd528-b2ca-4f16-c9dd-12119e5967d8"
   },
   "outputs": [
    {
     "name": "stdout",
     "output_type": "stream",
     "text": [
      "[98 89 90 57 95 90 51 77 82 90 63 95 75]\n",
      "[35 48 41 44 15 28 36]\n"
     ]
    }
   ],
   "source": [
    "print(wynik[w])\n",
    "print(wynik[~w])  # zaprzeczenie w (~ tylda)\n"
   ]
  },
  {
   "cell_type": "markdown",
   "metadata": {
    "id": "fbCUmN8tAhQB"
   },
   "source": [
    "### funkcja `np.where()`\n"
   ]
  },
  {
   "cell_type": "code",
   "execution_count": 42,
   "metadata": {
    "colab": {
     "base_uri": "https://localhost:8080/"
    },
    "id": "czLtEcJOjo0A",
    "outputId": "95f2d3bf-8ba0-4b15-d115-29730f305189"
   },
   "outputs": [
    {
     "name": "stdout",
     "output_type": "stream",
     "text": [
      "(array([ 0,  1,  2,  5,  6,  7,  8, 11, 12, 13, 15, 18, 19]),)\n"
     ]
    },
    {
     "data": {
      "text/plain": [
       "array([98, 89, 90, 57, 95, 90, 51, 77, 82, 90, 63, 95, 75])"
      ]
     },
     "execution_count": 42,
     "metadata": {},
     "output_type": "execute_result"
    }
   ],
   "source": [
    "idx = np.where(w)  # np.where(wynik>50)\n",
    "print(idx)\n",
    "wynik[idx]  # wynik[[0, 2, 3... ]]"
   ]
  },
  {
   "cell_type": "code",
   "execution_count": 44,
   "metadata": {
    "colab": {
     "base_uri": "https://localhost:8080/"
    },
    "id": "MbSysKTRAt5W",
    "outputId": "ac2d7687-923a-4c60-a0fc-09f5a91861b5"
   },
   "outputs": [
    {
     "name": "stdout",
     "output_type": "stream",
     "text": [
      "[1 1 1 0 0 1 1 1 1 0 0 1 1 1 0 1 0 0 1 1]\n",
      "[ 98  89  90 -35 -48  57  95  90  51 -41 -44  77  82  90 -15  63 -28 -36\n",
      "  95  75]\n"
     ]
    }
   ],
   "source": [
    "print(np.where(w, 1, 0))\n",
    "print(np.where(w, wynik, -wynik))"
   ]
  },
  {
   "cell_type": "code",
   "execution_count": 45,
   "metadata": {
    "colab": {
     "base_uri": "https://localhost:8080/"
    },
    "id": "znGgXd8TkXH_",
    "outputId": "15dede7f-e1ac-4bec-9943-c446460f34b2"
   },
   "outputs": [
    {
     "data": {
      "text/plain": [
       "array([   9.89949494,    9.43398113,    9.48683298, 1225.        ,\n",
       "       2304.        ,    7.54983444,    9.74679434,    9.48683298,\n",
       "          7.14142843, 1681.        , 1936.        ,    8.77496439,\n",
       "          9.05538514,    9.48683298,  225.        ,    7.93725393,\n",
       "        784.        , 1296.        ,    9.74679434,    8.66025404])"
      ]
     },
     "execution_count": 45,
     "metadata": {},
     "output_type": "execute_result"
    }
   ],
   "source": [
    "np.where(wynik>50, np.sqrt(wynik), wynik ** 2)"
   ]
  },
  {
   "cell_type": "markdown",
   "metadata": {
    "id": "IyKbVJr7yKyY"
   },
   "source": [
    "# Operacje na macierzach"
   ]
  },
  {
   "cell_type": "code",
   "execution_count": 47,
   "metadata": {
    "colab": {
     "base_uri": "https://localhost:8080/"
    },
    "id": "S__LVXUcktPe",
    "outputId": "643f87f1-fee4-4d6c-fc37-1c6271916975"
   },
   "outputs": [
    {
     "name": "stdout",
     "output_type": "stream",
     "text": [
      "[[1 4 6 2]\n",
      " [4 9 8 1]\n",
      " [9 3 8 9]]\n",
      "\n",
      "[[3 0 9 5]\n",
      " [1 4 2 2]\n",
      " [2 6 3 6]]\n"
     ]
    }
   ],
   "source": [
    "X = np.random.randint(0, 10, size=(3, 4))\n",
    "Y = np.random.randint(0, 10, size=(3, 4))\n",
    "print(X)\n",
    "print()\n",
    "print(Y)"
   ]
  },
  {
   "cell_type": "markdown",
   "metadata": {
    "id": "9OA1d5qzSQaG"
   },
   "source": [
    "### Dodawanie / odejmowanie"
   ]
  },
  {
   "cell_type": "code",
   "execution_count": 48,
   "metadata": {
    "colab": {
     "base_uri": "https://localhost:8080/"
    },
    "id": "5s_7x5IhA8nE",
    "outputId": "1c0a35eb-e9f5-4b16-bddb-1f39617a7c34"
   },
   "outputs": [
    {
     "data": {
      "text/plain": [
       "array([[ 1.71, -1.29, -3.29,  0.71],\n",
       "       [-1.29, -6.29, -5.29,  1.71],\n",
       "       [-6.29, -0.29, -5.29, -6.29]])"
      ]
     },
     "execution_count": 48,
     "metadata": {},
     "output_type": "execute_result"
    }
   ],
   "source": [
    "X + 3.14 \n",
    "3.14 + X\n",
    "X - 2.71\n",
    "2.71 - X"
   ]
  },
  {
   "cell_type": "code",
   "execution_count": 49,
   "metadata": {
    "colab": {
     "base_uri": "https://localhost:8080/"
    },
    "id": "cJT5les-BC48",
    "outputId": "115d69c0-194b-40bc-ad63-5dda1aec2395"
   },
   "outputs": [
    {
     "data": {
      "text/plain": [
       "array([[-2,  4, -3, -3],\n",
       "       [ 3,  5,  6, -1],\n",
       "       [ 7, -3,  5,  3]])"
      ]
     },
     "execution_count": 49,
     "metadata": {},
     "output_type": "execute_result"
    }
   ],
   "source": [
    "X + Y\n",
    "np.add(X, Y)\n",
    "# X + Y[0:2]  # ValueError: operands could not be broadcast together with shapes (3,4) (2,4) \n",
    "X - Y\n",
    "np.subtract(X, Y)"
   ]
  },
  {
   "cell_type": "markdown",
   "metadata": {
    "id": "clJaYoSwSUXA"
   },
   "source": [
    "### Mnożenie"
   ]
  },
  {
   "cell_type": "code",
   "execution_count": 50,
   "metadata": {
    "colab": {
     "base_uri": "https://localhost:8080/"
    },
    "id": "GIR-IMPToBTy",
    "outputId": "0bfaab40-4c15-46b1-cdff-cee09828ca9b"
   },
   "outputs": [
    {
     "data": {
      "text/plain": [
       "array([[ 3,  0, 54, 10],\n",
       "       [ 4, 36, 16,  2],\n",
       "       [18, 18, 24, 54]])"
      ]
     },
     "execution_count": 50,
     "metadata": {},
     "output_type": "execute_result"
    }
   ],
   "source": [
    "10 * X\n",
    "X * 10\n",
    "X * Y\n",
    "Y * X"
   ]
  },
  {
   "cell_type": "code",
   "execution_count": 51,
   "metadata": {
    "colab": {
     "base_uri": "https://localhost:8080/"
    },
    "id": "ULPNDrPVBTcR",
    "outputId": "b2bddf9d-8688-4b29-bccf-2a906b3b81f8"
   },
   "outputs": [
    {
     "name": "stdout",
     "output_type": "stream",
     "text": [
      "[[1 4 6 2]\n",
      " [4 9 8 1]\n",
      " [9 3 8 9]]\n",
      "\n",
      "[[3 0 9 5]\n",
      " [1 4 2 2]\n",
      " [2 6 3 6]]\n"
     ]
    }
   ],
   "source": [
    "# mnożenie \"algebraiczne\"\n",
    "print(X)\n",
    "print()\n",
    "print(Y)\n",
    "\n",
    "# X.dot(Y)  # ValueError: shapes (3,4) and (3,4) not aligned: 4 (dim 1) != 3 (dim 0)"
   ]
  },
  {
   "cell_type": "markdown",
   "metadata": {
    "id": "6a6PShIgBcGW"
   },
   "source": [
    "##### Transpozycja"
   ]
  },
  {
   "cell_type": "code",
   "execution_count": 52,
   "metadata": {
    "colab": {
     "base_uri": "https://localhost:8080/"
    },
    "id": "IpzYvnnVShGz",
    "outputId": "61f6d479-3732-4508-dd53-50760a464347"
   },
   "outputs": [
    {
     "name": "stdout",
     "output_type": "stream",
     "text": [
      "[[1 4 6 2]\n",
      " [4 9 8 1]\n",
      " [9 3 8 9]]\n"
     ]
    },
    {
     "data": {
      "text/plain": [
       "array([[25, 70, 44, 67],\n",
       "       [27, 54, 63, 56],\n",
       "       [42, 80, 94, 94],\n",
       "       [25, 58, 47, 66]])"
      ]
     },
     "execution_count": 52,
     "metadata": {},
     "output_type": "execute_result"
    }
   ],
   "source": [
    "# Transpozycja\n",
    "print(X)\n",
    "X.T.dot(Y)"
   ]
  },
  {
   "cell_type": "code",
   "execution_count": 53,
   "metadata": {
    "colab": {
     "base_uri": "https://localhost:8080/"
    },
    "id": "Uk25FyzKBe3h",
    "outputId": "2eb405c0-4a92-4cb7-c48f-924598283cca"
   },
   "outputs": [
    {
     "data": {
      "text/plain": [
       "array([[ 67,  33,  56],\n",
       "       [ 89,  58,  92],\n",
       "       [144,  55, 114]])"
      ]
     },
     "execution_count": 53,
     "metadata": {},
     "output_type": "execute_result"
    }
   ],
   "source": [
    "X.dot(Y.T)"
   ]
  },
  {
   "cell_type": "code",
   "execution_count": 54,
   "metadata": {
    "colab": {
     "base_uri": "https://localhost:8080/"
    },
    "id": "U1tDci_UBhUA",
    "outputId": "0648ce80-cfe3-4b7b-811f-f424a85cbb0e"
   },
   "outputs": [
    {
     "name": "stdout",
     "output_type": "stream",
     "text": [
      "[[1 4 6 2]\n",
      " [4 9 8 1]\n",
      " [9 3 8 9]]\n",
      "\n",
      "[[3 1 2]\n",
      " [0 4 6]\n",
      " [9 2 3]\n",
      " [5 2 6]]\n"
     ]
    }
   ],
   "source": [
    "# mnożenie macierzy nie jest przemienne\n",
    "print(X)\n",
    "Z = Y.T\n",
    "print()\n",
    "print(Z)"
   ]
  },
  {
   "cell_type": "code",
   "execution_count": 55,
   "metadata": {
    "colab": {
     "base_uri": "https://localhost:8080/"
    },
    "id": "bzJDUEbtBpg9",
    "outputId": "fef34b97-1aa7-4830-a4c4-3beaae856449"
   },
   "outputs": [
    {
     "name": "stdout",
     "output_type": "stream",
     "text": [
      "[[ 67  33  56]\n",
      " [ 89  58  92]\n",
      " [144  55 114]]\n",
      "\n",
      "[[25 27 42 25]\n",
      " [70 54 80 58]\n",
      " [44 63 94 47]\n",
      " [67 56 94 66]]\n"
     ]
    }
   ],
   "source": [
    "print(X.dot(Z))\n",
    "print()\n",
    "print(Z.dot(X))"
   ]
  },
  {
   "cell_type": "markdown",
   "metadata": {
    "id": "0lvTEbW7SZoB"
   },
   "source": [
    "### Macierz odwrotna\n",
    "\n",
    "Macierz odwrotna do macierzy `A`, jest to taka macierz `B`, że po pomnożeniu macierzy `A`. przez macierz `B` dostaniemy element neutralny, czyli macierz `I` z `1` na przekątnej (diabonali) i `0`."
   ]
  },
  {
   "cell_type": "code",
   "execution_count": 58,
   "metadata": {
    "colab": {
     "base_uri": "https://localhost:8080/"
    },
    "id": "_3rk8cttopUG",
    "outputId": "d9111f08-e47b-443b-d7cb-70b0c3e5c01c"
   },
   "outputs": [
    {
     "data": {
      "text/plain": [
       "array([[-0.125     , -0.125     ,  0.20833333],\n",
       "       [ 0.6875    ,  0.1875    , -0.47916667],\n",
       "       [-1.        , -0.        ,  0.66666667]])"
      ]
     },
     "execution_count": 58,
     "metadata": {},
     "output_type": "execute_result"
    }
   ],
   "source": [
    "A2d = np.random.randint(0, 10, size=(3, 3))\n",
    "A2d_odwrotna = np.linalg.inv(A2d)\n",
    "A2d_odwrotna"
   ]
  },
  {
   "cell_type": "code",
   "execution_count": 64,
   "metadata": {
    "colab": {
     "base_uri": "https://localhost:8080/"
    },
    "id": "sUdw--81B3EO",
    "outputId": "44e7050e-fd95-4496-b4c8-ff7a208c1665"
   },
   "outputs": [
    {
     "name": "stdout",
     "output_type": "stream",
     "text": [
      "[[1. 0. 0.]\n",
      " [0. 1. 0.]\n",
      " [0. 0. 1.]]\n",
      "\n",
      "[[ 1. -0. -0.]\n",
      " [ 0.  1.  0.]\n",
      " [-0. -0.  1.]]\n"
     ]
    }
   ],
   "source": [
    "print(np.round(A2d.dot(A2d_odwrotna)))\n",
    "print()\n",
    "print(np.round(A2d_odwrotna.dot(A2d)))"
   ]
  },
  {
   "cell_type": "markdown",
   "metadata": {
    "id": "SbfsFB5pSuKS"
   },
   "source": [
    "### Przekątna/Diagonala"
   ]
  },
  {
   "cell_type": "code",
   "execution_count": 67,
   "metadata": {
    "colab": {
     "base_uri": "https://localhost:8080/"
    },
    "id": "i7S3ZPrrStur",
    "outputId": "8610b5b9-5b4a-4a74-8326-a6b15c3008bd"
   },
   "outputs": [
    {
     "data": {
      "text/plain": [
       "array([6, 6, 3])"
      ]
     },
     "execution_count": 67,
     "metadata": {},
     "output_type": "execute_result"
    }
   ],
   "source": [
    "A2d.diagonal()"
   ]
  },
  {
   "cell_type": "code",
   "execution_count": 68,
   "metadata": {
    "colab": {
     "base_uri": "https://localhost:8080/"
    },
    "id": "lxzdXPJ3EV3W",
    "outputId": "48926767-f8b8-4c33-c998-c6e004ed5659"
   },
   "outputs": [
    {
     "data": {
      "text/plain": [
       "15"
      ]
     },
     "execution_count": 68,
     "metadata": {},
     "output_type": "execute_result"
    }
   ],
   "source": [
    "# ślad macierzy\n",
    "A2d.diagonal().sum()"
   ]
  },
  {
   "cell_type": "markdown",
   "metadata": {
    "id": "VrUebu_zyQ4v"
   },
   "source": [
    "# zmina kształtu macierzy"
   ]
  },
  {
   "cell_type": "code",
   "execution_count": 69,
   "metadata": {
    "colab": {
     "base_uri": "https://localhost:8080/"
    },
    "id": "NxrXAizNpDbc",
    "outputId": "807b919c-3a40-4d9e-8354-3dc221a68ea6"
   },
   "outputs": [
    {
     "data": {
      "text/plain": [
       "array([-10,   3,  -1,  -8,   0,   7,   1,  -8,  -1,  -2,  -3, -10,   0,\n",
       "        -5,  -4,   9,  -1,  -9,   4,   0,   4, -10,   6,  -2])"
      ]
     },
     "execution_count": 69,
     "metadata": {},
     "output_type": "execute_result"
    }
   ],
   "source": [
    "C = np.random.randint(-10, 10, 24)\n",
    "C"
   ]
  },
  {
   "cell_type": "code",
   "execution_count": 73,
   "metadata": {
    "colab": {
     "base_uri": "https://localhost:8080/"
    },
    "id": "EPfHVY1opS0s",
    "outputId": "6c90964c-2ac1-4678-9f8f-73263f422305"
   },
   "outputs": [
    {
     "name": "stdout",
     "output_type": "stream",
     "text": [
      "Warunek True\n"
     ]
    },
    {
     "data": {
      "text/plain": [
       "array([[[[-10,   3],\n",
       "         [ -1,  -8]],\n",
       "\n",
       "        [[  0,   7],\n",
       "         [  1,  -8]]],\n",
       "\n",
       "\n",
       "       [[[ -1,  -2],\n",
       "         [ -3, -10]],\n",
       "\n",
       "        [[  0,  -5],\n",
       "         [ -4,   9]]],\n",
       "\n",
       "\n",
       "       [[[ -1,  -9],\n",
       "         [  4,   0]],\n",
       "\n",
       "        [[  4, -10],\n",
       "         [  6,  -2]]]])"
      ]
     },
     "execution_count": 73,
     "metadata": {},
     "output_type": "execute_result"
    }
   ],
   "source": [
    "C.reshape(6, 4)\n",
    "C.reshape(4, 6)\n",
    "# C.reshape(5, 2)  ValueError: cannot reshape array of size 24 into shape (5,2)\n",
    "print(f\"Warunek {sum(C.shape) == C.size}\")\n",
    "C.reshape(3, 2, 2, 2)"
   ]
  },
  {
   "cell_type": "code",
   "execution_count": 75,
   "metadata": {
    "colab": {
     "base_uri": "https://localhost:8080/"
    },
    "id": "g059V3LoE5dH",
    "outputId": "cc89623a-4140-4c1c-e40b-b2861b020bb3"
   },
   "outputs": [
    {
     "data": {
      "text/plain": [
       "array([[-10,   3,  -1,  -8,   0,   7],\n",
       "       [  1,  -8,  -1,  -2,  -3, -10],\n",
       "       [  0,  -5,  -4,   9,  -1,  -9],\n",
       "       [  4,   0,   4, -10,   6,  -2]])"
      ]
     },
     "execution_count": 75,
     "metadata": {},
     "output_type": "execute_result"
    }
   ],
   "source": [
    "C.reshape(6, -1)\n",
    "C.reshape(-1, 6)"
   ]
  },
  {
   "cell_type": "code",
   "execution_count": 74,
   "metadata": {
    "colab": {
     "base_uri": "https://localhost:8080/"
    },
    "id": "BIKZrBpyEhLq",
    "outputId": "486b23b4-fd82-4cce-b896-4317a40dd98f"
   },
   "outputs": [
    {
     "data": {
      "text/plain": [
       "array([[-10],\n",
       "       [  3],\n",
       "       [ -1],\n",
       "       [ -8],\n",
       "       [  0],\n",
       "       [  7],\n",
       "       [  1],\n",
       "       [ -8],\n",
       "       [ -1],\n",
       "       [ -2],\n",
       "       [ -3],\n",
       "       [-10],\n",
       "       [  0],\n",
       "       [ -5],\n",
       "       [ -4],\n",
       "       [  9],\n",
       "       [ -1],\n",
       "       [ -9],\n",
       "       [  4],\n",
       "       [  0],\n",
       "       [  4],\n",
       "       [-10],\n",
       "       [  6],\n",
       "       [ -2]])"
      ]
     },
     "execution_count": 74,
     "metadata": {},
     "output_type": "execute_result"
    }
   ],
   "source": [
    "C.reshape(4, -1)\n",
    "C.reshape(-1, 4)\n",
    "C.reshape(-1, 12)\n",
    "C.reshape(-1, 1)"
   ]
  },
  {
   "cell_type": "code",
   "execution_count": 76,
   "metadata": {
    "colab": {
     "base_uri": "https://localhost:8080/"
    },
    "id": "qpmG8weQqMcW",
    "outputId": "d4fbb8cc-7149-4a06-d9ba-f2619fb5171e"
   },
   "outputs": [
    {
     "name": "stdout",
     "output_type": "stream",
     "text": [
      "[-10   3  -1  -8   0   7   1  -8  -1  -2  -3 -10   0  -5  -4   9  -1  -9\n",
      "   4   0   4 -10   6  -2]\n",
      "\n",
      "[[-10   3  -1  -8]\n",
      " [  0   7   1  -8]\n",
      " [ -1  -2  -3 -10]\n",
      " [  0  -5  -4   9]\n",
      " [ -1  -9   4   0]\n",
      " [  4 -10   6  -2]]\n",
      "\n"
     ]
    },
    {
     "data": {
      "text/plain": [
       "array([-10,   3,  -1,  -8,   0,   7,   1,  -8,  -1,  -2,  -3, -10,   0,\n",
       "        -5,  -4,   9,  -1,  -9,   4,   0,   4, -10,   6,  -2])"
      ]
     },
     "execution_count": 76,
     "metadata": {},
     "output_type": "execute_result"
    }
   ],
   "source": [
    "print(C)\n",
    "C1 = C.reshape(6, 4)\n",
    "print()\n",
    "print(C1)\n",
    "print()\n",
    "C1.flatten()"
   ]
  },
  {
   "cell_type": "code",
   "execution_count": null,
   "metadata": {
    "colab": {
     "base_uri": "https://localhost:8080/"
    },
    "id": "lHBM9B8ZqsoF",
    "outputId": "8c301c79-f7fa-4e15-b946-5b9c2a87b102"
   },
   "outputs": [
    {
     "data": {
      "text/plain": [
       "array([[-10,   3,   9,   4],\n",
       "       [  8,   2, -10,   3],\n",
       "       [  7,   1,  -3,   5],\n",
       "       [  1,   3,   4,  -5],\n",
       "       [-10,  -3,   7,  -4],\n",
       "       [  4,   4,   6,   5]])"
      ]
     },
     "execution_count": 187,
     "metadata": {},
     "output_type": "execute_result"
    }
   ],
   "source": [
    "C1"
   ]
  },
  {
   "cell_type": "code",
   "execution_count": 77,
   "metadata": {
    "colab": {
     "base_uri": "https://localhost:8080/"
    },
    "id": "NcjtvfwfFCDG",
    "outputId": "dbfc68eb-539e-4f49-b80d-4bf21d51377a"
   },
   "outputs": [
    {
     "data": {
      "text/plain": [
       "array([-10,   3,  -1,  -8,   0,   7,   1,  -8,  -1,  -2,  -3, -10,   0,\n",
       "        -5,  -4,   9,  -1,  -9,   4,   0,   4, -10,   6,  -2])"
      ]
     },
     "execution_count": 77,
     "metadata": {},
     "output_type": "execute_result"
    }
   ],
   "source": [
    "C.reshape(3, 2, 2, 2).flatten()"
   ]
  },
  {
   "cell_type": "markdown",
   "metadata": {
    "id": "iq-9D5MJFJvZ"
   },
   "source": [
    "# Zagadnienie regresji"
   ]
  },
  {
   "cell_type": "code",
   "execution_count": 131,
   "metadata": {
    "id": "6lv5XFs7FMP8"
   },
   "outputs": [],
   "source": [
    "import numpy as np\n",
    "import matplotlib.pyplot as plt\n",
    "\n",
    "\n",
    "X = np.random.uniform(0, 10, size=(50))\n",
    "noise = np.random.randn(X.size)\n",
    "a, b = 3, 5\n",
    "Y_true = a * X + b\n",
    "Y = a * X + b + noise\n",
    "Yt = Y.reshape(-1, 1)  # Y musi być wektorem kolu`mnowym\n",
    "\n",
    "Xr = X.reshape(-1, 1)\n",
    "Ib = np.ones(X.size).reshape(-1, 1)\n",
    "Xc = np.concatenate([Ib, Xr], axis=1)\n"
   ]
  },
  {
   "cell_type": "code",
   "execution_count": 132,
   "metadata": {
    "colab": {
     "base_uri": "https://localhost:8080/"
    },
    "id": "X-y9AiR7Flqi",
    "outputId": "91473db6-eba9-47ff-a188-f4c4cd3dcfdf"
   },
   "outputs": [
    {
     "name": "stdout",
     "output_type": "stream",
     "text": [
      "Parametr a: wartość prawdziwa: 3 wartość estymowana: [3.06363338]\n",
      "Parametr b: wartość prawdziwa: 5 wartość estymowana: [4.60246218]\n"
     ]
    }
   ],
   "source": [
    "est_param = np.linalg.inv(Xc.T.dot(Xc)).dot(Xc.T).dot(Yt)\n",
    "b_est = est_param[0]\n",
    "a_est = est_param[1]\n",
    "print(f\"Parametr a: wartość prawdziwa: {a} wartość estymowana: {a_est}\")\n",
    "print(f\"Parametr b: wartość prawdziwa: {b} wartość estymowana: {b_est}\")"
   ]
  },
  {
   "cell_type": "code",
   "execution_count": 133,
   "metadata": {
    "id": "SlcKxzCJGmx_"
   },
   "outputs": [],
   "source": [
    "# funkcja estymowana\n",
    "Y_est = a_est * X + b_est"
   ]
  },
  {
   "cell_type": "code",
   "execution_count": 134,
   "metadata": {
    "colab": {
     "base_uri": "https://localhost:8080/",
     "height": 428
    },
    "id": "qZltiIOpGKAR",
    "outputId": "ef5efdaa-2c57-4f01-b4ee-99fda4666472"
   },
   "outputs": [
    {
     "data": {
      "image/png": "[encoded data removed]",
      "text/plain": [
       "<Figure size 720x504 with 1 Axes>"
      ]
     },
     "metadata": {
      "needs_background": "light"
     },
     "output_type": "display_data"
    }
   ],
   "source": [
    "plt.figure(figsize=(10, 7))\n",
    "plt.scatter(X, Y, alpha=0.7, s=1, label='obserwacje')\n",
    "plt.plot(X, Y_true, color='red', label='funkcja teoretyczna', alpha=0.7)  # teoretyczna funkcja\n",
    "plt.plot(X, Y_est, color='orange', label='funkcja estymowana', alpha=0.7)  # estymowana funkcja\n",
    "plt.legend()\n",
    "plt.show()"
   ]
  }
 ],
 "metadata": {
  "colab": {
   "collapsed_sections": [],
   "name": "Stats I Prob.ipynb",
   "provenance": []
  },
  "kernelspec": {
   "display_name": "Python 3 (ipykernel)",
   "language": "python",
   "name": "python3"
  },
  "language_info": {
   "codemirror_mode": {
    "name": "ipython",
    "version": 3
   },
   "file_extension": ".py",
   "mimetype": "text/x-python",
   "name": "python",
   "nbconvert_exporter": "python",
   "pygments_lexer": "ipython3",
   "version": "3.9.4"
  }
 },
 "nbformat": 4,
 "nbformat_minor": 4
}
